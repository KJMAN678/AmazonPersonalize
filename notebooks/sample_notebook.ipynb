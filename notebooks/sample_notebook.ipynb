{
 "cells": [
  {
   "cell_type": "code",
   "execution_count": 1,
   "id": "554aed30-42ef-46da-83ed-cfba56abe432",
   "metadata": {},
   "outputs": [],
   "source": [
    "import pandas as pd\n",
    "import json\n",
    "import numpy as np\n",
    "from datetime import datetime\n",
    "import boto3\n",
    "import time\n",
    "from time import sleep\n",
    "from lxml import html\n",
    "import os"
   ]
  },
  {
   "cell_type": "markdown",
   "id": "b9976049-dbdf-4fef-9584-28b032dabf15",
   "metadata": {},
   "source": [
    "### Amazon のデータをダウンロード"
   ]
  },
  {
   "cell_type": "code",
   "execution_count": 2,
   "id": "b90b941c-0aa5-4459-a8af-43738fd474b4",
   "metadata": {},
   "outputs": [],
   "source": [
    "data_dir = 'raw_data'\n",
    "\n",
    "if not os.path.exists(\"raw_data\"):\n",
    "    !mkdir $data_dir\n",
    "\n",
    "if not os.path.exists(\"raw_data/meta_Prime_Pantry.json.gz\"):\n",
    "    !cd $data_dir && \\\n",
    "        wget --tries=3 http://jmcauley.ucsd.edu/data/amazon_v2/categoryFiles/Prime_Pantry.json.gz && \\\n",
    "        wget --tries=3 http://jmcauley.ucsd.edu/data/amazon_v2/metaFiles2/meta_Prime_Pantry.json.gz"
   ]
  },
  {
   "cell_type": "markdown",
   "id": "b4286593-b523-403e-b8e1-fc1e2d8373b8",
   "metadata": {},
   "source": [
    "### データ読み込み"
   ]
  },
  {
   "cell_type": "code",
   "execution_count": 3,
   "id": "680412c3-0bcf-4e9e-a442-430d79d52786",
   "metadata": {},
   "outputs": [
    {
     "data": {
      "text/html": [
       "<div>\n",
       "<style scoped>\n",
       "    .dataframe tbody tr th:only-of-type {\n",
       "        vertical-align: middle;\n",
       "    }\n",
       "\n",
       "    .dataframe tbody tr th {\n",
       "        vertical-align: top;\n",
       "    }\n",
       "\n",
       "    .dataframe thead th {\n",
       "        text-align: right;\n",
       "    }\n",
       "</style>\n",
       "<table border=\"1\" class=\"dataframe\">\n",
       "  <thead>\n",
       "    <tr style=\"text-align: right;\">\n",
       "      <th></th>\n",
       "      <th>overall</th>\n",
       "      <th>verified</th>\n",
       "      <th>reviewTime</th>\n",
       "      <th>reviewerID</th>\n",
       "      <th>asin</th>\n",
       "      <th>reviewerName</th>\n",
       "      <th>reviewText</th>\n",
       "      <th>summary</th>\n",
       "      <th>unixReviewTime</th>\n",
       "      <th>vote</th>\n",
       "      <th>image</th>\n",
       "      <th>style</th>\n",
       "    </tr>\n",
       "  </thead>\n",
       "  <tbody>\n",
       "    <tr>\n",
       "      <th>0</th>\n",
       "      <td>5</td>\n",
       "      <td>True</td>\n",
       "      <td>12 14, 2014</td>\n",
       "      <td>A1NKJW0TNRVS7O</td>\n",
       "      <td>B0000DIWNZ</td>\n",
       "      <td>Tamara M.</td>\n",
       "      <td>Good clinging</td>\n",
       "      <td>Clings  well</td>\n",
       "      <td>1418515200</td>\n",
       "      <td>NaN</td>\n",
       "      <td>NaN</td>\n",
       "      <td>NaN</td>\n",
       "    </tr>\n",
       "    <tr>\n",
       "      <th>1</th>\n",
       "      <td>4</td>\n",
       "      <td>True</td>\n",
       "      <td>11 20, 2014</td>\n",
       "      <td>A2L6X37E8TFTCC</td>\n",
       "      <td>B0000DIWNZ</td>\n",
       "      <td>Amazon Customer</td>\n",
       "      <td>Fantastic buy and a good plastic wrap.  Even t...</td>\n",
       "      <td>Saran could use more Plus to Cling better.</td>\n",
       "      <td>1416441600</td>\n",
       "      <td>NaN</td>\n",
       "      <td>NaN</td>\n",
       "      <td>NaN</td>\n",
       "    </tr>\n",
       "    <tr>\n",
       "      <th>2</th>\n",
       "      <td>4</td>\n",
       "      <td>True</td>\n",
       "      <td>10 11, 2014</td>\n",
       "      <td>A2WPR4W6V48121</td>\n",
       "      <td>B0000DIWNZ</td>\n",
       "      <td>noname</td>\n",
       "      <td>ok</td>\n",
       "      <td>Four Stars</td>\n",
       "      <td>1412985600</td>\n",
       "      <td>NaN</td>\n",
       "      <td>NaN</td>\n",
       "      <td>NaN</td>\n",
       "    </tr>\n",
       "    <tr>\n",
       "      <th>3</th>\n",
       "      <td>3</td>\n",
       "      <td>False</td>\n",
       "      <td>09 1, 2014</td>\n",
       "      <td>A27EE7X7L29UMU</td>\n",
       "      <td>B0000DIWNZ</td>\n",
       "      <td>ZapNZs</td>\n",
       "      <td>Saran Cling Plus is kind of like most of the C...</td>\n",
       "      <td>The wrap is fantastic, but the dispensing, cut...</td>\n",
       "      <td>1409529600</td>\n",
       "      <td>4</td>\n",
       "      <td>NaN</td>\n",
       "      <td>NaN</td>\n",
       "    </tr>\n",
       "    <tr>\n",
       "      <th>4</th>\n",
       "      <td>4</td>\n",
       "      <td>True</td>\n",
       "      <td>08 10, 2014</td>\n",
       "      <td>A1OWT4YZGB5GV9</td>\n",
       "      <td>B0000DIWNZ</td>\n",
       "      <td>Amy Rogers</td>\n",
       "      <td>This is my go to plastic wrap so there isn't m...</td>\n",
       "      <td>has been doing it's job for years</td>\n",
       "      <td>1407628800</td>\n",
       "      <td>NaN</td>\n",
       "      <td>NaN</td>\n",
       "      <td>NaN</td>\n",
       "    </tr>\n",
       "  </tbody>\n",
       "</table>\n",
       "</div>"
      ],
      "text/plain": [
       "   overall  verified   reviewTime      reviewerID        asin  \\\n",
       "0        5      True  12 14, 2014  A1NKJW0TNRVS7O  B0000DIWNZ   \n",
       "1        4      True  11 20, 2014  A2L6X37E8TFTCC  B0000DIWNZ   \n",
       "2        4      True  10 11, 2014  A2WPR4W6V48121  B0000DIWNZ   \n",
       "3        3     False   09 1, 2014  A27EE7X7L29UMU  B0000DIWNZ   \n",
       "4        4      True  08 10, 2014  A1OWT4YZGB5GV9  B0000DIWNZ   \n",
       "\n",
       "      reviewerName                                         reviewText  \\\n",
       "0        Tamara M.                                      Good clinging   \n",
       "1  Amazon Customer  Fantastic buy and a good plastic wrap.  Even t...   \n",
       "2           noname                                                 ok   \n",
       "3           ZapNZs  Saran Cling Plus is kind of like most of the C...   \n",
       "4       Amy Rogers  This is my go to plastic wrap so there isn't m...   \n",
       "\n",
       "                                             summary  unixReviewTime vote  \\\n",
       "0                                       Clings  well      1418515200  NaN   \n",
       "1         Saran could use more Plus to Cling better.      1416441600  NaN   \n",
       "2                                         Four Stars      1412985600  NaN   \n",
       "3  The wrap is fantastic, but the dispensing, cut...      1409529600    4   \n",
       "4                  has been doing it's job for years      1407628800  NaN   \n",
       "\n",
       "  image style  \n",
       "0   NaN   NaN  \n",
       "1   NaN   NaN  \n",
       "2   NaN   NaN  \n",
       "3   NaN   NaN  \n",
       "4   NaN   NaN  "
      ]
     },
     "execution_count": 3,
     "metadata": {},
     "output_type": "execute_result"
    }
   ],
   "source": [
    "pantry_df = pd.read_json(data_dir + '/Prime_Pantry.json.gz', lines=True, compression='infer')\n",
    "pantry_df.head()"
   ]
  },
  {
   "cell_type": "code",
   "execution_count": 4,
   "id": "b473d9d2-d0d2-4c20-ac03-df76b49fac75",
   "metadata": {},
   "outputs": [
    {
     "data": {
      "text/plain": [
       "(471614, 12)"
      ]
     },
     "execution_count": 4,
     "metadata": {},
     "output_type": "execute_result"
    }
   ],
   "source": [
    "pantry_df.shape"
   ]
  },
  {
   "cell_type": "markdown",
   "id": "9db4e590-774b-43ee-b904-ae16ee41c025",
   "metadata": {},
   "source": [
    "### インタラクションデータセットの構築と保存"
   ]
  },
  {
   "cell_type": "code",
   "execution_count": 5,
   "id": "98c4d944-52de-4e5b-b845-fa406685e7a5",
   "metadata": {},
   "outputs": [
    {
     "data": {
      "text/plain": [
       "(387692, 12)"
      ]
     },
     "execution_count": 5,
     "metadata": {},
     "output_type": "execute_result"
    }
   ],
   "source": [
    "positive_reviews_df = pantry_df[pantry_df['overall'] > 3]\n",
    "positive_reviews_df.shape"
   ]
  },
  {
   "cell_type": "code",
   "execution_count": 6,
   "id": "ec139f19-37aa-48b6-a5aa-57e56a74376e",
   "metadata": {},
   "outputs": [
    {
     "data": {
      "text/html": [
       "<div>\n",
       "<style scoped>\n",
       "    .dataframe tbody tr th:only-of-type {\n",
       "        vertical-align: middle;\n",
       "    }\n",
       "\n",
       "    .dataframe tbody tr th {\n",
       "        vertical-align: top;\n",
       "    }\n",
       "\n",
       "    .dataframe thead th {\n",
       "        text-align: right;\n",
       "    }\n",
       "</style>\n",
       "<table border=\"1\" class=\"dataframe\">\n",
       "  <thead>\n",
       "    <tr style=\"text-align: right;\">\n",
       "      <th></th>\n",
       "      <th>reviewerID</th>\n",
       "      <th>asin</th>\n",
       "      <th>unixReviewTime</th>\n",
       "      <th>overall</th>\n",
       "      <th>EVENT_TYPE</th>\n",
       "    </tr>\n",
       "  </thead>\n",
       "  <tbody>\n",
       "    <tr>\n",
       "      <th>0</th>\n",
       "      <td>A1NKJW0TNRVS7O</td>\n",
       "      <td>B0000DIWNZ</td>\n",
       "      <td>1418515200</td>\n",
       "      <td>5</td>\n",
       "      <td>reviewed</td>\n",
       "    </tr>\n",
       "    <tr>\n",
       "      <th>1</th>\n",
       "      <td>A2L6X37E8TFTCC</td>\n",
       "      <td>B0000DIWNZ</td>\n",
       "      <td>1416441600</td>\n",
       "      <td>4</td>\n",
       "      <td>reviewed</td>\n",
       "    </tr>\n",
       "    <tr>\n",
       "      <th>2</th>\n",
       "      <td>A2WPR4W6V48121</td>\n",
       "      <td>B0000DIWNZ</td>\n",
       "      <td>1412985600</td>\n",
       "      <td>4</td>\n",
       "      <td>reviewed</td>\n",
       "    </tr>\n",
       "    <tr>\n",
       "      <th>4</th>\n",
       "      <td>A1OWT4YZGB5GV9</td>\n",
       "      <td>B0000DIWNZ</td>\n",
       "      <td>1407628800</td>\n",
       "      <td>4</td>\n",
       "      <td>reviewed</td>\n",
       "    </tr>\n",
       "    <tr>\n",
       "      <th>5</th>\n",
       "      <td>A1GN2ADKF1IE7K</td>\n",
       "      <td>B0000DIWNZ</td>\n",
       "      <td>1405296000</td>\n",
       "      <td>5</td>\n",
       "      <td>reviewed</td>\n",
       "    </tr>\n",
       "  </tbody>\n",
       "</table>\n",
       "</div>"
      ],
      "text/plain": [
       "       reviewerID        asin  unixReviewTime  overall EVENT_TYPE\n",
       "0  A1NKJW0TNRVS7O  B0000DIWNZ      1418515200        5   reviewed\n",
       "1  A2L6X37E8TFTCC  B0000DIWNZ      1416441600        4   reviewed\n",
       "2  A2WPR4W6V48121  B0000DIWNZ      1412985600        4   reviewed\n",
       "4  A1OWT4YZGB5GV9  B0000DIWNZ      1407628800        4   reviewed\n",
       "5  A1GN2ADKF1IE7K  B0000DIWNZ      1405296000        5   reviewed"
      ]
     },
     "execution_count": 6,
     "metadata": {},
     "output_type": "execute_result"
    }
   ],
   "source": [
    "positive_reviews_df = positive_reviews_df[['reviewerID', 'asin', 'unixReviewTime', 'overall']]\n",
    "positive_reviews_df['EVENT_TYPE']='reviewed'\n",
    "\n",
    "positive_reviews_df.head()"
   ]
  },
  {
   "cell_type": "markdown",
   "id": "c5b01b37-51d5-465b-89c8-aee910783dba",
   "metadata": {},
   "source": [
    "### サニティチェック 試しに１つの unixReviewTime を確認して、日付データが正しいか確認する"
   ]
  },
  {
   "cell_type": "code",
   "execution_count": 7,
   "id": "9f378ceb-d1f4-4ec0-b48b-bc347148ab02",
   "metadata": {},
   "outputs": [
    {
     "name": "stdout",
     "output_type": "stream",
     "text": [
      "1321488000\n",
      "2011-11-17 00:00:00\n"
     ]
    }
   ],
   "source": [
    "time_stamp = positive_reviews_df.iloc[50]['unixReviewTime']\n",
    "print(time_stamp)\n",
    "print(datetime.utcfromtimestamp(time_stamp).strftime('%Y-%m-%d %H:%M:%S'))"
   ]
  },
  {
   "cell_type": "code",
   "execution_count": 8,
   "id": "cedce11b-a6de-4293-b51d-981c6dfea4d9",
   "metadata": {},
   "outputs": [
    {
     "data": {
      "text/plain": [
       "count                  387692\n",
       "unique                   3654\n",
       "top       2016-07-14 00:00:00\n",
       "freq                      681\n",
       "Name: unixReviewTime, dtype: object"
      ]
     },
     "execution_count": 8,
     "metadata": {},
     "output_type": "execute_result"
    }
   ],
   "source": [
    "positive_reviews_df['unixReviewTime'].map(\n",
    "    lambda x: datetime.utcfromtimestamp(x).strftime('%Y-%m-%d %H:%M:%S')\n",
    ").describe(include='all')"
   ]
  },
  {
   "cell_type": "code",
   "execution_count": 9,
   "id": "ef5cbcb4-7c5c-47f8-a8ea-3383934ee8a3",
   "metadata": {},
   "outputs": [
    {
     "data": {
      "text/html": [
       "<div>\n",
       "<style scoped>\n",
       "    .dataframe tbody tr th:only-of-type {\n",
       "        vertical-align: middle;\n",
       "    }\n",
       "\n",
       "    .dataframe tbody tr th {\n",
       "        vertical-align: top;\n",
       "    }\n",
       "\n",
       "    .dataframe thead th {\n",
       "        text-align: right;\n",
       "    }\n",
       "</style>\n",
       "<table border=\"1\" class=\"dataframe\">\n",
       "  <thead>\n",
       "    <tr style=\"text-align: right;\">\n",
       "      <th></th>\n",
       "      <th>reviewerID</th>\n",
       "      <th>asin</th>\n",
       "      <th>unixReviewTime</th>\n",
       "      <th>overall</th>\n",
       "      <th>EVENT_TYPE</th>\n",
       "    </tr>\n",
       "  </thead>\n",
       "  <tbody>\n",
       "    <tr>\n",
       "      <th>count</th>\n",
       "      <td>387692</td>\n",
       "      <td>387692</td>\n",
       "      <td>3.876920e+05</td>\n",
       "      <td>387692.000000</td>\n",
       "      <td>387692</td>\n",
       "    </tr>\n",
       "    <tr>\n",
       "      <th>unique</th>\n",
       "      <td>202254</td>\n",
       "      <td>10584</td>\n",
       "      <td>NaN</td>\n",
       "      <td>NaN</td>\n",
       "      <td>1</td>\n",
       "    </tr>\n",
       "    <tr>\n",
       "      <th>top</th>\n",
       "      <td>A35Q0RBM3YNQNF</td>\n",
       "      <td>B00XA9DADC</td>\n",
       "      <td>NaN</td>\n",
       "      <td>NaN</td>\n",
       "      <td>reviewed</td>\n",
       "    </tr>\n",
       "    <tr>\n",
       "      <th>freq</th>\n",
       "      <td>176</td>\n",
       "      <td>5288</td>\n",
       "      <td>NaN</td>\n",
       "      <td>NaN</td>\n",
       "      <td>387692</td>\n",
       "    </tr>\n",
       "    <tr>\n",
       "      <th>mean</th>\n",
       "      <td>NaN</td>\n",
       "      <td>NaN</td>\n",
       "      <td>1.468847e+09</td>\n",
       "      <td>4.847227</td>\n",
       "      <td>NaN</td>\n",
       "    </tr>\n",
       "    <tr>\n",
       "      <th>std</th>\n",
       "      <td>NaN</td>\n",
       "      <td>NaN</td>\n",
       "      <td>4.314975e+07</td>\n",
       "      <td>0.359769</td>\n",
       "      <td>NaN</td>\n",
       "    </tr>\n",
       "    <tr>\n",
       "      <th>min</th>\n",
       "      <td>NaN</td>\n",
       "      <td>NaN</td>\n",
       "      <td>1.073693e+09</td>\n",
       "      <td>4.000000</td>\n",
       "      <td>NaN</td>\n",
       "    </tr>\n",
       "    <tr>\n",
       "      <th>25%</th>\n",
       "      <td>NaN</td>\n",
       "      <td>NaN</td>\n",
       "      <td>1.447200e+09</td>\n",
       "      <td>5.000000</td>\n",
       "      <td>NaN</td>\n",
       "    </tr>\n",
       "    <tr>\n",
       "      <th>50%</th>\n",
       "      <td>NaN</td>\n",
       "      <td>NaN</td>\n",
       "      <td>1.474718e+09</td>\n",
       "      <td>5.000000</td>\n",
       "      <td>NaN</td>\n",
       "    </tr>\n",
       "    <tr>\n",
       "      <th>75%</th>\n",
       "      <td>NaN</td>\n",
       "      <td>NaN</td>\n",
       "      <td>1.498435e+09</td>\n",
       "      <td>5.000000</td>\n",
       "      <td>NaN</td>\n",
       "    </tr>\n",
       "    <tr>\n",
       "      <th>max</th>\n",
       "      <td>NaN</td>\n",
       "      <td>NaN</td>\n",
       "      <td>1.538611e+09</td>\n",
       "      <td>5.000000</td>\n",
       "      <td>NaN</td>\n",
       "    </tr>\n",
       "  </tbody>\n",
       "</table>\n",
       "</div>"
      ],
      "text/plain": [
       "            reviewerID        asin  unixReviewTime        overall EVENT_TYPE\n",
       "count           387692      387692    3.876920e+05  387692.000000     387692\n",
       "unique          202254       10584             NaN            NaN          1\n",
       "top     A35Q0RBM3YNQNF  B00XA9DADC             NaN            NaN   reviewed\n",
       "freq               176        5288             NaN            NaN     387692\n",
       "mean               NaN         NaN    1.468847e+09       4.847227        NaN\n",
       "std                NaN         NaN    4.314975e+07       0.359769        NaN\n",
       "min                NaN         NaN    1.073693e+09       4.000000        NaN\n",
       "25%                NaN         NaN    1.447200e+09       5.000000        NaN\n",
       "50%                NaN         NaN    1.474718e+09       5.000000        NaN\n",
       "75%                NaN         NaN    1.498435e+09       5.000000        NaN\n",
       "max                NaN         NaN    1.538611e+09       5.000000        NaN"
      ]
     },
     "execution_count": 9,
     "metadata": {},
     "output_type": "execute_result"
    }
   ],
   "source": [
    "positive_reviews_df.describe(include='all')"
   ]
  },
  {
   "cell_type": "markdown",
   "id": "9b39c451-6db1-46de-a2d4-021f2650bdb1",
   "metadata": {},
   "source": [
    "### Personalizeが期待するカラムの名前と一致するように、カラムの名前を変更する"
   ]
  },
  {
   "cell_type": "code",
   "execution_count": 10,
   "id": "2d332739-70c3-4092-9583-86659f60963f",
   "metadata": {},
   "outputs": [
    {
     "data": {
      "text/html": [
       "<div>\n",
       "<style scoped>\n",
       "    .dataframe tbody tr th:only-of-type {\n",
       "        vertical-align: middle;\n",
       "    }\n",
       "\n",
       "    .dataframe tbody tr th {\n",
       "        vertical-align: top;\n",
       "    }\n",
       "\n",
       "    .dataframe thead th {\n",
       "        text-align: right;\n",
       "    }\n",
       "</style>\n",
       "<table border=\"1\" class=\"dataframe\">\n",
       "  <thead>\n",
       "    <tr style=\"text-align: right;\">\n",
       "      <th></th>\n",
       "      <th>USER_ID</th>\n",
       "      <th>ITEM_ID</th>\n",
       "      <th>TIMESTAMP</th>\n",
       "      <th>EVENT_VALUE</th>\n",
       "      <th>EVENT_TYPE</th>\n",
       "    </tr>\n",
       "  </thead>\n",
       "  <tbody>\n",
       "    <tr>\n",
       "      <th>0</th>\n",
       "      <td>A1NKJW0TNRVS7O</td>\n",
       "      <td>B0000DIWNZ</td>\n",
       "      <td>1418515200</td>\n",
       "      <td>5</td>\n",
       "      <td>reviewed</td>\n",
       "    </tr>\n",
       "    <tr>\n",
       "      <th>1</th>\n",
       "      <td>A2L6X37E8TFTCC</td>\n",
       "      <td>B0000DIWNZ</td>\n",
       "      <td>1416441600</td>\n",
       "      <td>4</td>\n",
       "      <td>reviewed</td>\n",
       "    </tr>\n",
       "    <tr>\n",
       "      <th>2</th>\n",
       "      <td>A2WPR4W6V48121</td>\n",
       "      <td>B0000DIWNZ</td>\n",
       "      <td>1412985600</td>\n",
       "      <td>4</td>\n",
       "      <td>reviewed</td>\n",
       "    </tr>\n",
       "    <tr>\n",
       "      <th>4</th>\n",
       "      <td>A1OWT4YZGB5GV9</td>\n",
       "      <td>B0000DIWNZ</td>\n",
       "      <td>1407628800</td>\n",
       "      <td>4</td>\n",
       "      <td>reviewed</td>\n",
       "    </tr>\n",
       "    <tr>\n",
       "      <th>5</th>\n",
       "      <td>A1GN2ADKF1IE7K</td>\n",
       "      <td>B0000DIWNZ</td>\n",
       "      <td>1405296000</td>\n",
       "      <td>5</td>\n",
       "      <td>reviewed</td>\n",
       "    </tr>\n",
       "  </tbody>\n",
       "</table>\n",
       "</div>"
      ],
      "text/plain": [
       "          USER_ID     ITEM_ID   TIMESTAMP  EVENT_VALUE EVENT_TYPE\n",
       "0  A1NKJW0TNRVS7O  B0000DIWNZ  1418515200            5   reviewed\n",
       "1  A2L6X37E8TFTCC  B0000DIWNZ  1416441600            4   reviewed\n",
       "2  A2WPR4W6V48121  B0000DIWNZ  1412985600            4   reviewed\n",
       "4  A1OWT4YZGB5GV9  B0000DIWNZ  1407628800            4   reviewed\n",
       "5  A1GN2ADKF1IE7K  B0000DIWNZ  1405296000            5   reviewed"
      ]
     },
     "execution_count": 10,
     "metadata": {},
     "output_type": "execute_result"
    }
   ],
   "source": [
    "positive_reviews_df.rename(columns = {'reviewerID':'USER_ID', 'asin':'ITEM_ID', \n",
    "                              'unixReviewTime':'TIMESTAMP', 'overall': 'EVENT_VALUE'}, inplace = True)\n",
    "positive_reviews_df.head()"
   ]
  },
  {
   "cell_type": "code",
   "execution_count": 11,
   "id": "841454d3-a798-43d8-9048-afb0dd3ad90b",
   "metadata": {},
   "outputs": [
    {
     "data": {
      "text/html": [
       "<div>\n",
       "<style scoped>\n",
       "    .dataframe tbody tr th:only-of-type {\n",
       "        vertical-align: middle;\n",
       "    }\n",
       "\n",
       "    .dataframe tbody tr th {\n",
       "        vertical-align: top;\n",
       "    }\n",
       "\n",
       "    .dataframe thead th {\n",
       "        text-align: right;\n",
       "    }\n",
       "</style>\n",
       "<table border=\"1\" class=\"dataframe\">\n",
       "  <thead>\n",
       "    <tr style=\"text-align: right;\">\n",
       "      <th></th>\n",
       "      <th>USER_ID</th>\n",
       "      <th>ITEM_ID</th>\n",
       "      <th>TIMESTAMP</th>\n",
       "      <th>EVENT_VALUE</th>\n",
       "      <th>EVENT_TYPE</th>\n",
       "    </tr>\n",
       "  </thead>\n",
       "  <tbody>\n",
       "    <tr>\n",
       "      <th>count</th>\n",
       "      <td>387692</td>\n",
       "      <td>387692</td>\n",
       "      <td>3.876920e+05</td>\n",
       "      <td>387692.000000</td>\n",
       "      <td>387692</td>\n",
       "    </tr>\n",
       "    <tr>\n",
       "      <th>unique</th>\n",
       "      <td>202254</td>\n",
       "      <td>10584</td>\n",
       "      <td>NaN</td>\n",
       "      <td>NaN</td>\n",
       "      <td>1</td>\n",
       "    </tr>\n",
       "    <tr>\n",
       "      <th>top</th>\n",
       "      <td>A35Q0RBM3YNQNF</td>\n",
       "      <td>B00XA9DADC</td>\n",
       "      <td>NaN</td>\n",
       "      <td>NaN</td>\n",
       "      <td>reviewed</td>\n",
       "    </tr>\n",
       "    <tr>\n",
       "      <th>freq</th>\n",
       "      <td>176</td>\n",
       "      <td>5288</td>\n",
       "      <td>NaN</td>\n",
       "      <td>NaN</td>\n",
       "      <td>387692</td>\n",
       "    </tr>\n",
       "    <tr>\n",
       "      <th>mean</th>\n",
       "      <td>NaN</td>\n",
       "      <td>NaN</td>\n",
       "      <td>1.468847e+09</td>\n",
       "      <td>4.847227</td>\n",
       "      <td>NaN</td>\n",
       "    </tr>\n",
       "    <tr>\n",
       "      <th>std</th>\n",
       "      <td>NaN</td>\n",
       "      <td>NaN</td>\n",
       "      <td>4.314975e+07</td>\n",
       "      <td>0.359769</td>\n",
       "      <td>NaN</td>\n",
       "    </tr>\n",
       "    <tr>\n",
       "      <th>min</th>\n",
       "      <td>NaN</td>\n",
       "      <td>NaN</td>\n",
       "      <td>1.073693e+09</td>\n",
       "      <td>4.000000</td>\n",
       "      <td>NaN</td>\n",
       "    </tr>\n",
       "    <tr>\n",
       "      <th>25%</th>\n",
       "      <td>NaN</td>\n",
       "      <td>NaN</td>\n",
       "      <td>1.447200e+09</td>\n",
       "      <td>5.000000</td>\n",
       "      <td>NaN</td>\n",
       "    </tr>\n",
       "    <tr>\n",
       "      <th>50%</th>\n",
       "      <td>NaN</td>\n",
       "      <td>NaN</td>\n",
       "      <td>1.474718e+09</td>\n",
       "      <td>5.000000</td>\n",
       "      <td>NaN</td>\n",
       "    </tr>\n",
       "    <tr>\n",
       "      <th>75%</th>\n",
       "      <td>NaN</td>\n",
       "      <td>NaN</td>\n",
       "      <td>1.498435e+09</td>\n",
       "      <td>5.000000</td>\n",
       "      <td>NaN</td>\n",
       "    </tr>\n",
       "    <tr>\n",
       "      <th>max</th>\n",
       "      <td>NaN</td>\n",
       "      <td>NaN</td>\n",
       "      <td>1.538611e+09</td>\n",
       "      <td>5.000000</td>\n",
       "      <td>NaN</td>\n",
       "    </tr>\n",
       "  </tbody>\n",
       "</table>\n",
       "</div>"
      ],
      "text/plain": [
       "               USER_ID     ITEM_ID     TIMESTAMP    EVENT_VALUE EVENT_TYPE\n",
       "count           387692      387692  3.876920e+05  387692.000000     387692\n",
       "unique          202254       10584           NaN            NaN          1\n",
       "top     A35Q0RBM3YNQNF  B00XA9DADC           NaN            NaN   reviewed\n",
       "freq               176        5288           NaN            NaN     387692\n",
       "mean               NaN         NaN  1.468847e+09       4.847227        NaN\n",
       "std                NaN         NaN  4.314975e+07       0.359769        NaN\n",
       "min                NaN         NaN  1.073693e+09       4.000000        NaN\n",
       "25%                NaN         NaN  1.447200e+09       5.000000        NaN\n",
       "50%                NaN         NaN  1.474718e+09       5.000000        NaN\n",
       "75%                NaN         NaN  1.498435e+09       5.000000        NaN\n",
       "max                NaN         NaN  1.538611e+09       5.000000        NaN"
      ]
     },
     "execution_count": 11,
     "metadata": {},
     "output_type": "execute_result"
    }
   ],
   "source": [
    "positive_reviews_df.describe(include='all')"
   ]
  },
  {
   "cell_type": "markdown",
   "id": "aa55d0a2-668d-4f90-b5c8-8ee60d1aa197",
   "metadata": {},
   "source": [
    "### Amazon Personalize にアップロードするために CSVファイル化する"
   ]
  },
  {
   "cell_type": "code",
   "execution_count": 12,
   "id": "1f9a7f9f-b14e-40c7-a356-d448fd61ad53",
   "metadata": {},
   "outputs": [],
   "source": [
    "interactions_filename = \"interactions.csv\"\n",
    "positive_reviews_df.to_csv(interactions_filename, index=False, float_format='%.0f')"
   ]
  },
  {
   "cell_type": "markdown",
   "id": "8dd30ea6-b3e0-4040-86ce-ba0878a05041",
   "metadata": {},
   "source": [
    "### メタデータ"
   ]
  },
  {
   "cell_type": "code",
   "execution_count": 13,
   "id": "fc9a449b-adef-4b57-933f-0794a974e1d0",
   "metadata": {},
   "outputs": [
    {
     "data": {
      "text/html": [
       "<div>\n",
       "<style scoped>\n",
       "    .dataframe tbody tr th:only-of-type {\n",
       "        vertical-align: middle;\n",
       "    }\n",
       "\n",
       "    .dataframe tbody tr th {\n",
       "        vertical-align: top;\n",
       "    }\n",
       "\n",
       "    .dataframe thead th {\n",
       "        text-align: right;\n",
       "    }\n",
       "</style>\n",
       "<table border=\"1\" class=\"dataframe\">\n",
       "  <thead>\n",
       "    <tr style=\"text-align: right;\">\n",
       "      <th></th>\n",
       "      <th>category</th>\n",
       "      <th>tech1</th>\n",
       "      <th>description</th>\n",
       "      <th>fit</th>\n",
       "      <th>title</th>\n",
       "      <th>also_buy</th>\n",
       "      <th>tech2</th>\n",
       "      <th>brand</th>\n",
       "      <th>feature</th>\n",
       "      <th>rank</th>\n",
       "      <th>also_view</th>\n",
       "      <th>details</th>\n",
       "      <th>main_cat</th>\n",
       "      <th>similar_item</th>\n",
       "      <th>date</th>\n",
       "      <th>price</th>\n",
       "      <th>asin</th>\n",
       "      <th>imageURL</th>\n",
       "      <th>imageURLHighRes</th>\n",
       "    </tr>\n",
       "  </thead>\n",
       "  <tbody>\n",
       "    <tr>\n",
       "      <th>0</th>\n",
       "      <td>[]</td>\n",
       "      <td></td>\n",
       "      <td>[Sink your sweet tooth into MILK DUDS Candya d...</td>\n",
       "      <td></td>\n",
       "      <td>HERSHEY'S Milk Duds Candy, 5 Ounce(Halloween C...</td>\n",
       "      <td>[B019KE37WO, B007NQSWEU]</td>\n",
       "      <td></td>\n",
       "      <td>Milk Duds</td>\n",
       "      <td>[]</td>\n",
       "      <td>[]</td>\n",
       "      <td>[]</td>\n",
       "      <td>{'ASIN: ': 'B00005BPJO', 'Item model number:':...</td>\n",
       "      <td>&lt;img src=\"https://m.media-amazon.com/images/G/...</td>\n",
       "      <td></td>\n",
       "      <td>NaT</td>\n",
       "      <td>$5.00</td>\n",
       "      <td>B00005BPJO</td>\n",
       "      <td>[https://images-na.ssl-images-amazon.com/image...</td>\n",
       "      <td>[https://images-na.ssl-images-amazon.com/image...</td>\n",
       "    </tr>\n",
       "    <tr>\n",
       "      <th>1</th>\n",
       "      <td>[]</td>\n",
       "      <td></td>\n",
       "      <td>[Sink your sweet tooth into MILK DUDS Candya d...</td>\n",
       "      <td></td>\n",
       "      <td>HERSHEY'S Milk Duds Candy, 5 Ounce(Halloween C...</td>\n",
       "      <td>[B019KE37WO, B007NQSWEU]</td>\n",
       "      <td></td>\n",
       "      <td>Milk Duds</td>\n",
       "      <td>[]</td>\n",
       "      <td>[]</td>\n",
       "      <td>[]</td>\n",
       "      <td>{'ASIN: ': 'B00005BPJO', 'Item model number:':...</td>\n",
       "      <td>&lt;img src=\"https://m.media-amazon.com/images/G/...</td>\n",
       "      <td></td>\n",
       "      <td>NaT</td>\n",
       "      <td>$5.00</td>\n",
       "      <td>B00005BPJO</td>\n",
       "      <td>[https://images-na.ssl-images-amazon.com/image...</td>\n",
       "      <td>[https://images-na.ssl-images-amazon.com/image...</td>\n",
       "    </tr>\n",
       "    <tr>\n",
       "      <th>2</th>\n",
       "      <td>[]</td>\n",
       "      <td></td>\n",
       "      <td>[A perfect Lentil soup starts with Goya Lentil...</td>\n",
       "      <td></td>\n",
       "      <td>Goya Dry Lentils, 16 oz</td>\n",
       "      <td>[B003SI144W, B000VDRKEK]</td>\n",
       "      <td></td>\n",
       "      <td>Goya</td>\n",
       "      <td>[]</td>\n",
       "      <td>[]</td>\n",
       "      <td>[B074MFVZG7, B079PTH69L, B000VDRKEK, B074M9T81...</td>\n",
       "      <td>{'ASIN: ': 'B0000DIF38'}</td>\n",
       "      <td>&lt;img src=\"https://images-na.ssl-images-amazon....</td>\n",
       "      <td></td>\n",
       "      <td>NaT</td>\n",
       "      <td></td>\n",
       "      <td>B0000DIF38</td>\n",
       "      <td>[https://images-na.ssl-images-amazon.com/image...</td>\n",
       "      <td>[https://images-na.ssl-images-amazon.com/image...</td>\n",
       "    </tr>\n",
       "    <tr>\n",
       "      <th>3</th>\n",
       "      <td>[]</td>\n",
       "      <td></td>\n",
       "      <td>[Saran Premium Wrap is an extra tough yet easy...</td>\n",
       "      <td></td>\n",
       "      <td>Saran Premium Plastic Wrap, 100 Sq Ft</td>\n",
       "      <td>[B01MY5FHT6, B000PYF8VM, B000SRMDFA, B07CX6LN8...</td>\n",
       "      <td></td>\n",
       "      <td>Saran</td>\n",
       "      <td>[]</td>\n",
       "      <td>[]</td>\n",
       "      <td>[B077QLSLRQ, B00JPKW1RQ, B000FE2IK6, B00XUJHJ9...</td>\n",
       "      <td>{'Domestic Shipping: ': 'This item can only be...</td>\n",
       "      <td>&lt;img src=\"https://images-na.ssl-images-amazon....</td>\n",
       "      <td></td>\n",
       "      <td>NaT</td>\n",
       "      <td></td>\n",
       "      <td>B0000DIWNI</td>\n",
       "      <td>[https://images-na.ssl-images-amazon.com/image...</td>\n",
       "      <td>[https://images-na.ssl-images-amazon.com/image...</td>\n",
       "    </tr>\n",
       "    <tr>\n",
       "      <th>4</th>\n",
       "      <td>[]</td>\n",
       "      <td></td>\n",
       "      <td>[200 sq ft (285 ft x 11-3/4 in x 18.6 m2). Eas...</td>\n",
       "      <td></td>\n",
       "      <td>Saran Cling Plus Plastic Wrap, 200 Sq Ft</td>\n",
       "      <td>[]</td>\n",
       "      <td></td>\n",
       "      <td>Saran</td>\n",
       "      <td>[]</td>\n",
       "      <td>[]</td>\n",
       "      <td>[B0014CZ0TE]</td>\n",
       "      <td>{'Domestic Shipping: ': 'This item can only be...</td>\n",
       "      <td>&lt;img src=\"https://images-na.ssl-images-amazon....</td>\n",
       "      <td></td>\n",
       "      <td>NaT</td>\n",
       "      <td></td>\n",
       "      <td>B0000DIWNZ</td>\n",
       "      <td>[https://images-na.ssl-images-amazon.com/image...</td>\n",
       "      <td>[https://images-na.ssl-images-amazon.com/image...</td>\n",
       "    </tr>\n",
       "  </tbody>\n",
       "</table>\n",
       "</div>"
      ],
      "text/plain": [
       "  category tech1                                        description fit  \\\n",
       "0       []        [Sink your sweet tooth into MILK DUDS Candya d...       \n",
       "1       []        [Sink your sweet tooth into MILK DUDS Candya d...       \n",
       "2       []        [A perfect Lentil soup starts with Goya Lentil...       \n",
       "3       []        [Saran Premium Wrap is an extra tough yet easy...       \n",
       "4       []        [200 sq ft (285 ft x 11-3/4 in x 18.6 m2). Eas...       \n",
       "\n",
       "                                               title  \\\n",
       "0  HERSHEY'S Milk Duds Candy, 5 Ounce(Halloween C...   \n",
       "1  HERSHEY'S Milk Duds Candy, 5 Ounce(Halloween C...   \n",
       "2                            Goya Dry Lentils, 16 oz   \n",
       "3              Saran Premium Plastic Wrap, 100 Sq Ft   \n",
       "4           Saran Cling Plus Plastic Wrap, 200 Sq Ft   \n",
       "\n",
       "                                            also_buy tech2      brand feature  \\\n",
       "0                           [B019KE37WO, B007NQSWEU]        Milk Duds      []   \n",
       "1                           [B019KE37WO, B007NQSWEU]        Milk Duds      []   \n",
       "2                           [B003SI144W, B000VDRKEK]             Goya      []   \n",
       "3  [B01MY5FHT6, B000PYF8VM, B000SRMDFA, B07CX6LN8...            Saran      []   \n",
       "4                                                 []            Saran      []   \n",
       "\n",
       "  rank                                          also_view  \\\n",
       "0   []                                                 []   \n",
       "1   []                                                 []   \n",
       "2   []  [B074MFVZG7, B079PTH69L, B000VDRKEK, B074M9T81...   \n",
       "3   []  [B077QLSLRQ, B00JPKW1RQ, B000FE2IK6, B00XUJHJ9...   \n",
       "4   []                                       [B0014CZ0TE]   \n",
       "\n",
       "                                             details  \\\n",
       "0  {'ASIN: ': 'B00005BPJO', 'Item model number:':...   \n",
       "1  {'ASIN: ': 'B00005BPJO', 'Item model number:':...   \n",
       "2                           {'ASIN: ': 'B0000DIF38'}   \n",
       "3  {'Domestic Shipping: ': 'This item can only be...   \n",
       "4  {'Domestic Shipping: ': 'This item can only be...   \n",
       "\n",
       "                                            main_cat similar_item date  price  \\\n",
       "0  <img src=\"https://m.media-amazon.com/images/G/...               NaT  $5.00   \n",
       "1  <img src=\"https://m.media-amazon.com/images/G/...               NaT  $5.00   \n",
       "2  <img src=\"https://images-na.ssl-images-amazon....               NaT          \n",
       "3  <img src=\"https://images-na.ssl-images-amazon....               NaT          \n",
       "4  <img src=\"https://images-na.ssl-images-amazon....               NaT          \n",
       "\n",
       "         asin                                           imageURL  \\\n",
       "0  B00005BPJO  [https://images-na.ssl-images-amazon.com/image...   \n",
       "1  B00005BPJO  [https://images-na.ssl-images-amazon.com/image...   \n",
       "2  B0000DIF38  [https://images-na.ssl-images-amazon.com/image...   \n",
       "3  B0000DIWNI  [https://images-na.ssl-images-amazon.com/image...   \n",
       "4  B0000DIWNZ  [https://images-na.ssl-images-amazon.com/image...   \n",
       "\n",
       "                                     imageURLHighRes  \n",
       "0  [https://images-na.ssl-images-amazon.com/image...  \n",
       "1  [https://images-na.ssl-images-amazon.com/image...  \n",
       "2  [https://images-na.ssl-images-amazon.com/image...  \n",
       "3  [https://images-na.ssl-images-amazon.com/image...  \n",
       "4  [https://images-na.ssl-images-amazon.com/image...  "
      ]
     },
     "execution_count": 13,
     "metadata": {},
     "output_type": "execute_result"
    }
   ],
   "source": [
    "pantry_meta_df = pd.read_json('raw_data/meta_Prime_Pantry.json.gz', lines=True, compression='infer')\n",
    "pantry_meta_df.head()"
   ]
  },
  {
   "cell_type": "code",
   "execution_count": 14,
   "id": "3664fe7d-aa0e-4db8-bf30-6e62393456bd",
   "metadata": {},
   "outputs": [
    {
     "name": "stdout",
     "output_type": "stream",
     "text": [
      "(10813, 4)\n"
     ]
    },
    {
     "data": {
      "text/html": [
       "<div>\n",
       "<style scoped>\n",
       "    .dataframe tbody tr th:only-of-type {\n",
       "        vertical-align: middle;\n",
       "    }\n",
       "\n",
       "    .dataframe tbody tr th {\n",
       "        vertical-align: top;\n",
       "    }\n",
       "\n",
       "    .dataframe thead th {\n",
       "        text-align: right;\n",
       "    }\n",
       "</style>\n",
       "<table border=\"1\" class=\"dataframe\">\n",
       "  <thead>\n",
       "    <tr style=\"text-align: right;\">\n",
       "      <th></th>\n",
       "      <th>asin</th>\n",
       "      <th>brand</th>\n",
       "      <th>price</th>\n",
       "      <th>description</th>\n",
       "    </tr>\n",
       "  </thead>\n",
       "  <tbody>\n",
       "    <tr>\n",
       "      <th>0</th>\n",
       "      <td>B00005BPJO</td>\n",
       "      <td>Milk Duds</td>\n",
       "      <td>$5.00</td>\n",
       "      <td>[Sink your sweet tooth into MILK DUDS Candya d...</td>\n",
       "    </tr>\n",
       "    <tr>\n",
       "      <th>1</th>\n",
       "      <td>B00005BPJO</td>\n",
       "      <td>Milk Duds</td>\n",
       "      <td>$5.00</td>\n",
       "      <td>[Sink your sweet tooth into MILK DUDS Candya d...</td>\n",
       "    </tr>\n",
       "    <tr>\n",
       "      <th>2</th>\n",
       "      <td>B0000DIF38</td>\n",
       "      <td>Goya</td>\n",
       "      <td></td>\n",
       "      <td>[A perfect Lentil soup starts with Goya Lentil...</td>\n",
       "    </tr>\n",
       "    <tr>\n",
       "      <th>3</th>\n",
       "      <td>B0000DIWNI</td>\n",
       "      <td>Saran</td>\n",
       "      <td></td>\n",
       "      <td>[Saran Premium Wrap is an extra tough yet easy...</td>\n",
       "    </tr>\n",
       "    <tr>\n",
       "      <th>4</th>\n",
       "      <td>B0000DIWNZ</td>\n",
       "      <td>Saran</td>\n",
       "      <td></td>\n",
       "      <td>[200 sq ft (285 ft x 11-3/4 in x 18.6 m2). Eas...</td>\n",
       "    </tr>\n",
       "    <tr>\n",
       "      <th>5</th>\n",
       "      <td>B0000GH6UG</td>\n",
       "      <td>Ibarra</td>\n",
       "      <td></td>\n",
       "      <td>[Ibarra Chocolate, 19 Oz, , ]</td>\n",
       "    </tr>\n",
       "    <tr>\n",
       "      <th>6</th>\n",
       "      <td>B0000KC2BK</td>\n",
       "      <td>Knorr</td>\n",
       "      <td>$3.09</td>\n",
       "      <td>[Knorr Granulated Chicken Flavor Bouillon is a...</td>\n",
       "    </tr>\n",
       "    <tr>\n",
       "      <th>7</th>\n",
       "      <td>B0001E1IN8</td>\n",
       "      <td>Castillo</td>\n",
       "      <td></td>\n",
       "      <td>[Red chili habanero sauces. They are present t...</td>\n",
       "    </tr>\n",
       "    <tr>\n",
       "      <th>8</th>\n",
       "      <td>B00032E8XK</td>\n",
       "      <td>Chicken of the Sea</td>\n",
       "      <td>$1.48</td>\n",
       "      <td>[Chicken of the Sea Solid White Albacore Tuna ...</td>\n",
       "    </tr>\n",
       "    <tr>\n",
       "      <th>9</th>\n",
       "      <td>B0005XMTHE</td>\n",
       "      <td>Smucker's</td>\n",
       "      <td>$2.29</td>\n",
       "      <td>[Helps build muscles with bcaa's amino acids, ...</td>\n",
       "    </tr>\n",
       "  </tbody>\n",
       "</table>\n",
       "</div>"
      ],
      "text/plain": [
       "         asin               brand  price  \\\n",
       "0  B00005BPJO           Milk Duds  $5.00   \n",
       "1  B00005BPJO           Milk Duds  $5.00   \n",
       "2  B0000DIF38                Goya          \n",
       "3  B0000DIWNI               Saran          \n",
       "4  B0000DIWNZ               Saran          \n",
       "5  B0000GH6UG              Ibarra          \n",
       "6  B0000KC2BK               Knorr  $3.09   \n",
       "7  B0001E1IN8            Castillo          \n",
       "8  B00032E8XK  Chicken of the Sea  $1.48   \n",
       "9  B0005XMTHE           Smucker's  $2.29   \n",
       "\n",
       "                                         description  \n",
       "0  [Sink your sweet tooth into MILK DUDS Candya d...  \n",
       "1  [Sink your sweet tooth into MILK DUDS Candya d...  \n",
       "2  [A perfect Lentil soup starts with Goya Lentil...  \n",
       "3  [Saran Premium Wrap is an extra tough yet easy...  \n",
       "4  [200 sq ft (285 ft x 11-3/4 in x 18.6 m2). Eas...  \n",
       "5                      [Ibarra Chocolate, 19 Oz, , ]  \n",
       "6  [Knorr Granulated Chicken Flavor Bouillon is a...  \n",
       "7  [Red chili habanero sauces. They are present t...  \n",
       "8  [Chicken of the Sea Solid White Albacore Tuna ...  \n",
       "9  [Helps build muscles with bcaa's amino acids, ...  "
      ]
     },
     "execution_count": 14,
     "metadata": {},
     "output_type": "execute_result"
    }
   ],
   "source": [
    "items_df = pantry_meta_df.copy()\n",
    "items_df = items_df[['asin', 'brand', 'price', 'description']]\n",
    "print(items_df.shape)\n",
    "items_df.head(10)"
   ]
  },
  {
   "cell_type": "code",
   "execution_count": 15,
   "id": "b2a00cd7-620b-47e3-85f8-c71d133ba55e",
   "metadata": {},
   "outputs": [
    {
     "data": {
      "text/plain": [
       "['Sink your sweet tooth into MILK DUDS Candya delicious blend of smooth milk chocolate and chewy caramel. These bite-sized candies are perfect for popping whether youre at home, on the go, or watching movies with friends. Stock up and always have a mouthwatering treat within reach.']"
      ]
     },
     "execution_count": 15,
     "metadata": {},
     "output_type": "execute_result"
    }
   ],
   "source": [
    "items_df[\"description\"].iloc[0]"
   ]
  },
  {
   "cell_type": "markdown",
   "id": "1575afe6-88bc-460d-93cf-998250d75779",
   "metadata": {},
   "source": [
    "### asinカラムの値に基づいて重複行を削除"
   ]
  },
  {
   "cell_type": "code",
   "execution_count": 16,
   "id": "39ba8a2d-f8c4-4855-bbea-9759f5cee3bf",
   "metadata": {},
   "outputs": [
    {
     "data": {
      "text/plain": [
       "(10812, 4)"
      ]
     },
     "execution_count": 16,
     "metadata": {},
     "output_type": "execute_result"
    }
   ],
   "source": [
    "items_df = items_df.drop_duplicates(subset=['asin'], keep='last')\n",
    "items_df.shape"
   ]
  },
  {
   "cell_type": "code",
   "execution_count": 17,
   "id": "0af233c0-c2da-4532-97e2-2c3cb132af0a",
   "metadata": {},
   "outputs": [
    {
     "data": {
      "text/plain": [
       "1        [Sink your sweet tooth into MILK DUDS Candya d...\n",
       "2        [A perfect Lentil soup starts with Goya Lentil...\n",
       "3        [Saran Premium Wrap is an extra tough yet easy...\n",
       "4        [200 sq ft (285 ft x 11-3/4 in x 18.6 m2). Eas...\n",
       "5                            [Ibarra Chocolate, 19 Oz, , ]\n",
       "                               ...                        \n",
       "10808    [These bars are where our journey started and ...\n",
       "10809    [These bars are where our journey started and ...\n",
       "10810    [These bars are where our journey started and ...\n",
       "10811    [These bars are where our journey started and ...\n",
       "10812    [Delicious, crowd pleasing and convenient it c...\n",
       "Name: description, Length: 10812, dtype: object"
      ]
     },
     "execution_count": 17,
     "metadata": {},
     "output_type": "execute_result"
    }
   ],
   "source": [
    "items_df['description']"
   ]
  },
  {
   "cell_type": "markdown",
   "id": "e8dc7e31-39a1-4cb1-b189-76f1f4ee97de",
   "metadata": {},
   "source": [
    "### 文字列の配列として表現されている description を文字列に変換"
   ]
  },
  {
   "cell_type": "markdown",
   "id": "7d784ff5-256e-4f3d-9168-378d0928202d",
   "metadata": {},
   "source": [
    "### 説明文のクリーニングに使用するユーティリティ関数"
   ]
  },
  {
   "cell_type": "code",
   "execution_count": 18,
   "id": "c15a6430-928a-4ebd-8337-95158933ccc7",
   "metadata": {},
   "outputs": [],
   "source": [
    "def clean_markup(value):\n",
    "    s = str(value).strip()\n",
    "    if s != '':\n",
    "        s = str(html.fromstring(s).text_content())\n",
    "        s = ' '.join(s.split())\n",
    "                \n",
    "    return s.strip()\n",
    "\n",
    "# Cleans and reformats the description column value for a dataframe row.\n",
    "def clean_and_reformat_description(row):\n",
    "    s = ''\n",
    "    for el in row['description']:\n",
    "        el = clean_markup(el)\n",
    "        if el != '':\n",
    "            s += ' ' + el\n",
    "                \n",
    "    return s.strip()"
   ]
  },
  {
   "cell_type": "code",
   "execution_count": 19,
   "id": "e9aecb2c-9270-41aa-8a93-84a9468f9383",
   "metadata": {},
   "outputs": [
    {
     "data": {
      "text/html": [
       "<div>\n",
       "<style scoped>\n",
       "    .dataframe tbody tr th:only-of-type {\n",
       "        vertical-align: middle;\n",
       "    }\n",
       "\n",
       "    .dataframe tbody tr th {\n",
       "        vertical-align: top;\n",
       "    }\n",
       "\n",
       "    .dataframe thead th {\n",
       "        text-align: right;\n",
       "    }\n",
       "</style>\n",
       "<table border=\"1\" class=\"dataframe\">\n",
       "  <thead>\n",
       "    <tr style=\"text-align: right;\">\n",
       "      <th></th>\n",
       "      <th>asin</th>\n",
       "      <th>brand</th>\n",
       "      <th>price</th>\n",
       "      <th>description</th>\n",
       "    </tr>\n",
       "  </thead>\n",
       "  <tbody>\n",
       "    <tr>\n",
       "      <th>1</th>\n",
       "      <td>B00005BPJO</td>\n",
       "      <td>Milk Duds</td>\n",
       "      <td>$5.00</td>\n",
       "      <td>Sink your sweet tooth into MILK DUDS Candya de...</td>\n",
       "    </tr>\n",
       "    <tr>\n",
       "      <th>2</th>\n",
       "      <td>B0000DIF38</td>\n",
       "      <td>Goya</td>\n",
       "      <td></td>\n",
       "      <td>A perfect Lentil soup starts with Goya Lentils...</td>\n",
       "    </tr>\n",
       "    <tr>\n",
       "      <th>3</th>\n",
       "      <td>B0000DIWNI</td>\n",
       "      <td>Saran</td>\n",
       "      <td></td>\n",
       "      <td>Saran Premium Wrap is an extra tough yet easy ...</td>\n",
       "    </tr>\n",
       "    <tr>\n",
       "      <th>4</th>\n",
       "      <td>B0000DIWNZ</td>\n",
       "      <td>Saran</td>\n",
       "      <td></td>\n",
       "      <td>200 sq ft (285 ft x 11-3/4 in x 18.6 m2). Easy...</td>\n",
       "    </tr>\n",
       "    <tr>\n",
       "      <th>5</th>\n",
       "      <td>B0000GH6UG</td>\n",
       "      <td>Ibarra</td>\n",
       "      <td></td>\n",
       "      <td>Ibarra Chocolate, 19 Oz</td>\n",
       "    </tr>\n",
       "  </tbody>\n",
       "</table>\n",
       "</div>"
      ],
      "text/plain": [
       "         asin      brand  price  \\\n",
       "1  B00005BPJO  Milk Duds  $5.00   \n",
       "2  B0000DIF38       Goya          \n",
       "3  B0000DIWNI      Saran          \n",
       "4  B0000DIWNZ      Saran          \n",
       "5  B0000GH6UG     Ibarra          \n",
       "\n",
       "                                         description  \n",
       "1  Sink your sweet tooth into MILK DUDS Candya de...  \n",
       "2  A perfect Lentil soup starts with Goya Lentils...  \n",
       "3  Saran Premium Wrap is an extra tough yet easy ...  \n",
       "4  200 sq ft (285 ft x 11-3/4 in x 18.6 m2). Easy...  \n",
       "5                            Ibarra Chocolate, 19 Oz  "
      ]
     },
     "execution_count": 19,
     "metadata": {},
     "output_type": "execute_result"
    }
   ],
   "source": [
    "items_df['description'] = items_df.apply(clean_and_reformat_description, axis=1)\n",
    "items_df.head()"
   ]
  },
  {
   "cell_type": "markdown",
   "id": "a8051c2d-cdc7-49fd-a419-54bf5cf161ad",
   "metadata": {},
   "source": [
    "### price カラムを数値に変換"
   ]
  },
  {
   "cell_type": "code",
   "execution_count": 20,
   "id": "93b2330a-aa62-4c13-be77-dc9ad4ca698c",
   "metadata": {},
   "outputs": [
    {
     "data": {
      "text/plain": [
       "price\n",
       "          4063\n",
       "$2.99      114\n",
       "$3.99      113\n",
       "$4.99      103\n",
       "$5.99       87\n",
       "          ... \n",
       "$12.93       1\n",
       "$20.80       1\n",
       "$13.97       1\n",
       "$11.46       1\n",
       "$4.32        1\n",
       "Name: count, Length: 1482, dtype: int64"
      ]
     },
     "execution_count": 20,
     "metadata": {},
     "output_type": "execute_result"
    }
   ],
   "source": [
    "items_df['price'].value_counts()"
   ]
  },
  {
   "cell_type": "code",
   "execution_count": 21,
   "id": "02db7cbf-3576-4dd3-93bd-9d074f2d6077",
   "metadata": {},
   "outputs": [
    {
     "data": {
      "text/plain": [
       "1        $5.00\n",
       "2             \n",
       "3             \n",
       "4             \n",
       "5             \n",
       "         ...  \n",
       "10808    $3.98\n",
       "10809    $5.81\n",
       "10810    $4.98\n",
       "10811    $5.81\n",
       "10812    $6.82\n",
       "Name: price, Length: 10812, dtype: object"
      ]
     },
     "execution_count": 21,
     "metadata": {},
     "output_type": "execute_result"
    }
   ],
   "source": [
    "items_df['price']"
   ]
  },
  {
   "cell_type": "markdown",
   "id": "bbb9328b-7796-43a4-ad37-48a9d775cd89",
   "metadata": {},
   "source": [
    "#### 空または数値以外の価格をnp.nanに変換し、それ以外はすべて$の通貨記号を削除します。これにより、型をfloatに強制する"
   ]
  },
  {
   "cell_type": "code",
   "execution_count": 22,
   "id": "eb263acc-9a69-4d5c-b2e0-ff0a052ad9ed",
   "metadata": {},
   "outputs": [
    {
     "data": {
      "text/html": [
       "<div>\n",
       "<style scoped>\n",
       "    .dataframe tbody tr th:only-of-type {\n",
       "        vertical-align: middle;\n",
       "    }\n",
       "\n",
       "    .dataframe tbody tr th {\n",
       "        vertical-align: top;\n",
       "    }\n",
       "\n",
       "    .dataframe thead th {\n",
       "        text-align: right;\n",
       "    }\n",
       "</style>\n",
       "<table border=\"1\" class=\"dataframe\">\n",
       "  <thead>\n",
       "    <tr style=\"text-align: right;\">\n",
       "      <th></th>\n",
       "      <th>asin</th>\n",
       "      <th>brand</th>\n",
       "      <th>price</th>\n",
       "      <th>description</th>\n",
       "    </tr>\n",
       "  </thead>\n",
       "  <tbody>\n",
       "    <tr>\n",
       "      <th>1</th>\n",
       "      <td>B00005BPJO</td>\n",
       "      <td>Milk Duds</td>\n",
       "      <td>5.00</td>\n",
       "      <td>Sink your sweet tooth into MILK DUDS Candya de...</td>\n",
       "    </tr>\n",
       "    <tr>\n",
       "      <th>2</th>\n",
       "      <td>B0000DIF38</td>\n",
       "      <td>Goya</td>\n",
       "      <td>NaN</td>\n",
       "      <td>A perfect Lentil soup starts with Goya Lentils...</td>\n",
       "    </tr>\n",
       "    <tr>\n",
       "      <th>3</th>\n",
       "      <td>B0000DIWNI</td>\n",
       "      <td>Saran</td>\n",
       "      <td>NaN</td>\n",
       "      <td>Saran Premium Wrap is an extra tough yet easy ...</td>\n",
       "    </tr>\n",
       "    <tr>\n",
       "      <th>4</th>\n",
       "      <td>B0000DIWNZ</td>\n",
       "      <td>Saran</td>\n",
       "      <td>NaN</td>\n",
       "      <td>200 sq ft (285 ft x 11-3/4 in x 18.6 m2). Easy...</td>\n",
       "    </tr>\n",
       "    <tr>\n",
       "      <th>5</th>\n",
       "      <td>B0000GH6UG</td>\n",
       "      <td>Ibarra</td>\n",
       "      <td>NaN</td>\n",
       "      <td>Ibarra Chocolate, 19 Oz</td>\n",
       "    </tr>\n",
       "    <tr>\n",
       "      <th>...</th>\n",
       "      <td>...</td>\n",
       "      <td>...</td>\n",
       "      <td>...</td>\n",
       "      <td>...</td>\n",
       "    </tr>\n",
       "    <tr>\n",
       "      <th>10808</th>\n",
       "      <td>B01HI76312</td>\n",
       "      <td>KIND</td>\n",
       "      <td>3.98</td>\n",
       "      <td>These bars are where our journey started and i...</td>\n",
       "    </tr>\n",
       "    <tr>\n",
       "      <th>10809</th>\n",
       "      <td>B01HI76790</td>\n",
       "      <td>KIND</td>\n",
       "      <td>5.81</td>\n",
       "      <td>These bars are where our journey started and i...</td>\n",
       "    </tr>\n",
       "    <tr>\n",
       "      <th>10810</th>\n",
       "      <td>B01HI76SA8</td>\n",
       "      <td>KIND</td>\n",
       "      <td>4.98</td>\n",
       "      <td>These bars are where our journey started and i...</td>\n",
       "    </tr>\n",
       "    <tr>\n",
       "      <th>10811</th>\n",
       "      <td>B01HI76XS0</td>\n",
       "      <td>KIND</td>\n",
       "      <td>5.81</td>\n",
       "      <td>These bars are where our journey started and i...</td>\n",
       "    </tr>\n",
       "    <tr>\n",
       "      <th>10812</th>\n",
       "      <td>B01HI8JVI8</td>\n",
       "      <td>Tostitos</td>\n",
       "      <td>6.82</td>\n",
       "      <td>Delicious, crowd pleasing and convenient it ca...</td>\n",
       "    </tr>\n",
       "  </tbody>\n",
       "</table>\n",
       "<p>10812 rows × 4 columns</p>\n",
       "</div>"
      ],
      "text/plain": [
       "             asin      brand price  \\\n",
       "1      B00005BPJO  Milk Duds  5.00   \n",
       "2      B0000DIF38       Goya   NaN   \n",
       "3      B0000DIWNI      Saran   NaN   \n",
       "4      B0000DIWNZ      Saran   NaN   \n",
       "5      B0000GH6UG     Ibarra   NaN   \n",
       "...           ...        ...   ...   \n",
       "10808  B01HI76312       KIND  3.98   \n",
       "10809  B01HI76790       KIND  5.81   \n",
       "10810  B01HI76SA8       KIND  4.98   \n",
       "10811  B01HI76XS0       KIND  5.81   \n",
       "10812  B01HI8JVI8   Tostitos  6.82   \n",
       "\n",
       "                                             description  \n",
       "1      Sink your sweet tooth into MILK DUDS Candya de...  \n",
       "2      A perfect Lentil soup starts with Goya Lentils...  \n",
       "3      Saran Premium Wrap is an extra tough yet easy ...  \n",
       "4      200 sq ft (285 ft x 11-3/4 in x 18.6 m2). Easy...  \n",
       "5                                Ibarra Chocolate, 19 Oz  \n",
       "...                                                  ...  \n",
       "10808  These bars are where our journey started and i...  \n",
       "10809  These bars are where our journey started and i...  \n",
       "10810  These bars are where our journey started and i...  \n",
       "10811  These bars are where our journey started and i...  \n",
       "10812  Delicious, crowd pleasing and convenient it ca...  \n",
       "\n",
       "[10812 rows x 4 columns]"
      ]
     },
     "execution_count": 22,
     "metadata": {},
     "output_type": "execute_result"
    }
   ],
   "source": [
    "def convert_price(row):\n",
    "    v = str(row['price']).strip().replace('$', '')\n",
    "    if v == '' or not v.lstrip('-').replace('.', '').isdigit():\n",
    "        return np.nan\n",
    "    return v\n",
    "\n",
    "items_df['price'] = items_df.apply(convert_price, axis=1)\n",
    "items_df"
   ]
  },
  {
   "cell_type": "code",
   "execution_count": 23,
   "id": "de369120-5978-4742-b2ab-782d661382dc",
   "metadata": {},
   "outputs": [
    {
     "data": {
      "text/plain": [
       "price\n",
       "2.99     114\n",
       "3.99     113\n",
       "4.99     103\n",
       "5.99      87\n",
       "2.98      76\n",
       "        ... \n",
       "7.62       1\n",
       "16.18      1\n",
       "21.84      1\n",
       "12.93      1\n",
       "4.32       1\n",
       "Name: count, Length: 1480, dtype: int64"
      ]
     },
     "execution_count": 23,
     "metadata": {},
     "output_type": "execute_result"
    }
   ],
   "source": [
    "items_df['price'].value_counts()"
   ]
  },
  {
   "cell_type": "markdown",
   "id": "33b6f564-7796-48be-a80d-a0626a4c0a78",
   "metadata": {},
   "source": [
    "### Amazon Personalize 向けにカラム名を変更"
   ]
  },
  {
   "cell_type": "code",
   "execution_count": 24,
   "id": "a946c500-a40d-44c6-ae53-607d8bccaf30",
   "metadata": {},
   "outputs": [
    {
     "data": {
      "text/html": [
       "<div>\n",
       "<style scoped>\n",
       "    .dataframe tbody tr th:only-of-type {\n",
       "        vertical-align: middle;\n",
       "    }\n",
       "\n",
       "    .dataframe tbody tr th {\n",
       "        vertical-align: top;\n",
       "    }\n",
       "\n",
       "    .dataframe thead th {\n",
       "        text-align: right;\n",
       "    }\n",
       "</style>\n",
       "<table border=\"1\" class=\"dataframe\">\n",
       "  <thead>\n",
       "    <tr style=\"text-align: right;\">\n",
       "      <th></th>\n",
       "      <th>ITEM_ID</th>\n",
       "      <th>BRAND</th>\n",
       "      <th>PRICE</th>\n",
       "      <th>DESCRIPTION</th>\n",
       "    </tr>\n",
       "  </thead>\n",
       "  <tbody>\n",
       "    <tr>\n",
       "      <th>1</th>\n",
       "      <td>B00005BPJO</td>\n",
       "      <td>Milk Duds</td>\n",
       "      <td>5.00</td>\n",
       "      <td>Sink your sweet tooth into MILK DUDS Candya de...</td>\n",
       "    </tr>\n",
       "    <tr>\n",
       "      <th>2</th>\n",
       "      <td>B0000DIF38</td>\n",
       "      <td>Goya</td>\n",
       "      <td>NaN</td>\n",
       "      <td>A perfect Lentil soup starts with Goya Lentils...</td>\n",
       "    </tr>\n",
       "    <tr>\n",
       "      <th>3</th>\n",
       "      <td>B0000DIWNI</td>\n",
       "      <td>Saran</td>\n",
       "      <td>NaN</td>\n",
       "      <td>Saran Premium Wrap is an extra tough yet easy ...</td>\n",
       "    </tr>\n",
       "    <tr>\n",
       "      <th>4</th>\n",
       "      <td>B0000DIWNZ</td>\n",
       "      <td>Saran</td>\n",
       "      <td>NaN</td>\n",
       "      <td>200 sq ft (285 ft x 11-3/4 in x 18.6 m2). Easy...</td>\n",
       "    </tr>\n",
       "    <tr>\n",
       "      <th>5</th>\n",
       "      <td>B0000GH6UG</td>\n",
       "      <td>Ibarra</td>\n",
       "      <td>NaN</td>\n",
       "      <td>Ibarra Chocolate, 19 Oz</td>\n",
       "    </tr>\n",
       "    <tr>\n",
       "      <th>6</th>\n",
       "      <td>B0000KC2BK</td>\n",
       "      <td>Knorr</td>\n",
       "      <td>3.09</td>\n",
       "      <td>Knorr Granulated Chicken Flavor Bouillon is a ...</td>\n",
       "    </tr>\n",
       "    <tr>\n",
       "      <th>7</th>\n",
       "      <td>B0001E1IN8</td>\n",
       "      <td>Castillo</td>\n",
       "      <td>NaN</td>\n",
       "      <td>Red chili habanero sauces. They are present to...</td>\n",
       "    </tr>\n",
       "    <tr>\n",
       "      <th>8</th>\n",
       "      <td>B00032E8XK</td>\n",
       "      <td>Chicken of the Sea</td>\n",
       "      <td>1.48</td>\n",
       "      <td>Chicken of the Sea Solid White Albacore Tuna i...</td>\n",
       "    </tr>\n",
       "    <tr>\n",
       "      <th>9</th>\n",
       "      <td>B0005XMTHE</td>\n",
       "      <td>Smucker's</td>\n",
       "      <td>2.29</td>\n",
       "      <td>Helps build muscles with bcaa's amino acids, i...</td>\n",
       "    </tr>\n",
       "    <tr>\n",
       "      <th>10</th>\n",
       "      <td>B0005XNE6E</td>\n",
       "      <td>Snapple</td>\n",
       "      <td>1.99</td>\n",
       "      <td>At Snapple, we believe lifes a peach. Weve bee...</td>\n",
       "    </tr>\n",
       "  </tbody>\n",
       "</table>\n",
       "</div>"
      ],
      "text/plain": [
       "       ITEM_ID               BRAND PRICE  \\\n",
       "1   B00005BPJO           Milk Duds  5.00   \n",
       "2   B0000DIF38                Goya   NaN   \n",
       "3   B0000DIWNI               Saran   NaN   \n",
       "4   B0000DIWNZ               Saran   NaN   \n",
       "5   B0000GH6UG              Ibarra   NaN   \n",
       "6   B0000KC2BK               Knorr  3.09   \n",
       "7   B0001E1IN8            Castillo   NaN   \n",
       "8   B00032E8XK  Chicken of the Sea  1.48   \n",
       "9   B0005XMTHE           Smucker's  2.29   \n",
       "10  B0005XNE6E             Snapple  1.99   \n",
       "\n",
       "                                          DESCRIPTION  \n",
       "1   Sink your sweet tooth into MILK DUDS Candya de...  \n",
       "2   A perfect Lentil soup starts with Goya Lentils...  \n",
       "3   Saran Premium Wrap is an extra tough yet easy ...  \n",
       "4   200 sq ft (285 ft x 11-3/4 in x 18.6 m2). Easy...  \n",
       "5                             Ibarra Chocolate, 19 Oz  \n",
       "6   Knorr Granulated Chicken Flavor Bouillon is a ...  \n",
       "7   Red chili habanero sauces. They are present to...  \n",
       "8   Chicken of the Sea Solid White Albacore Tuna i...  \n",
       "9   Helps build muscles with bcaa's amino acids, i...  \n",
       "10  At Snapple, we believe lifes a peach. Weve bee...  "
      ]
     },
     "execution_count": 24,
     "metadata": {},
     "output_type": "execute_result"
    }
   ],
   "source": [
    "items_df.rename(columns = {'asin':'ITEM_ID', 'brand':'BRAND', \n",
    "                              'price':'PRICE', 'description': 'DESCRIPTION'}, inplace = True)\n",
    "items_df.head(10)"
   ]
  },
  {
   "cell_type": "markdown",
   "id": "33de0325-1c53-4bca-8005-43774c44a8c1",
   "metadata": {},
   "source": [
    "### パーソナライズ・モデルをトレーニング用のCSVを作成\n",
    "### オフラインの評価指標を比較したり、オンラインでレコメンデーションの検証を行ったりする"
   ]
  },
  {
   "cell_type": "code",
   "execution_count": 25,
   "id": "6e11abe5-9493-4d18-ba84-e81988b102a0",
   "metadata": {},
   "outputs": [],
   "source": [
    "items_filename = \"items-metadata.csv\"\n",
    "items_df.to_csv(items_filename, index=False, float_format='%.2f')"
   ]
  },
  {
   "cell_type": "markdown",
   "id": "6a4a62b0-404e-4a5e-9632-ed6478795dbf",
   "metadata": {},
   "source": [
    "### データセットインポートジョブを使用してPersonalizeにデータセットをアップロード\n",
    "### CSVをアップロードする前に、データセットグループを作成し、データセットのスキーマを作成し、データセットを作成する必要がある"
   ]
  },
  {
   "cell_type": "markdown",
   "id": "d5034f9c-154c-4de9-b816-7abe47459a7b",
   "metadata": {},
   "source": [
    "### データセットグループの作成"
   ]
  },
  {
   "cell_type": "code",
   "execution_count": 26,
   "id": "4e935657-05c4-4185-bf54-55cda75f9dd2",
   "metadata": {},
   "outputs": [],
   "source": [
    "region_name = 'ap-northeast-1'\n",
    "\n",
    "AWS_ACCESS_KEY_ID = os.environ.get(\"AWS_ACCESS_KEY_ID\")\n",
    "AWS_SECRET_ACCESS_KEY = os.environ.get(\"AWS_SECRET_ACCESS_KEY\")\n",
    "\n",
    "personalize = boto3.client(\n",
    "    'personalize',\n",
    "    aws_access_key_id=AWS_ACCESS_KEY_ID,\n",
    "    aws_secret_access_key=AWS_SECRET_ACCESS_KEY,\n",
    "    region_name=region_name\n",
    ")\n",
    "\n",
    "personalize_runtime = boto3.client(\n",
    "    'personalize-runtime', \n",
    "    aws_access_key_id=AWS_ACCESS_KEY_ID,\n",
    "    aws_secret_access_key=AWS_SECRET_ACCESS_KEY,\n",
    "    region_name=region_name\n",
    ")"
   ]
  },
  {
   "cell_type": "code",
   "execution_count": 27,
   "id": "092b698b-4e07-4f7e-ae4a-4c162e18fc86",
   "metadata": {},
   "outputs": [
    {
     "name": "stdout",
     "output_type": "stream",
     "text": [
      "{\n",
      "  \"datasetGroupArn\": \"arn:aws:personalize:ap-northeast-1:627614495110:dataset-group/amazon-pantry-aws-similar-items\",\n",
      "  \"ResponseMetadata\": {\n",
      "    \"RequestId\": \"ea0e717d-1608-4939-a4c5-6c9aa937c42d\",\n",
      "    \"HTTPStatusCode\": 200,\n",
      "    \"HTTPHeaders\": {\n",
      "      \"date\": \"Sat, 24 May 2025 09:15:33 GMT\",\n",
      "      \"content-type\": \"application/x-amz-json-1.1\",\n",
      "      \"content-length\": \"115\",\n",
      "      \"connection\": \"keep-alive\",\n",
      "      \"x-amzn-requestid\": \"ea0e717d-1608-4939-a4c5-6c9aa937c42d\",\n",
      "      \"strict-transport-security\": \"max-age=47304000; includeSubDomains\",\n",
      "      \"x-frame-options\": \"DENY\",\n",
      "      \"cache-control\": \"no-cache\",\n",
      "      \"x-content-type-options\": \"nosniff\"\n",
      "    },\n",
      "    \"RetryAttempts\": 0\n",
      "  }\n",
      "}\n"
     ]
    }
   ],
   "source": [
    "create_dataset_group_response = personalize.create_dataset_group(\n",
    "    name = \"amazon-pantry-aws-similar-items\"\n",
    ")\n",
    "\n",
    "dataset_group = create_dataset_group_response['datasetGroupArn']\n",
    "print(json.dumps(create_dataset_group_response, indent=2))"
   ]
  },
  {
   "cell_type": "markdown",
   "id": "59d5b0bf-6e7d-4b4d-aefd-73f476902049",
   "metadata": {},
   "source": [
    "### データセットグループが完全に作成されるには数秒かかる"
   ]
  },
  {
   "cell_type": "code",
   "execution_count": 28,
   "id": "e1f97d16-d0cc-4bcd-b298-f080b5f1a1de",
   "metadata": {},
   "outputs": [],
   "source": [
    "in_progress_dataset_group_arns = [ dataset_group ]\n",
    "max_time = time.time() + 3*60*60 # 3 hours"
   ]
  },
  {
   "cell_type": "code",
   "execution_count": 29,
   "id": "76c7e613-23a0-4148-a14d-e1002b8fa0c5",
   "metadata": {},
   "outputs": [
    {
     "name": "stdout",
     "output_type": "stream",
     "text": [
      "At least one dataset group create is still in progress\n",
      "At least one dataset group create is still in progress\n",
      "Dataset group create succeeded for arn:aws:personalize:ap-northeast-1:627614495110:dataset-group/amazon-pantry-aws-similar-items\n"
     ]
    }
   ],
   "source": [
    "while time.time() < max_time:\n",
    "    for dataset_group_arn in in_progress_dataset_group_arns:\n",
    "        describe_dataset_group_response = personalize.describe_dataset_group(\n",
    "            datasetGroupArn = dataset_group_arn\n",
    "        )\n",
    "        status = describe_dataset_group_response[\"datasetGroup\"][\"status\"]\n",
    "        if status == \"ACTIVE\":\n",
    "            print(\"Dataset group create succeeded for {}\".format(dataset_group_arn))\n",
    "            in_progress_dataset_group_arns.remove(dataset_group_arn)\n",
    "        elif status == \"CREATE FAILED\":\n",
    "            print(\"Create failed for {}\".format(dataset_group_arn))\n",
    "            in_progress_dataset_group_arns.remove(dataset_group_arn)\n",
    "\n",
    "    if len(in_progress_dataset_group_arns) <= 0:\n",
    "        break\n",
    "    else:\n",
    "        print(\"At least one dataset group create is still in progress\")\n",
    "                \n",
    "    time.sleep(10)"
   ]
  },
  {
   "cell_type": "markdown",
   "id": "2e250b55-049c-4528-bf43-58e5f77c1c14",
   "metadata": {},
   "source": [
    "### インタラクションデータセットのスキーマとデータセットを作成する\n",
    "### Interactionsデータセットのスキーマを1つ作成し、両方のソリューションで共有します。\n",
    "### スキーマは AWS アカウントのグローバルなものであり、データセットグループに固有のものではないため、このようなことが可能です。"
   ]
  },
  {
   "cell_type": "code",
   "execution_count": 30,
   "id": "0c4dc6eb-6a24-463c-803e-a2c9305f0215",
   "metadata": {},
   "outputs": [],
   "source": [
    "interactions_schema = schema = {\n",
    "    \"type\": \"record\",\n",
    "    \"name\": \"Interactions\",\n",
    "    \"namespace\": \"com.amazonaws.personalize.schema\",\n",
    "    \"fields\": [\n",
    "        {\n",
    "            \"name\": \"USER_ID\",\n",
    "            \"type\": \"string\"\n",
    "        },\n",
    "        {\n",
    "            \"name\": \"ITEM_ID\",\n",
    "            \"type\": \"string\"\n",
    "        },\n",
    "        {\n",
    "            \"name\": \"TIMESTAMP\",\n",
    "            \"type\": \"long\"\n",
    "        },\n",
    "        {\n",
    "            \"name\": \"EVENT_VALUE\",\n",
    "            \"type\": \"float\"\n",
    "        },\n",
    "        {\n",
    "            \"name\": \"EVENT_TYPE\",\n",
    "            \"type\": \"string\"\n",
    "        }\n",
    "    ],\n",
    "    \"version\": \"1.0\"\n",
    "}"
   ]
  },
  {
   "cell_type": "markdown",
   "id": "017847e5-abe8-441d-82c3-9f040789bb28",
   "metadata": {},
   "source": [
    "### すでに Schema を作っていたら下記を実行して削除する"
   ]
  },
  {
   "cell_type": "code",
   "execution_count": 39,
   "id": "593c3f60-e94c-48cd-a972-9be7cff50c37",
   "metadata": {},
   "outputs": [
    {
     "data": {
      "text/plain": [
       "{'ResponseMetadata': {'RequestId': '0f88275e-eda8-4e16-b5b5-7f6477c2cd52',\n",
       "  'HTTPStatusCode': 200,\n",
       "  'HTTPHeaders': {'date': 'Sat, 24 May 2025 09:26:56 GMT',\n",
       "   'content-type': 'application/x-amz-json-1.1',\n",
       "   'content-length': '0',\n",
       "   'connection': 'keep-alive',\n",
       "   'x-amzn-requestid': '0f88275e-eda8-4e16-b5b5-7f6477c2cd52',\n",
       "   'strict-transport-security': 'max-age=47304000; includeSubDomains',\n",
       "   'x-frame-options': 'DENY',\n",
       "   'cache-control': 'no-cache',\n",
       "   'x-content-type-options': 'nosniff'},\n",
       "  'RetryAttempts': 0}}"
      ]
     },
     "execution_count": 39,
     "metadata": {},
     "output_type": "execute_result"
    }
   ],
   "source": [
    "### schemaArn の名称は、エラーメッセージからわかる\n",
    "# personalize.delete_schema(\n",
    "#     schemaArn=\"arn:aws:personalize:ap-northeast-1:627614495110:schema/amazon-pantry-interactions-1\"\n",
    "# )"
   ]
  },
  {
   "cell_type": "code",
   "execution_count": 40,
   "id": "24d78a37-559f-4f00-a441-5c509d53cbe8",
   "metadata": {},
   "outputs": [],
   "source": [
    "create_schema_response = personalize.create_schema(\n",
    "    name = \"amazon-pantry-interactions-1\",\n",
    "    schema = json.dumps(interactions_schema)\n",
    ")"
   ]
  },
  {
   "cell_type": "code",
   "execution_count": 41,
   "id": "c3149ff9-240a-4e8d-9524-3b8cce32e959",
   "metadata": {},
   "outputs": [
    {
     "name": "stdout",
     "output_type": "stream",
     "text": [
      "{\n",
      "  \"schemaArn\": \"arn:aws:personalize:ap-northeast-1:627614495110:schema/amazon-pantry-interactions-1\",\n",
      "  \"ResponseMetadata\": {\n",
      "    \"RequestId\": \"84b78065-fb74-4314-a3bb-23a6e8b48935\",\n",
      "    \"HTTPStatusCode\": 200,\n",
      "    \"HTTPHeaders\": {\n",
      "      \"date\": \"Sat, 24 May 2025 09:28:42 GMT\",\n",
      "      \"content-type\": \"application/x-amz-json-1.1\",\n",
      "      \"content-length\": \"99\",\n",
      "      \"connection\": \"keep-alive\",\n",
      "      \"x-amzn-requestid\": \"84b78065-fb74-4314-a3bb-23a6e8b48935\",\n",
      "      \"strict-transport-security\": \"max-age=47304000; includeSubDomains\",\n",
      "      \"x-frame-options\": \"DENY\",\n",
      "      \"cache-control\": \"no-cache\",\n",
      "      \"x-content-type-options\": \"nosniff\"\n",
      "    },\n",
      "    \"RetryAttempts\": 0\n",
      "  }\n",
      "}\n"
     ]
    }
   ],
   "source": [
    "interaction_schema_arn = create_schema_response['schemaArn']\n",
    "print(json.dumps(create_schema_response, indent=2))"
   ]
  },
  {
   "cell_type": "markdown",
   "id": "ac33478d-d62c-456a-935c-acf7d0b0b49c",
   "metadata": {},
   "source": [
    "### 先ほど作成したスキーマを指定して、データセットグループにInteractionsデータセットを作成する"
   ]
  },
  {
   "cell_type": "code",
   "execution_count": 42,
   "id": "b300ba6f-32db-4395-82cf-6102697ad383",
   "metadata": {},
   "outputs": [
    {
     "name": "stdout",
     "output_type": "stream",
     "text": [
      "{\n",
      "  \"datasetArn\": \"arn:aws:personalize:ap-northeast-1:627614495110:dataset/amazon-pantry-aws-similar-items/INTERACTIONS\",\n",
      "  \"ResponseMetadata\": {\n",
      "    \"RequestId\": \"a384aa3e-1ee7-4c3c-b54c-9b81c432488e\",\n",
      "    \"HTTPStatusCode\": 200,\n",
      "    \"HTTPHeaders\": {\n",
      "      \"date\": \"Sat, 24 May 2025 09:28:42 GMT\",\n",
      "      \"content-type\": \"application/x-amz-json-1.1\",\n",
      "      \"content-length\": \"117\",\n",
      "      \"connection\": \"keep-alive\",\n",
      "      \"x-amzn-requestid\": \"a384aa3e-1ee7-4c3c-b54c-9b81c432488e\",\n",
      "      \"strict-transport-security\": \"max-age=47304000; includeSubDomains\",\n",
      "      \"x-frame-options\": \"DENY\",\n",
      "      \"cache-control\": \"no-cache\",\n",
      "      \"x-content-type-options\": \"nosniff\"\n",
      "    },\n",
      "    \"RetryAttempts\": 0\n",
      "  }\n",
      "}\n"
     ]
    }
   ],
   "source": [
    "dataset_type = \"INTERACTIONS\"\n",
    "create_dataset_response = personalize.create_dataset(\n",
    "    name = \"amazon-pantry-ints\",\n",
    "    datasetType = dataset_type,\n",
    "    datasetGroupArn = dataset_group,\n",
    "    schemaArn = interaction_schema_arn\n",
    ")\n",
    "\n",
    "interactions_dataset = create_dataset_response['datasetArn']\n",
    "print(json.dumps(create_dataset_response, indent=2))"
   ]
  },
  {
   "cell_type": "markdown",
   "id": "198fbad2-f783-41b9-8745-32ddf4164d86",
   "metadata": {},
   "source": [
    "### S3でインタラクションCSVをステージングする\n",
    "### 先ほど作成したInteractions CSVを先ほど作成したPersonalizeデータセットにアップロードする前に、S3バケットにCSVをステージングする必要がある\n",
    "### S3バケットを作成し、Interactions CSVファイルをバケットにコピーしよう。"
   ]
  },
  {
   "cell_type": "code",
   "execution_count": 43,
   "id": "00c43ac6-5ab0-48c3-81df-0babadd0a60c",
   "metadata": {},
   "outputs": [
    {
     "name": "stdout",
     "output_type": "stream",
     "text": [
      "amazon-pantry-personalize-example-627614495110\n"
     ]
    }
   ],
   "source": [
    "s3 = boto3.client(\n",
    "    's3',\n",
    "    aws_access_key_id=AWS_ACCESS_KEY_ID,\n",
    "    aws_secret_access_key=AWS_SECRET_ACCESS_KEY,\n",
    "    region_name=region_name,    \n",
    ")\n",
    "\n",
    "account_id = boto3.client(\n",
    "    'sts',\n",
    "    aws_access_key_id=AWS_ACCESS_KEY_ID,\n",
    "    aws_secret_access_key=AWS_SECRET_ACCESS_KEY,\n",
    "    region_name=region_name,\n",
    ").get_caller_identity().get('Account')\n",
    "\n",
    "bucket_name = \"amazon-pantry-personalize-example-\"+account_id\n",
    "\n",
    "print(bucket_name)\n",
    "\n",
    "if region_name == \"us-east-1\":\n",
    "    s3.create_bucket(Bucket=bucket_name)\n",
    "else:\n",
    "    s3.create_bucket(\n",
    "        Bucket=bucket_name,\n",
    "        CreateBucketConfiguration={'LocationConstraint': region_name}\n",
    "    )"
   ]
  },
  {
   "cell_type": "markdown",
   "id": "cf862526-f51e-4d7e-aeb7-a4bd12655567",
   "metadata": {},
   "source": [
    "### S3 へのアップロード"
   ]
  },
  {
   "cell_type": "code",
   "execution_count": 54,
   "id": "e3ed044e-667b-4530-9f06-e1dff12784e5",
   "metadata": {
    "scrolled": true
   },
   "outputs": [],
   "source": [
    "boto3.Session().resource(\n",
    "    's3',\n",
    "    aws_access_key_id=AWS_ACCESS_KEY_ID,\n",
    "    aws_secret_access_key=AWS_SECRET_ACCESS_KEY,\n",
    "    region_name=region_name,\n",
    ").Bucket(bucket_name).Object(interactions_filename).upload_file(interactions_filename)"
   ]
  },
  {
   "cell_type": "markdown",
   "id": "2916524a-de58-4b04-bb02-9649b6b6f2f1",
   "metadata": {},
   "source": [
    "### S3バケットポリシーとIAMロールの作成\n",
    "### データセットのインポートジョブをPersonalizeに送信する前に、Personalizeにバケットへのアクセス権を与えるバケットポリシーとIAMロールを作成する必要があります。"
   ]
  },
  {
   "cell_type": "code",
   "execution_count": 45,
   "id": "cd44501f-9ef9-4364-87c8-bdd3ac96959a",
   "metadata": {},
   "outputs": [
    {
     "data": {
      "text/plain": [
       "{'ResponseMetadata': {'RequestId': 'WB2FAX3D27K5ZE8E',\n",
       "  'HostId': 'MJn0qiUOnv65LYB9w9TdXRWDQRzVaXZazvYTqd9CKCEDKdQj+VSKneKv4I1/z4Lz2VBFLKr/jrvY0dXJyAceaAPrbel1w11S',\n",
       "  'HTTPStatusCode': 204,\n",
       "  'HTTPHeaders': {'x-amz-id-2': 'MJn0qiUOnv65LYB9w9TdXRWDQRzVaXZazvYTqd9CKCEDKdQj+VSKneKv4I1/z4Lz2VBFLKr/jrvY0dXJyAceaAPrbel1w11S',\n",
       "   'x-amz-request-id': 'WB2FAX3D27K5ZE8E',\n",
       "   'date': 'Sat, 24 May 2025 09:28:46 GMT',\n",
       "   'server': 'AmazonS3'},\n",
       "  'RetryAttempts': 0}}"
      ]
     },
     "execution_count": 45,
     "metadata": {},
     "output_type": "execute_result"
    }
   ],
   "source": [
    "policy = {\n",
    "    \"Version\": \"2012-10-17\",\n",
    "    \"Id\": \"PersonalizeS3BucketAccessPolicy\",\n",
    "    \"Statement\": [\n",
    "        {\n",
    "            \"Sid\": \"PersonalizeS3BucketAccessPolicy\",\n",
    "            \"Effect\": \"Allow\",\n",
    "            \"Principal\": {\n",
    "                \"Service\": \"personalize.amazonaws.com\"\n",
    "            },\n",
    "            \"Action\": [\n",
    "                \"s3:*Object\",\n",
    "                \"s3:ListBucket\"\n",
    "            ],\n",
    "            \"Resource\": [\n",
    "                f\"arn:aws:s3:::{bucket_name}\",\n",
    "                f\"arn:aws:s3:::{bucket_name}/*\",\n",
    "            ]\n",
    "        }\n",
    "    ]\n",
    "}\n",
    "\n",
    "s3.put_bucket_policy(Bucket=bucket_name, Policy=json.dumps(policy))"
   ]
  },
  {
   "cell_type": "code",
   "execution_count": 48,
   "id": "d07016db-90a6-48dc-a6e2-cb9db2c1f10d",
   "metadata": {},
   "outputs": [],
   "source": [
    "iam = boto3.client(\n",
    "    \"iam\",\n",
    "    aws_access_key_id=AWS_ACCESS_KEY_ID,\n",
    "    aws_secret_access_key=AWS_SECRET_ACCESS_KEY,\n",
    "    region_name=region_name,\n",
    ")\n",
    "\n",
    "role_name = \"PersonalizeRoleAmazonPantryAwsSimilarItems\"\n",
    "assume_role_policy_document = {\n",
    "    \"Version\": \"2012-10-17\",\n",
    "    \"Statement\": [\n",
    "        {\n",
    "          \"Effect\": \"Allow\",\n",
    "          \"Principal\": {\n",
    "            \"Service\": \"personalize.amazonaws.com\"\n",
    "          },\n",
    "          \"Action\": \"sts:AssumeRole\"\n",
    "        }\n",
    "    ]\n",
    "}\n",
    "\n",
    "try:\n",
    "    create_role_response = iam.create_role(\n",
    "        RoleName = role_name,\n",
    "        AssumeRolePolicyDocument = json.dumps(assume_role_policy_document)\n",
    "    )\n",
    "except:\n",
    "    create_role_response = iam.get_role(RoleName=role_name)"
   ]
  },
  {
   "cell_type": "markdown",
   "id": "7b04acdd-5dda-40ee-a245-e879700ceeff",
   "metadata": {},
   "source": [
    "### AmazonPersonalizeFullAccess は 「personalize」 または 「Personalize」 を含む名前の S3 バケットへのアクセスを提供します。\n",
    "### もし別の名前のバケットを使いたい場合は、新しいポリシーを作成して添付することを検討してください。\n",
    "### バケットへの読み込みアクセスを提供する新しいポリシーを作成して添付するか、AmazonS3ReadOnlyAccessポリシーをロールに添付することを検討してください。"
   ]
  },
  {
   "cell_type": "code",
   "execution_count": 49,
   "id": "76a8711b-8407-4e05-b3f3-b8aaccce7f77",
   "metadata": {},
   "outputs": [
    {
     "name": "stdout",
     "output_type": "stream",
     "text": [
      "arn:aws:iam::627614495110:role/PersonalizeRoleAmazonPantryAwsSimilarItems\n"
     ]
    }
   ],
   "source": [
    "# policy_arn = \"arn:aws:iam::aws:policy/service-role/AmazonPersonalizeFullAccess\"\n",
    "# iam.attach_role_policy(\n",
    "#     RoleName = role_name,\n",
    "#     PolicyArn = policy_arn\n",
    "# )\n",
    "\n",
    "# # Now add S3 support\n",
    "# iam.attach_role_policy(\n",
    "#     PolicyArn='arn:aws:iam::aws:policy/AmazonS3FullAccess',\n",
    "#     RoleName=role_name\n",
    "# )\n",
    "# time.sleep(20) # wait for a minute to allow IAM role policy attachment to propagate\n",
    "\n",
    "role_arn = create_role_response[\"Role\"][\"Arn\"]\n",
    "print(role_arn)"
   ]
  },
  {
   "cell_type": "markdown",
   "id": "59eb6c5f-c375-4e4c-869c-4315634e3834",
   "metadata": {},
   "source": [
    "### 相互作用データセットのインポート\n",
    "### S3バケットにあるステージングされたInteractions CSVを、作成したPersonalizeデータセットにインポートする準備を行う"
   ]
  },
  {
   "cell_type": "code",
   "execution_count": 55,
   "id": "41685a36-2b16-46fd-81a3-6e25898ebd15",
   "metadata": {},
   "outputs": [
    {
     "name": "stdout",
     "output_type": "stream",
     "text": [
      "{\n",
      "  \"datasetImportJobArn\": \"arn:aws:personalize:ap-northeast-1:627614495110:dataset-import-job/amazon-pantry-interactions-import\",\n",
      "  \"ResponseMetadata\": {\n",
      "    \"RequestId\": \"badd1a37-1031-4c57-bef8-487bcffece50\",\n",
      "    \"HTTPStatusCode\": 200,\n",
      "    \"HTTPHeaders\": {\n",
      "      \"date\": \"Sat, 24 May 2025 09:46:01 GMT\",\n",
      "      \"content-type\": \"application/x-amz-json-1.1\",\n",
      "      \"content-length\": \"126\",\n",
      "      \"connection\": \"keep-alive\",\n",
      "      \"x-amzn-requestid\": \"badd1a37-1031-4c57-bef8-487bcffece50\",\n",
      "      \"strict-transport-security\": \"max-age=47304000; includeSubDomains\",\n",
      "      \"x-frame-options\": \"DENY\",\n",
      "      \"cache-control\": \"no-cache\",\n",
      "      \"x-content-type-options\": \"nosniff\"\n",
      "    },\n",
      "    \"RetryAttempts\": 0\n",
      "  }\n",
      "}\n"
     ]
    }
   ],
   "source": [
    "create_dataset_import_job_response = personalize.create_dataset_import_job(\n",
    "    jobName = \"amazon-pantry-interactions-import\",\n",
    "    datasetArn = interactions_dataset,\n",
    "    dataSource = {\n",
    "        \"dataLocation\": f\"s3://{bucket_name}/{interactions_filename}\"\n",
    "    },\n",
    "    roleArn = role_arn\n",
    ")\n",
    "\n",
    "dataset_import_job = create_dataset_import_job_response['datasetImportJobArn']\n",
    "print(json.dumps(create_dataset_import_job_response, indent=2))"
   ]
  },
  {
   "cell_type": "markdown",
   "id": "e7cbb9bd-9deb-4f91-b429-7bc5ad0d3bb8",
   "metadata": {},
   "source": [
    "### アイテム・データセット・スキーマとデータセットの作成"
   ]
  },
  {
   "cell_type": "code",
   "execution_count": 56,
   "id": "f26bab96-006e-4239-89c9-8f7771528da1",
   "metadata": {},
   "outputs": [
    {
     "name": "stdout",
     "output_type": "stream",
     "text": [
      "{\n",
      "  \"schemaArn\": \"arn:aws:personalize:ap-northeast-1:627614495110:schema/amazon-pantry-items-schema\",\n",
      "  \"ResponseMetadata\": {\n",
      "    \"RequestId\": \"5b47c082-296e-4a94-a3fb-342d86f26669\",\n",
      "    \"HTTPStatusCode\": 200,\n",
      "    \"HTTPHeaders\": {\n",
      "      \"date\": \"Sat, 24 May 2025 09:46:28 GMT\",\n",
      "      \"content-type\": \"application/x-amz-json-1.1\",\n",
      "      \"content-length\": \"97\",\n",
      "      \"connection\": \"keep-alive\",\n",
      "      \"x-amzn-requestid\": \"5b47c082-296e-4a94-a3fb-342d86f26669\",\n",
      "      \"strict-transport-security\": \"max-age=47304000; includeSubDomains\",\n",
      "      \"x-frame-options\": \"DENY\",\n",
      "      \"cache-control\": \"no-cache\",\n",
      "      \"x-content-type-options\": \"nosniff\"\n",
      "    },\n",
      "    \"RetryAttempts\": 0\n",
      "  }\n",
      "}\n"
     ]
    }
   ],
   "source": [
    "item_schema = {\n",
    "    \"type\": \"record\",\n",
    "    \"name\": \"Items\",\n",
    "    \"namespace\": \"com.amazonaws.personalize.schema\",\n",
    "    \"fields\": [\n",
    "        {\n",
    "            \"name\": \"ITEM_ID\",\n",
    "            \"type\": \"string\"\n",
    "        },\n",
    "        {\n",
    "            \"name\": \"BRAND\",\n",
    "            \"type\": [ \"null\", \"string\" ],\n",
    "            \"categorical\": True\n",
    "        },{\n",
    "            \"name\": \"PRICE\",\n",
    "            \"type\": [ \"null\", \"float\" ],\n",
    "        },{\n",
    "            \"name\": \"DESCRIPTION\",\n",
    "            \"type\": [ \"null\", \"string\" ],\n",
    "            \"textual\": True\n",
    "        }\n",
    "    ],\n",
    "    \"version\": \"1.0\"\n",
    "}\n",
    "\n",
    "create_schema_response = personalize.create_schema(\n",
    "    name = \"amazon-pantry-items-schema\",\n",
    "    schema = json.dumps(item_schema)\n",
    ")\n",
    "\n",
    "item_schema_arn = create_schema_response['schemaArn']\n",
    "print(json.dumps(create_schema_response, indent=2))"
   ]
  },
  {
   "cell_type": "markdown",
   "id": "a963759b-74dc-4dfc-b740-67c667161381",
   "metadata": {},
   "source": [
    "### すでに Schema を作っていたら下記を実行して削除する"
   ]
  },
  {
   "cell_type": "code",
   "execution_count": null,
   "id": "bf577ad1-39a3-4684-b5cb-4626d1bf5d3b",
   "metadata": {},
   "outputs": [],
   "source": [
    "### schemaArn の名称は、エラーメッセージからわかる\n",
    "# personalize.delete_schema(\n",
    "#     schemaArn=\"arn:aws:personalize:ap-northeast-1:627614495110:schema/amazon-pantry-interactions-1\"\n",
    "# )"
   ]
  },
  {
   "cell_type": "code",
   "execution_count": 57,
   "id": "407e1b31-d891-4470-95a9-164b04d64d8b",
   "metadata": {},
   "outputs": [
    {
     "name": "stdout",
     "output_type": "stream",
     "text": [
      "{\n",
      "  \"datasetArn\": \"arn:aws:personalize:ap-northeast-1:627614495110:dataset/amazon-pantry-aws-similar-items/ITEMS\",\n",
      "  \"ResponseMetadata\": {\n",
      "    \"RequestId\": \"d2d97e7a-deae-4ea0-b79b-0362b5e9ea70\",\n",
      "    \"HTTPStatusCode\": 200,\n",
      "    \"HTTPHeaders\": {\n",
      "      \"date\": \"Sat, 24 May 2025 09:46:40 GMT\",\n",
      "      \"content-type\": \"application/x-amz-json-1.1\",\n",
      "      \"content-length\": \"110\",\n",
      "      \"connection\": \"keep-alive\",\n",
      "      \"x-amzn-requestid\": \"d2d97e7a-deae-4ea0-b79b-0362b5e9ea70\",\n",
      "      \"strict-transport-security\": \"max-age=47304000; includeSubDomains\",\n",
      "      \"x-frame-options\": \"DENY\",\n",
      "      \"cache-control\": \"no-cache\",\n",
      "      \"x-content-type-options\": \"nosniff\"\n",
      "    },\n",
      "    \"RetryAttempts\": 0\n",
      "  }\n",
      "}\n"
     ]
    }
   ],
   "source": [
    "dataset_type = \"ITEMS\"\n",
    "create_dataset_response = personalize.create_dataset(\n",
    "    name = \"amazon-pantry-items\",\n",
    "    datasetType = dataset_type,\n",
    "    datasetGroupArn = dataset_group_arn,\n",
    "    schemaArn = item_schema_arn\n",
    ")\n",
    "\n",
    "items_dataset_arn = create_dataset_response['datasetArn']\n",
    "print(json.dumps(create_dataset_response, indent=2))"
   ]
  },
  {
   "cell_type": "code",
   "execution_count": null,
   "id": "c0ea6d17-af24-4beb-ad26-d9b721f50b55",
   "metadata": {},
   "outputs": [],
   "source": [
    "boto3.Session().resource(\n",
    "    's3',\n",
    "    aws_access_key_id=AWS_ACCESS_KEY_ID,\n",
    "    aws_secret_access_key=AWS_SECRET_ACCESS_KEY,\n",
    "    region_name=region_name,\n",
    ").Bucket(bucket_name).Object(items_filename).upload_file(items_filename)"
   ]
  },
  {
   "cell_type": "markdown",
   "id": "9c0434f0-e1ca-48ce-8f7a-753e3c466ede",
   "metadata": {},
   "source": [
    "### 各データセットグループのアイテムデータセットをインポートする"
   ]
  },
  {
   "cell_type": "code",
   "execution_count": 58,
   "id": "a35658cd-9b69-4df5-a068-cb60e5979e46",
   "metadata": {},
   "outputs": [
    {
     "name": "stdout",
     "output_type": "stream",
     "text": [
      "{\n",
      "  \"datasetImportJobArn\": \"arn:aws:personalize:ap-northeast-1:627614495110:dataset-import-job/amazon-pantry-items-import-job\",\n",
      "  \"ResponseMetadata\": {\n",
      "    \"RequestId\": \"0f1002bb-ae63-445e-8f50-57187be6baab\",\n",
      "    \"HTTPStatusCode\": 200,\n",
      "    \"HTTPHeaders\": {\n",
      "      \"date\": \"Sat, 24 May 2025 09:49:45 GMT\",\n",
      "      \"content-type\": \"application/x-amz-json-1.1\",\n",
      "      \"content-length\": \"123\",\n",
      "      \"connection\": \"keep-alive\",\n",
      "      \"x-amzn-requestid\": \"0f1002bb-ae63-445e-8f50-57187be6baab\",\n",
      "      \"strict-transport-security\": \"max-age=47304000; includeSubDomains\",\n",
      "      \"x-frame-options\": \"DENY\",\n",
      "      \"cache-control\": \"no-cache\",\n",
      "      \"x-content-type-options\": \"nosniff\"\n",
      "    },\n",
      "    \"RetryAttempts\": 0\n",
      "  }\n",
      "}\n"
     ]
    }
   ],
   "source": [
    "create_dataset_import_job_response = personalize.create_dataset_import_job(\n",
    "    jobName = \"amazon-pantry-items-import-job\",\n",
    "    datasetArn = items_dataset_arn,\n",
    "    dataSource = {\n",
    "        \"dataLocation\": f\"s3://{bucket_name}/{items_filename}\"\n",
    "    },\n",
    "    roleArn = role_arn\n",
    ")\n",
    "\n",
    "dataset_import_job_items_arn = create_dataset_import_job_response['datasetImportJobArn']\n",
    "print(json.dumps(create_dataset_import_job_response, indent=2))"
   ]
  },
  {
   "cell_type": "markdown",
   "id": "b77cece6-c500-475f-939e-ef55646103ad",
   "metadata": {},
   "source": [
    "### 相互作用データセットのインポートジョブの完了を待つ\n",
    "### 次のセルは、両方のインポート・ジョブが完了するまで待機します。"
   ]
  },
  {
   "cell_type": "code",
   "execution_count": 59,
   "id": "36034777-360d-4a33-9b92-6c75ba9e7a53",
   "metadata": {},
   "outputs": [
    {
     "name": "stdout",
     "output_type": "stream",
     "text": [
      "Dataset import succeeded for arn:aws:personalize:ap-northeast-1:627614495110:dataset-import-job/amazon-pantry-interactions-import\n",
      "CPU times: user 18.1 ms, sys: 3.13 ms, total: 21.2 ms\n",
      "Wall time: 121 ms\n"
     ]
    }
   ],
   "source": [
    "%%time\n",
    "\n",
    "in_progress_import_arns = [ dataset_import_job ]\n",
    "\n",
    "max_time = time.time() + 3*60*60 # 3 hours\n",
    "while time.time() < max_time:\n",
    "    for import_arn in in_progress_import_arns:\n",
    "        describe_dataset_import_job_response = personalize.describe_dataset_import_job(\n",
    "            datasetImportJobArn = import_arn\n",
    "        )\n",
    "        status = describe_dataset_import_job_response[\"datasetImportJob\"]['status']\n",
    "        if status == \"ACTIVE\":\n",
    "            print(\"Dataset import succeeded for {}\".format(import_arn))\n",
    "            in_progress_import_arns.remove(import_arn)\n",
    "        elif status == \"CREATE FAILED\":\n",
    "            print(\"Create failed for {}\".format(import_arn))\n",
    "            in_progress_import_arns.remove(import_arn)\n",
    "\n",
    "    if len(in_progress_import_arns) <= 0:\n",
    "        break\n",
    "    else:\n",
    "        print(\"At least one dataset import job is still in progress\")\n",
    "                \n",
    "    time.sleep(60)"
   ]
  },
  {
   "cell_type": "markdown",
   "id": "f597c72a-fbde-4fc4-90ad-7d5263922fbb",
   "metadata": {},
   "source": [
    "### Itemsインポートジョブの完了を待つ\n",
    "### 以下のロジックは、両方のアイテムデータセットが各データセットグループに完全にインポートされるまで待機します。"
   ]
  },
  {
   "cell_type": "code",
   "execution_count": 60,
   "id": "64f78ce8-f1ce-4738-9e87-5a361247054d",
   "metadata": {},
   "outputs": [
    {
     "name": "stdout",
     "output_type": "stream",
     "text": [
      "At least one dataset import job is still in progress\n",
      "At least one dataset import job is still in progress\n",
      "At least one dataset import job is still in progress\n",
      "Dataset import succeeded for arn:aws:personalize:ap-northeast-1:627614495110:dataset-import-job/amazon-pantry-items-import-job\n",
      "CPU times: user 119 ms, sys: 13.4 ms, total: 132 ms\n",
      "Wall time: 3min 2s\n"
     ]
    }
   ],
   "source": [
    "%%time\n",
    "\n",
    "in_progress_import_arns = [ dataset_import_job_items_arn ]\n",
    "\n",
    "max_time = time.time() + 3*60*60 # 3 hours\n",
    "while time.time() < max_time:\n",
    "    for import_arn in in_progress_import_arns:\n",
    "        describe_dataset_import_job_response = personalize.describe_dataset_import_job(\n",
    "            datasetImportJobArn = import_arn\n",
    "        )\n",
    "        status = describe_dataset_import_job_response[\"datasetImportJob\"]['status']\n",
    "        if status == \"ACTIVE\":\n",
    "            print(\"Dataset import succeeded for {}\".format(import_arn))\n",
    "            in_progress_import_arns.remove(import_arn)\n",
    "        elif status == \"CREATE FAILED\":\n",
    "            print(\"Create failed for {}\".format(import_arn))\n",
    "            in_progress_import_arns.remove(import_arn)\n",
    "\n",
    "    if len(in_progress_import_arns) <= 0:\n",
    "        break\n",
    "    else:\n",
    "        print(\"At least one dataset import job is still in progress\")\n",
    "                \n",
    "    time.sleep(60)"
   ]
  },
  {
   "cell_type": "markdown",
   "id": "f1b5c7e2-a45f-4ee3-bf46-7b295a815e62",
   "metadata": {},
   "source": [
    "### ソリューションとソリューションバージョンの作成"
   ]
  },
  {
   "cell_type": "markdown",
   "id": "adf60e98-064d-41cb-8daa-584cff885789",
   "metadata": {},
   "source": [
    "### 各データセットグループのデータのユーザパーソナライズのレシピを使って、ソリューションとソリューションのバージョンを作成します。\n",
    "### まず、利用可能なパーソナライズレシピを列挙します。"
   ]
  },
  {
   "cell_type": "code",
   "execution_count": 61,
   "id": "a9c3d08a-762f-4166-b055-aeaf78ef9ac2",
   "metadata": {},
   "outputs": [
    {
     "data": {
      "text/plain": [
       "{'recipes': [{'name': 'aws-ecomm-customers-who-viewed-x-also-viewed',\n",
       "   'recipeArn': 'arn:aws:personalize:::recipe/aws-ecomm-customers-who-viewed-x-also-viewed',\n",
       "   'status': 'ACTIVE',\n",
       "   'creationDateTime': datetime.datetime(2019, 6, 10, 0, 0, tzinfo=tzlocal()),\n",
       "   'lastUpdatedDateTime': datetime.datetime(2024, 6, 21, 21, 49, 44, 731000, tzinfo=tzlocal()),\n",
       "   'domain': 'ECOMMERCE'},\n",
       "  {'name': 'aws-ecomm-frequently-bought-together',\n",
       "   'recipeArn': 'arn:aws:personalize:::recipe/aws-ecomm-frequently-bought-together',\n",
       "   'status': 'ACTIVE',\n",
       "   'creationDateTime': datetime.datetime(2019, 6, 10, 0, 0, tzinfo=tzlocal()),\n",
       "   'lastUpdatedDateTime': datetime.datetime(2024, 6, 21, 21, 49, 44, 731000, tzinfo=tzlocal()),\n",
       "   'domain': 'ECOMMERCE'},\n",
       "  {'name': 'aws-ecomm-popular-items-by-purchases',\n",
       "   'recipeArn': 'arn:aws:personalize:::recipe/aws-ecomm-popular-items-by-purchases',\n",
       "   'status': 'ACTIVE',\n",
       "   'creationDateTime': datetime.datetime(2019, 6, 10, 0, 0, tzinfo=tzlocal()),\n",
       "   'lastUpdatedDateTime': datetime.datetime(2024, 6, 21, 21, 49, 44, 731000, tzinfo=tzlocal()),\n",
       "   'domain': 'ECOMMERCE'},\n",
       "  {'name': 'aws-ecomm-popular-items-by-views',\n",
       "   'recipeArn': 'arn:aws:personalize:::recipe/aws-ecomm-popular-items-by-views',\n",
       "   'status': 'ACTIVE',\n",
       "   'creationDateTime': datetime.datetime(2019, 6, 10, 0, 0, tzinfo=tzlocal()),\n",
       "   'lastUpdatedDateTime': datetime.datetime(2024, 6, 21, 21, 49, 44, 731000, tzinfo=tzlocal()),\n",
       "   'domain': 'ECOMMERCE'},\n",
       "  {'name': 'aws-ecomm-recommended-for-you',\n",
       "   'recipeArn': 'arn:aws:personalize:::recipe/aws-ecomm-recommended-for-you',\n",
       "   'status': 'ACTIVE',\n",
       "   'creationDateTime': datetime.datetime(2019, 6, 10, 0, 0, tzinfo=tzlocal()),\n",
       "   'lastUpdatedDateTime': datetime.datetime(2024, 6, 21, 21, 49, 44, 731000, tzinfo=tzlocal()),\n",
       "   'domain': 'ECOMMERCE'},\n",
       "  {'name': 'aws-item-affinity',\n",
       "   'recipeArn': 'arn:aws:personalize:::recipe/aws-item-affinity',\n",
       "   'status': 'ACTIVE',\n",
       "   'creationDateTime': datetime.datetime(2021, 7, 15, 0, 0, tzinfo=tzlocal()),\n",
       "   'lastUpdatedDateTime': datetime.datetime(2024, 6, 21, 21, 49, 44, 731000, tzinfo=tzlocal())},\n",
       "  {'name': 'aws-item-attribute-affinity',\n",
       "   'recipeArn': 'arn:aws:personalize:::recipe/aws-item-attribute-affinity',\n",
       "   'status': 'ACTIVE',\n",
       "   'creationDateTime': datetime.datetime(2021, 8, 25, 0, 0, tzinfo=tzlocal()),\n",
       "   'lastUpdatedDateTime': datetime.datetime(2024, 6, 21, 21, 49, 44, 731000, tzinfo=tzlocal())},\n",
       "  {'name': 'aws-next-best-action',\n",
       "   'recipeArn': 'arn:aws:personalize:::recipe/aws-next-best-action',\n",
       "   'status': 'ACTIVE',\n",
       "   'creationDateTime': datetime.datetime(2023, 8, 11, 0, 0, tzinfo=tzlocal()),\n",
       "   'lastUpdatedDateTime': datetime.datetime(2024, 6, 21, 21, 49, 44, 731000, tzinfo=tzlocal())},\n",
       "  {'name': 'aws-personalized-ranking',\n",
       "   'recipeArn': 'arn:aws:personalize:::recipe/aws-personalized-ranking',\n",
       "   'status': 'ACTIVE',\n",
       "   'creationDateTime': datetime.datetime(2019, 6, 10, 0, 0, tzinfo=tzlocal()),\n",
       "   'lastUpdatedDateTime': datetime.datetime(2024, 6, 21, 21, 49, 44, 731000, tzinfo=tzlocal())},\n",
       "  {'name': 'aws-personalized-ranking-v2',\n",
       "   'recipeArn': 'arn:aws:personalize:::recipe/aws-personalized-ranking-v2',\n",
       "   'status': 'ACTIVE',\n",
       "   'creationDateTime': datetime.datetime(2024, 1, 1, 0, 0, tzinfo=tzlocal()),\n",
       "   'lastUpdatedDateTime': datetime.datetime(2024, 6, 21, 21, 49, 44, 731000, tzinfo=tzlocal())},\n",
       "  {'name': 'aws-popularity-count',\n",
       "   'recipeArn': 'arn:aws:personalize:::recipe/aws-popularity-count',\n",
       "   'status': 'ACTIVE',\n",
       "   'creationDateTime': datetime.datetime(2019, 6, 10, 0, 0, tzinfo=tzlocal()),\n",
       "   'lastUpdatedDateTime': datetime.datetime(2024, 6, 21, 21, 49, 44, 731000, tzinfo=tzlocal())},\n",
       "  {'name': 'aws-similar-items',\n",
       "   'recipeArn': 'arn:aws:personalize:::recipe/aws-similar-items',\n",
       "   'status': 'ACTIVE',\n",
       "   'creationDateTime': datetime.datetime(2019, 6, 10, 0, 0, tzinfo=tzlocal()),\n",
       "   'lastUpdatedDateTime': datetime.datetime(2024, 6, 21, 21, 49, 44, 731000, tzinfo=tzlocal())}],\n",
       " 'nextToken': 'AYADeG3Rj+RnuuRq44COdhV+aTsAXwABABVhd3MtY3J5cHRvLXB1YmxpYy1rZXkAREFpZlJIK3lySktEQ256Z3MvM3ZJZ0Y5bTkrWncvQWxmdnJGQmUwTWdNd1F6aGM2YzJxalF1MDBTc3g0eGdMak1LUT09AAEAB2F3cy1rbXMAUGFybjphd3M6a21zOmFwLW5vcnRoZWFzdC0xOjUwODA2Mjk0MzkyOTprZXkvYzAwN2RiMjktZDljOC00OWNmLWJlOWEtZTA5YWZhY2JhZTE4ALgBAgEAeN3SjjeyQQpVULXtIcrjqy2DnZ/zcF+aACEoJHtuI4NkAVVUEm1jc+O04UOoFtHeZ/AAAAB+MHwGCSqGSIb3DQEHBqBvMG0CAQAwaAYJKoZIhvcNAQcBMB4GCWCGSAFlAwQBLjARBAydmxvsIv+jCzLzKjcCARCAO2u2YJDTb2asNaBuqb2kjIwwWFExpMUd2ZTquI0URr7ZoM9P2chQ3YYz/u8A5S50QXmTv7ZXNZs8537SAgAAAAAMAAAQAAAAAAAAAAAAAAAAAN5iKZWPDTb3gVNDE2GQPYH/////AAAAAQAAAAAAAAAAAAAAAQAAAHflssgL75H6i0KyzniOmHIk3Ly+iupsxaW9YgXaGXnYwx1KNC73+BIZESBUbKqL0DD96gI+GuQvowgOuHmi1XZk+YLbkOLU4Xp1nGjB572y0jVGl7uLyAdkoPXTWWNAdMwxFhzal8koMCO0JCcXeWCyIEVYDW+QkxazA5mEWPeH3D8Np6bJ7XgAZzBlAjEAi6q5yq0BxqlB9YgF/W+SNCxI3tXn+sOgseHEUd5D8nos/qIeOzDfGNo140ox7cZWAjBhD29yvqdRwIGomvjkebZe9/jSmIHy+PB4a1/5rVl4pOLcDgVHHz0bV4RlZ2gqQfs=',\n",
       " 'ResponseMetadata': {'RequestId': 'f42c00e2-1760-4279-97db-a9d648a88c12',\n",
       "  'HTTPStatusCode': 200,\n",
       "  'HTTPHeaders': {'date': 'Sat, 24 May 2025 10:13:49 GMT',\n",
       "   'content-type': 'application/x-amz-json-1.1',\n",
       "   'content-length': '3450',\n",
       "   'connection': 'keep-alive',\n",
       "   'x-amzn-requestid': 'f42c00e2-1760-4279-97db-a9d648a88c12',\n",
       "   'strict-transport-security': 'max-age=47304000; includeSubDomains',\n",
       "   'x-frame-options': 'DENY',\n",
       "   'cache-control': 'no-cache',\n",
       "   'x-content-type-options': 'nosniff'},\n",
       "  'RetryAttempts': 0}}"
      ]
     },
     "execution_count": 61,
     "metadata": {},
     "output_type": "execute_result"
    }
   ],
   "source": [
    "personalize.list_recipes()"
   ]
  },
  {
   "cell_type": "markdown",
   "id": "57b66e83-8a68-4f42-abbf-86493e8af37c",
   "metadata": {},
   "source": [
    "### レシピの選択"
   ]
  },
  {
   "cell_type": "code",
   "execution_count": 62,
   "id": "ca8c5f8f-901c-4895-b7c0-bb469d83db7e",
   "metadata": {},
   "outputs": [],
   "source": [
    "sims_recipe_arn = \"arn:aws:personalize:::recipe/aws-sims\"\n",
    "similar_items_recipe_arn = \"arn:aws:personalize:::recipe/aws-similar-items\""
   ]
  },
  {
   "cell_type": "markdown",
   "id": "87c7220c-016b-4216-b8e9-049e7da3ae34",
   "metadata": {},
   "source": [
    "### まず、各レシピのソリューションとソリューション・バージョンを作成する。"
   ]
  },
  {
   "cell_type": "code",
   "execution_count": 63,
   "id": "4a080359-a3fe-4c90-b43f-82355524aa2f",
   "metadata": {},
   "outputs": [],
   "source": [
    "sims_create_solution_response = personalize.create_solution(\n",
    "    name = \"amazon-pantry-sims-solution-example\",\n",
    "    datasetGroupArn = dataset_group_arn,\n",
    "    recipeArn = sims_recipe_arn\n",
    ")\n",
    "\n",
    "sims_solution_arn = sims_create_solution_response['solutionArn']"
   ]
  },
  {
   "cell_type": "code",
   "execution_count": 64,
   "id": "a1e1097d-dd97-4b6c-a7fd-a88f90e2f86b",
   "metadata": {},
   "outputs": [],
   "source": [
    "sims_solution_version_response = personalize.create_solution_version(\n",
    "    solutionArn = sims_solution_arn\n",
    ")"
   ]
  },
  {
   "cell_type": "code",
   "execution_count": 69,
   "id": "f89903ed-f7aa-4b79-8bae-8519149b0fbe",
   "metadata": {},
   "outputs": [
    {
     "name": "stdout",
     "output_type": "stream",
     "text": [
      "{\n",
      "  \"solutionVersionArn\": \"arn:aws:personalize:ap-northeast-1:627614495110:solution/amazon-pantry-sims-solution-example/23862e46\",\n",
      "  \"ResponseMetadata\": {\n",
      "    \"RequestId\": \"e1979c23-9337-4987-855a-21e2c4dcff88\",\n",
      "    \"HTTPStatusCode\": 200,\n",
      "    \"HTTPHeaders\": {\n",
      "      \"date\": \"Sat, 24 May 2025 10:22:45 GMT\",\n",
      "      \"content-type\": \"application/x-amz-json-1.1\",\n",
      "      \"content-length\": \"126\",\n",
      "      \"connection\": \"keep-alive\",\n",
      "      \"x-amzn-requestid\": \"e1979c23-9337-4987-855a-21e2c4dcff88\",\n",
      "      \"strict-transport-security\": \"max-age=47304000; includeSubDomains\",\n",
      "      \"x-frame-options\": \"DENY\",\n",
      "      \"cache-control\": \"no-cache\",\n",
      "      \"x-content-type-options\": \"nosniff\"\n",
      "    },\n",
      "    \"RetryAttempts\": 0\n",
      "  }\n",
      "}\n"
     ]
    }
   ],
   "source": [
    "sims_solution_version_arn = sims_solution_version_response['solutionVersionArn']\n",
    "print(json.dumps(sims_solution_version_response, indent=2))"
   ]
  },
  {
   "cell_type": "markdown",
   "id": "e1fe935a-6845-4358-8840-c0f33e6f7d9b",
   "metadata": {},
   "source": [
    "### 次に、項目の説明を含むソリューションとソリューション・バージョンをデータセット・グループに作成します。"
   ]
  },
  {
   "cell_type": "code",
   "execution_count": 65,
   "id": "b9c73753-ba46-4609-b8fa-0bd8815155dd",
   "metadata": {},
   "outputs": [],
   "source": [
    "similar_items_create_solution_response = personalize.create_solution(\n",
    "    name = \"amazon-pantry-aws-similar-items-solution-example\",\n",
    "    datasetGroupArn = dataset_group_arn,\n",
    "    recipeArn = similar_items_recipe_arn\n",
    ")\n",
    "\n",
    "similar_items_solution_arn = similar_items_create_solution_response['solutionArn']"
   ]
  },
  {
   "cell_type": "code",
   "execution_count": 66,
   "id": "f2dc0652-8ad9-47bf-9f14-fcc54eebaf83",
   "metadata": {},
   "outputs": [],
   "source": [
    "similar_items_solution_version_response = personalize.create_solution_version(\n",
    "    solutionArn = similar_items_solution_arn\n",
    ")"
   ]
  },
  {
   "cell_type": "code",
   "execution_count": 67,
   "id": "9e4fef96-f20b-4f07-be0a-6a5650b4a5af",
   "metadata": {},
   "outputs": [
    {
     "name": "stdout",
     "output_type": "stream",
     "text": [
      "{\n",
      "  \"solutionVersionArn\": \"arn:aws:personalize:ap-northeast-1:627614495110:solution/amazon-pantry-aws-similar-items-solution-example/23c3d787\",\n",
      "  \"ResponseMetadata\": {\n",
      "    \"RequestId\": \"a5fa93e1-ba38-4a13-b91f-16a274de104e\",\n",
      "    \"HTTPStatusCode\": 200,\n",
      "    \"HTTPHeaders\": {\n",
      "      \"date\": \"Sat, 24 May 2025 10:22:47 GMT\",\n",
      "      \"content-type\": \"application/x-amz-json-1.1\",\n",
      "      \"content-length\": \"139\",\n",
      "      \"connection\": \"keep-alive\",\n",
      "      \"x-amzn-requestid\": \"a5fa93e1-ba38-4a13-b91f-16a274de104e\",\n",
      "      \"strict-transport-security\": \"max-age=47304000; includeSubDomains\",\n",
      "      \"x-frame-options\": \"DENY\",\n",
      "      \"cache-control\": \"no-cache\",\n",
      "      \"x-content-type-options\": \"nosniff\"\n",
      "    },\n",
      "    \"RetryAttempts\": 0\n",
      "  }\n",
      "}\n"
     ]
    }
   ],
   "source": [
    "similar_items_solution_version_arn = similar_items_solution_version_response['solutionVersionArn']\n",
    "print(json.dumps(similar_items_solution_version_response, indent=2))"
   ]
  },
  {
   "cell_type": "markdown",
   "id": "fd7e859b-1a22-4c90-9383-1b63cc577911",
   "metadata": {},
   "source": [
    "### ソリューション・バージョンがアクティブになるのを待つ\n",
    "### 最後に、ソリューションバージョンが作成され終わるのを待ちます。このステップでPersonalizeはデータセットと選択されたレシピに基づいて機械学習モデルをトレーニングします。\n",
    "### また、Personalizeはインタラクションのデータセットをトレーニング部分と評価部分に分割し、トレーニング済みのモデルに対するレコメンデーションの品質を評価できるようにします。\n",
    "### 説明データを含むデータセットグループのソリューションバージョンは、説明データを含まないものよりもトレーニングに時間がかかることがわかります"
   ]
  },
  {
   "cell_type": "code",
   "execution_count": 70,
   "id": "d1db862f-26d0-4739-a2f6-2e08fca8a591",
   "metadata": {},
   "outputs": [
    {
     "name": "stdout",
     "output_type": "stream",
     "text": [
      "At least one solution build is still in progress\n",
      "At least one solution build is still in progress\n",
      "At least one solution build is still in progress\n",
      "At least one solution build is still in progress\n",
      "At least one solution build is still in progress\n",
      "At least one solution build is still in progress\n",
      "At least one solution build is still in progress\n",
      "At least one solution build is still in progress\n",
      "At least one solution build is still in progress\n",
      "At least one solution build is still in progress\n",
      "At least one solution build is still in progress\n",
      "At least one solution build is still in progress\n",
      "At least one solution build is still in progress\n",
      "At least one solution build is still in progress\n",
      "Build succeeded for arn:aws:personalize:ap-northeast-1:627614495110:solution/amazon-pantry-sims-solution-example/23862e46\n",
      "At least one solution build is still in progress\n",
      "At least one solution build is still in progress\n",
      "At least one solution build is still in progress\n",
      "At least one solution build is still in progress\n",
      "At least one solution build is still in progress\n",
      "At least one solution build is still in progress\n",
      "At least one solution build is still in progress\n",
      "At least one solution build is still in progress\n",
      "At least one solution build is still in progress\n",
      "At least one solution build is still in progress\n",
      "At least one solution build is still in progress\n",
      "At least one solution build is still in progress\n",
      "At least one solution build is still in progress\n",
      "At least one solution build is still in progress\n",
      "At least one solution build is still in progress\n",
      "At least one solution build is still in progress\n",
      "At least one solution build is still in progress\n",
      "At least one solution build is still in progress\n",
      "At least one solution build is still in progress\n",
      "At least one solution build is still in progress\n",
      "At least one solution build is still in progress\n",
      "At least one solution build is still in progress\n",
      "At least one solution build is still in progress\n",
      "At least one solution build is still in progress\n",
      "Build succeeded for arn:aws:personalize:ap-northeast-1:627614495110:solution/amazon-pantry-aws-similar-items-solution-example/23c3d787\n",
      "CPU times: user 1.68 s, sys: 198 ms, total: 1.88 s\n",
      "Wall time: 38min 26s\n"
     ]
    }
   ],
   "source": [
    "%%time\n",
    "\n",
    "in_progress_solution_versions = [\n",
    "    sims_solution_version_arn,\n",
    "    similar_items_solution_version_arn\n",
    "]\n",
    "\n",
    "max_time = time.time() + 10*60*60 # 10 hours\n",
    "while time.time() < max_time:\n",
    "    for solution_version_arn in in_progress_solution_versions:\n",
    "        version_response = personalize.describe_solution_version(\n",
    "            solutionVersionArn = solution_version_arn\n",
    "        )\n",
    "        status = version_response[\"solutionVersion\"][\"status\"]\n",
    "        \n",
    "        if status == \"ACTIVE\":\n",
    "            print(\"Build succeeded for {}\".format(solution_version_arn))\n",
    "            in_progress_solution_versions.remove(solution_version_arn)\n",
    "        elif status == \"CREATE FAILED\":\n",
    "            print(\"Build failed for {}\".format(solution_version_arn))\n",
    "            in_progress_solution_versions.remove(solution_version_arn)\n",
    "    \n",
    "    if len(in_progress_solution_versions) <= 0:\n",
    "        break\n",
    "    else:\n",
    "        print(\"At least one solution build is still in progress\")\n",
    "        \n",
    "    time.sleep(60)"
   ]
  },
  {
   "cell_type": "markdown",
   "id": "1823c83c-2e85-4a72-881d-bc73caf91d34",
   "metadata": {},
   "source": [
    "### 一般的に言って、構造化および非構造化テキストベースのメタデータを追加すると、学習時間が長くなる。\n",
    "### 私たちの場合、商品説明のあるデータセットで学習したソリューションバージョンは、商品説明のないデータセットで学習したソリューションバージョンよりも数分長くかかったことが、上記でお分かりいただけるでしょう。この違いは、データセットの構成やテキスト値によって異なります。\n",
    "### 各ソリューションバージョンの学習時間を調べ、同様に比較してみましょう。"
   ]
  },
  {
   "cell_type": "code",
   "execution_count": 72,
   "id": "8bd61bb9-6664-43fe-b9e6-6a00c9382c2f",
   "metadata": {},
   "outputs": [
    {
     "name": "stdout",
     "output_type": "stream",
     "text": [
      "Training hours sims: 0.965\n",
      "Training hours similar items: 3.515\n",
      "Difference of 264.25%\n"
     ]
    }
   ],
   "source": [
    "response = personalize.describe_solution_version(solutionVersionArn = sims_solution_version_arn)\n",
    "training_hours_sims = response['solutionVersion']['trainingHours']\n",
    "\n",
    "response = personalize.describe_solution_version(solutionVersionArn = similar_items_solution_version_arn)\n",
    "training_hours_similar_items = response['solutionVersion']['trainingHours']\n",
    "\n",
    "training_diff = (training_hours_similar_items - training_hours_sims) / training_hours_sims\n",
    "\n",
    "print(f\"Training hours sims: {training_hours_sims}\")\n",
    "print(f\"Training hours similar items: {training_hours_similar_items}\")\n",
    "\n",
    "print(\"Difference of {:.2%}\".format(training_diff))"
   ]
  },
  {
   "cell_type": "markdown",
   "id": "b9e2caaf-7640-4396-a8ee-7b1f73a47975",
   "metadata": {},
   "source": [
    "### コスト計算に使用したトレーニング時間は、記述列を使用したトレーニングの方が約50％高かった。\n",
    "\n",
    "### 壁/時計の時間とトレーニング時間は、データセットのサイズによって異なりますが、この情報が、データセットに非構造化テキストを追加することを検討する際のトレードオフを評価するのに役立ちます。"
   ]
  },
  {
   "cell_type": "code",
   "execution_count": 73,
   "id": "475b4b88-f0a6-4afb-98fb-6f7ea02a025c",
   "metadata": {},
   "outputs": [],
   "source": [
    "sims_solution = {\n",
    "        \"solution_arn\": sims_solution_arn,\n",
    "        \"solution_version_arn\": sims_solution_version_arn\n",
    "}\n",
    "similar_items_solution = {\n",
    "        \"solution_arn\": similar_items_solution_arn,\n",
    "        \"solution_version_arn\": similar_items_solution_version_arn\n",
    "}"
   ]
  },
  {
   "cell_type": "code",
   "execution_count": 74,
   "id": "7a0c476d-6512-44b3-adea-4f218b0556ae",
   "metadata": {},
   "outputs": [],
   "source": [
    "def create_campaign(solution,name):\n",
    "    create_campaign_response = personalize.create_campaign(\n",
    "        name = \"personalize-demo-\" + name + \"example\",\n",
    "        solutionVersionArn = solution['solution_version_arn'],\n",
    "        minProvisionedTPS = 1\n",
    "    )\n",
    "\n",
    "    campaign_arn = create_campaign_response['campaignArn']\n",
    "    print('campaign_arn:' + campaign_arn)\n",
    "    return campaign_arn\n",
    "\n",
    "def waitForCampaign(solution):\n",
    "    max_time = time.time() + 3*60*60 # 3 hours\n",
    "    while time.time() < max_time:\n",
    "        describe_campaign_response = personalize.describe_campaign(\n",
    "            campaignArn = solution['campaign_arn']\n",
    "        )\n",
    "        status = describe_campaign_response[\"campaign\"][\"status\"]\n",
    "        print(\"Campaign: {} {}\".format(solution['campaign_arn'], status))\n",
    "\n",
    "        if status == \"ACTIVE\" or status == \"CREATE FAILED\":\n",
    "            break\n",
    "\n",
    "        time.sleep(60)"
   ]
  },
  {
   "cell_type": "markdown",
   "id": "66364047-f1d0-4467-83ef-ce60da28fc3a",
   "metadata": {},
   "source": [
    "### 2つのキャンペーンを作成して待つ\n",
    "### 各項目の類似レシピのキャンペーンを作成しますが、メタデータの追加による影響を示すため、他の設定はすべて同じにします。"
   ]
  },
  {
   "cell_type": "code",
   "execution_count": 75,
   "id": "cf324ff0-4b28-43aa-bb0b-d0e11bed6a96",
   "metadata": {},
   "outputs": [
    {
     "name": "stdout",
     "output_type": "stream",
     "text": [
      "campaign_arn:arn:aws:personalize:ap-northeast-1:627614495110:campaign/personalize-demo-simsexample\n",
      "campaign_arn:arn:aws:personalize:ap-northeast-1:627614495110:campaign/personalize-demo-aws-similar-itemsexample\n"
     ]
    }
   ],
   "source": [
    "sims_solution['campaign_arn'] = create_campaign(sims_solution, 'sims')\n",
    "similar_items_solution['campaign_arn'] = create_campaign(similar_items_solution, 'aws-similar-items')"
   ]
  },
  {
   "cell_type": "code",
   "execution_count": 76,
   "id": "473e3c38-2c19-4ae2-b1c5-84b001b960aa",
   "metadata": {},
   "outputs": [
    {
     "name": "stdout",
     "output_type": "stream",
     "text": [
      "Campaign: arn:aws:personalize:ap-northeast-1:627614495110:campaign/personalize-demo-simsexample CREATE PENDING\n",
      "Campaign: arn:aws:personalize:ap-northeast-1:627614495110:campaign/personalize-demo-simsexample CREATE IN_PROGRESS\n",
      "Campaign: arn:aws:personalize:ap-northeast-1:627614495110:campaign/personalize-demo-simsexample CREATE IN_PROGRESS\n",
      "Campaign: arn:aws:personalize:ap-northeast-1:627614495110:campaign/personalize-demo-simsexample CREATE IN_PROGRESS\n",
      "Campaign: arn:aws:personalize:ap-northeast-1:627614495110:campaign/personalize-demo-simsexample CREATE IN_PROGRESS\n",
      "Campaign: arn:aws:personalize:ap-northeast-1:627614495110:campaign/personalize-demo-simsexample CREATE IN_PROGRESS\n",
      "Campaign: arn:aws:personalize:ap-northeast-1:627614495110:campaign/personalize-demo-simsexample CREATE IN_PROGRESS\n",
      "Campaign: arn:aws:personalize:ap-northeast-1:627614495110:campaign/personalize-demo-simsexample CREATE IN_PROGRESS\n",
      "Campaign: arn:aws:personalize:ap-northeast-1:627614495110:campaign/personalize-demo-simsexample CREATE IN_PROGRESS\n",
      "Campaign: arn:aws:personalize:ap-northeast-1:627614495110:campaign/personalize-demo-simsexample CREATE IN_PROGRESS\n",
      "Campaign: arn:aws:personalize:ap-northeast-1:627614495110:campaign/personalize-demo-simsexample CREATE IN_PROGRESS\n",
      "Campaign: arn:aws:personalize:ap-northeast-1:627614495110:campaign/personalize-demo-simsexample CREATE IN_PROGRESS\n",
      "Campaign: arn:aws:personalize:ap-northeast-1:627614495110:campaign/personalize-demo-simsexample ACTIVE\n",
      "Campaign: arn:aws:personalize:ap-northeast-1:627614495110:campaign/personalize-demo-aws-similar-itemsexample CREATE IN_PROGRESS\n",
      "Campaign: arn:aws:personalize:ap-northeast-1:627614495110:campaign/personalize-demo-aws-similar-itemsexample ACTIVE\n"
     ]
    }
   ],
   "source": [
    "waitForCampaign(sims_solution)\n",
    "waitForCampaign(similar_items_solution)"
   ]
  },
  {
   "cell_type": "markdown",
   "id": "0eb1e478-c56d-4aba-a1b6-0d6a02147c37",
   "metadata": {},
   "source": [
    "### 推薦を得る\n",
    "### まず、次の3種類のアイテムを選んで推論する。\n",
    "\n",
    "### インタラクション数が多いアイテム\n",
    "### インタラクション数が少ないアイテム\n",
    "### ランダムなitemId\n",
    "### 次に、それぞれのモデルが提供されたアイテムに対してどのように振る舞うかを見てみる\n",
    "\n",
    "### インタラクションデータセットを見て、インタラクションされたアイテムの分布をプロットしてみよう"
   ]
  },
  {
   "cell_type": "code",
   "execution_count": 71,
   "id": "11a3f40b-bd0d-4593-986e-135a931226c1",
   "metadata": {},
   "outputs": [
    {
     "data": {
      "text/html": [
       "<div>\n",
       "<style scoped>\n",
       "    .dataframe tbody tr th:only-of-type {\n",
       "        vertical-align: middle;\n",
       "    }\n",
       "\n",
       "    .dataframe tbody tr th {\n",
       "        vertical-align: top;\n",
       "    }\n",
       "\n",
       "    .dataframe thead th {\n",
       "        text-align: right;\n",
       "    }\n",
       "</style>\n",
       "<table border=\"1\" class=\"dataframe\">\n",
       "  <thead>\n",
       "    <tr style=\"text-align: right;\">\n",
       "      <th></th>\n",
       "      <th>asin</th>\n",
       "      <th>count</th>\n",
       "    </tr>\n",
       "  </thead>\n",
       "  <tbody>\n",
       "    <tr>\n",
       "      <th>0</th>\n",
       "      <td>B00XA9DADC</td>\n",
       "      <td>5288</td>\n",
       "    </tr>\n",
       "    <tr>\n",
       "      <th>1</th>\n",
       "      <td>B00I3MVY9I</td>\n",
       "      <td>5086</td>\n",
       "    </tr>\n",
       "    <tr>\n",
       "      <th>2</th>\n",
       "      <td>B00W6T13OU</td>\n",
       "      <td>4023</td>\n",
       "    </tr>\n",
       "    <tr>\n",
       "      <th>3</th>\n",
       "      <td>B0014CZUZ8</td>\n",
       "      <td>3225</td>\n",
       "    </tr>\n",
       "    <tr>\n",
       "      <th>4</th>\n",
       "      <td>B0014CSIG6</td>\n",
       "      <td>2600</td>\n",
       "    </tr>\n",
       "    <tr>\n",
       "      <th>...</th>\n",
       "      <td>...</td>\n",
       "      <td>...</td>\n",
       "    </tr>\n",
       "    <tr>\n",
       "      <th>10579</th>\n",
       "      <td>B011OAC4O4</td>\n",
       "      <td>1</td>\n",
       "    </tr>\n",
       "    <tr>\n",
       "      <th>10580</th>\n",
       "      <td>B011R60JDS</td>\n",
       "      <td>1</td>\n",
       "    </tr>\n",
       "    <tr>\n",
       "      <th>10581</th>\n",
       "      <td>B019DKR9CO</td>\n",
       "      <td>1</td>\n",
       "    </tr>\n",
       "    <tr>\n",
       "      <th>10582</th>\n",
       "      <td>B00HZYETKG</td>\n",
       "      <td>1</td>\n",
       "    </tr>\n",
       "    <tr>\n",
       "      <th>10583</th>\n",
       "      <td>B013AV2AUI</td>\n",
       "      <td>1</td>\n",
       "    </tr>\n",
       "  </tbody>\n",
       "</table>\n",
       "<p>10584 rows × 2 columns</p>\n",
       "</div>"
      ],
      "text/plain": [
       "             asin  count\n",
       "0      B00XA9DADC   5288\n",
       "1      B00I3MVY9I   5086\n",
       "2      B00W6T13OU   4023\n",
       "3      B0014CZUZ8   3225\n",
       "4      B0014CSIG6   2600\n",
       "...           ...    ...\n",
       "10579  B011OAC4O4      1\n",
       "10580  B011R60JDS      1\n",
       "10581  B019DKR9CO      1\n",
       "10582  B00HZYETKG      1\n",
       "10583  B013AV2AUI      1\n",
       "\n",
       "[10584 rows x 2 columns]"
      ]
     },
     "execution_count": 71,
     "metadata": {},
     "output_type": "execute_result"
    }
   ],
   "source": [
    "items_interacted_df = positive_reviews_df.copy()\n",
    "# Getting unique aisns counts\n",
    "asin_interaction_count = items_interacted_df['ITEM_ID'].value_counts()\n",
    "# Transforming panda series to df\n",
    "asin_interaction_count_df = pd.DataFrame({'asin':asin_interaction_count.index, 'count':asin_interaction_count.values})\n",
    "asin_interaction_count_df"
   ]
  },
  {
   "cell_type": "code",
   "execution_count": 77,
   "id": "f45ba544-ba01-40f4-964f-93e60f408db1",
   "metadata": {},
   "outputs": [
    {
     "data": {
      "text/html": [
       "<div>\n",
       "<style scoped>\n",
       "    .dataframe tbody tr th:only-of-type {\n",
       "        vertical-align: middle;\n",
       "    }\n",
       "\n",
       "    .dataframe tbody tr th {\n",
       "        vertical-align: top;\n",
       "    }\n",
       "\n",
       "    .dataframe thead th {\n",
       "        text-align: right;\n",
       "    }\n",
       "</style>\n",
       "<table border=\"1\" class=\"dataframe\">\n",
       "  <thead>\n",
       "    <tr style=\"text-align: right;\">\n",
       "      <th></th>\n",
       "      <th>count</th>\n",
       "    </tr>\n",
       "  </thead>\n",
       "  <tbody>\n",
       "    <tr>\n",
       "      <th>count</th>\n",
       "      <td>10584.000000</td>\n",
       "    </tr>\n",
       "    <tr>\n",
       "      <th>mean</th>\n",
       "      <td>36.630008</td>\n",
       "    </tr>\n",
       "    <tr>\n",
       "      <th>std</th>\n",
       "      <td>123.480233</td>\n",
       "    </tr>\n",
       "    <tr>\n",
       "      <th>min</th>\n",
       "      <td>1.000000</td>\n",
       "    </tr>\n",
       "    <tr>\n",
       "      <th>25%</th>\n",
       "      <td>4.000000</td>\n",
       "    </tr>\n",
       "    <tr>\n",
       "      <th>50%</th>\n",
       "      <td>12.000000</td>\n",
       "    </tr>\n",
       "    <tr>\n",
       "      <th>75%</th>\n",
       "      <td>33.250000</td>\n",
       "    </tr>\n",
       "    <tr>\n",
       "      <th>max</th>\n",
       "      <td>5288.000000</td>\n",
       "    </tr>\n",
       "  </tbody>\n",
       "</table>\n",
       "</div>"
      ],
      "text/plain": [
       "              count\n",
       "count  10584.000000\n",
       "mean      36.630008\n",
       "std      123.480233\n",
       "min        1.000000\n",
       "25%        4.000000\n",
       "50%       12.000000\n",
       "75%       33.250000\n",
       "max     5288.000000"
      ]
     },
     "execution_count": 77,
     "metadata": {},
     "output_type": "execute_result"
    }
   ],
   "source": [
    "asin_interaction_count_df.describe(include='int')"
   ]
  },
  {
   "cell_type": "markdown",
   "id": "0f8c1cad-4067-4fe2-a963-58501886884d",
   "metadata": {},
   "source": [
    "### 上で見たように、最も相互作用の多いアイテムは〜5kの相互作用を持っています。\n",
    "### ここで、相互作用の多いアイテムと少ないアイテムがあることがわかります。"
   ]
  },
  {
   "cell_type": "code",
   "execution_count": 82,
   "id": "83d690c0-eed3-4322-a3e9-713ac69e679c",
   "metadata": {},
   "outputs": [],
   "source": [
    "import matplotlib.pyplot as plt"
   ]
  },
  {
   "cell_type": "code",
   "execution_count": 83,
   "id": "aab191e0-2a46-4256-a251-d0ce29ef68f4",
   "metadata": {},
   "outputs": [
    {
     "data": {
      "text/plain": [
       "[<matplotlib.lines.Line2D at 0xffff3d3dc690>]"
      ]
     },
     "execution_count": 83,
     "metadata": {},
     "output_type": "execute_result"
    },
    {
     "data": {
      "image/png": "[encoded data removed]",
      "text/plain": [
       "<Figure size 640x480 with 1 Axes>"
      ]
     },
     "metadata": {},
     "output_type": "display_data"
    }
   ],
   "source": [
    "plt.plot(asin_interaction_count_df[\"count\"])"
   ]
  },
  {
   "cell_type": "markdown",
   "id": "ecd8521f-2b15-451f-bafa-d45927472eb2",
   "metadata": {},
   "source": [
    "### 以下では、100から300のインタラクションを持つアイテムを詳しく見ることができる。\n",
    "### これらのアイテムは、テスト時に最も多様な結果をもたらすだろう。"
   ]
  },
  {
   "cell_type": "code",
   "execution_count": 84,
   "id": "2608cde1-bc0c-452e-a19b-e8cfb28cb04b",
   "metadata": {},
   "outputs": [
    {
     "data": {
      "text/plain": [
       "[<matplotlib.lines.Line2D at 0xffff3cecc750>]"
      ]
     },
     "execution_count": 84,
     "metadata": {},
     "output_type": "execute_result"
    },
    {
     "data": {
      "image/png": "[encoded data removed]",
      "text/plain": [
       "<Figure size 640x480 with 1 Axes>"
      ]
     },
     "metadata": {},
     "output_type": "display_data"
    }
   ],
   "source": [
    "zoom_interactions = asin_interaction_count_df.copy()\n",
    "zoom_interactions = zoom_interactions.loc[(zoom_interactions[\"count\"] > 100) & (zoom_interactions[\"count\"] < 300)]\n",
    "plt.plot(zoom_interactions[\"count\"])"
   ]
  },
  {
   "cell_type": "markdown",
   "id": "e06e41ac-d128-4aee-a9a6-6936b5d917be",
   "metadata": {},
   "source": [
    "### では、アイテムのメタデータを探索するための関数を定義してみよう。"
   ]
  },
  {
   "cell_type": "code",
   "execution_count": 85,
   "id": "12b8def4-ad1b-4dc3-8603-17714de500ad",
   "metadata": {},
   "outputs": [],
   "source": [
    "def get_item_brand(item_id):\n",
    "    \"\"\"\n",
    "    Takes in an ID, returns its brand\n",
    "    \"\"\"\n",
    "\n",
    "    return items_df.query('ITEM_ID==\"{}\"'.format(item_id))['BRAND'].item()\n",
    "\n",
    "def get_item_price(item_id):\n",
    "    \"\"\"\n",
    "    Takes in an ID, returns its brand\n",
    "    \"\"\"\n",
    "\n",
    "    return items_df.query('ITEM_ID==\"{}\"'.format(item_id))['PRICE'].item()\n",
    "\n",
    "def get_item_description(item_id):\n",
    "    \"\"\"\n",
    "    Takes in an ID, returns its brand\n",
    "    \"\"\"\n",
    "\n",
    "    return items_df.query('ITEM_ID==\"{}\"'.format(item_id))['DESCRIPTION'].item()\n",
    "def get_item_df(item_id):\n",
    "    \"\"\"\n",
    "    Takes in an ID, returns a title\n",
    "    \"\"\"\n",
    "    temp_df = items_df.query('ITEM_ID==\"{}\"'.format(item_id))\n",
    "  \n",
    "    temp_df['INTERACTIONS_COUNT'] = get_item_count(item_id)\n",
    "    return temp_df\n",
    "\n",
    "def get_item_count(item_id):\n",
    "    return asin_interaction_count_df.query('asin==\"{}\"'.format(item_id))['count'].item()\n",
    "\n",
    "def clean_recs_list(rec_list):\n",
    "    \"\"\"推薦結果をDataFrame化する\"\"\"\n",
    "    items = []\n",
    "    for each in rec_list:\n",
    "        items.append([each['itemId'], get_item_brand(each['itemId']), get_item_price(each['itemId']), get_item_description(each['itemId']), get_item_count(each['itemId'])])\n",
    "    return pd.DataFrame (items, columns = ['ITEM_ID', 'BRAND', 'PRICE','DESCRIPTION', 'INTERACTIONS_COUNT'])\n",
    "\n",
    "def get_recs_df(item_id, campaign):\n",
    "    \"\"\"レコメンドの実行\"\"\"\n",
    "    response = personalize_runtime.get_recommendations(\n",
    "        campaignArn=campaign,\n",
    "        itemId=item_id,\n",
    "        numResults=10\n",
    "    )\n",
    "    return clean_recs_list(response['itemList'])"
   ]
  },
  {
   "cell_type": "code",
   "execution_count": 86,
   "id": "df4b02d1-47cc-436d-bd37-19a50e7cd8db",
   "metadata": {},
   "outputs": [
    {
     "data": {
      "text/plain": [
       "'B012DE8NX6'"
      ]
     },
     "execution_count": 86,
     "metadata": {},
     "output_type": "execute_result"
    }
   ],
   "source": [
    "asin_interaction_count_df.sample()['asin'].item()"
   ]
  },
  {
   "cell_type": "code",
   "execution_count": 87,
   "id": "26620a58-6de2-4e73-87ec-29ab7adc8f29",
   "metadata": {},
   "outputs": [
    {
     "name": "stderr",
     "output_type": "stream",
     "text": [
      "/tmp/ipykernel_12033/1856593386.py:27: SettingWithCopyWarning: \n",
      "A value is trying to be set on a copy of a slice from a DataFrame.\n",
      "Try using .loc[row_indexer,col_indexer] = value instead\n",
      "\n",
      "See the caveats in the documentation: https://pandas.pydata.org/pandas-docs/stable/user_guide/indexing.html#returning-a-view-versus-a-copy\n",
      "  temp_df['INTERACTIONS_COUNT'] = get_item_count(item_id)\n"
     ]
    }
   ],
   "source": [
    "asin = asin_interaction_count_df.sample(1)['asin'].item()\n",
    "\n",
    "# 与えるデータ\n",
    "recommended_item_df = get_item_df(asin)"
   ]
  },
  {
   "cell_type": "code",
   "execution_count": 93,
   "id": "704cd485-3987-4454-8203-a62fb7094d5c",
   "metadata": {},
   "outputs": [
    {
     "name": "stdout",
     "output_type": "stream",
     "text": [
      "B00NO0794I\n"
     ]
    }
   ],
   "source": [
    "print(asin)"
   ]
  },
  {
   "cell_type": "code",
   "execution_count": 88,
   "id": "09ab0417-4f6f-4d63-83dc-236f2ff57559",
   "metadata": {},
   "outputs": [],
   "source": [
    "# 与えたデータを元に推薦実行\n",
    "recommendations_sims_df = get_recs_df(asin,sims_solution['campaign_arn'])\n",
    "recommendations_similar_items_df = get_recs_df(asin,similar_items_solution['campaign_arn'])"
   ]
  },
  {
   "cell_type": "markdown",
   "id": "7f625790-2548-4ad5-bff1-d32c8a05dcdb",
   "metadata": {},
   "source": [
    "### これが推論を実行するアイテムで、ここにブランド、価格、インタラクションの数があります。\n",
    "### 理論的には、インタラクションが少ないアイテムに対して、SIMSは主に人気のあるアイテムを返し、新しいaws-item-similarityレシピは現在のアイテムのメタデータに関連するアイテムを返します。"
   ]
  },
  {
   "cell_type": "code",
   "execution_count": 89,
   "id": "63599b40-972b-4010-b00a-e6f7986124cc",
   "metadata": {},
   "outputs": [
    {
     "data": {
      "text/html": [
       "<div>\n",
       "<style scoped>\n",
       "    .dataframe tbody tr th:only-of-type {\n",
       "        vertical-align: middle;\n",
       "    }\n",
       "\n",
       "    .dataframe tbody tr th {\n",
       "        vertical-align: top;\n",
       "    }\n",
       "\n",
       "    .dataframe thead th {\n",
       "        text-align: right;\n",
       "    }\n",
       "</style>\n",
       "<table border=\"1\" class=\"dataframe\">\n",
       "  <thead>\n",
       "    <tr style=\"text-align: right;\">\n",
       "      <th></th>\n",
       "      <th>ITEM_ID</th>\n",
       "      <th>BRAND</th>\n",
       "      <th>PRICE</th>\n",
       "      <th>DESCRIPTION</th>\n",
       "      <th>INTERACTIONS_COUNT</th>\n",
       "    </tr>\n",
       "  </thead>\n",
       "  <tbody>\n",
       "    <tr>\n",
       "      <th>1760</th>\n",
       "      <td>B00NO0794I</td>\n",
       "      <td>vH essentials</td>\n",
       "      <td>NaN</td>\n",
       "      <td>A healthy vagina is teeming with \"good\" bacter...</td>\n",
       "      <td>3</td>\n",
       "    </tr>\n",
       "  </tbody>\n",
       "</table>\n",
       "</div>"
      ],
      "text/plain": [
       "         ITEM_ID          BRAND PRICE  \\\n",
       "1760  B00NO0794I  vH essentials   NaN   \n",
       "\n",
       "                                            DESCRIPTION  INTERACTIONS_COUNT  \n",
       "1760  A healthy vagina is teeming with \"good\" bacter...                   3  "
      ]
     },
     "execution_count": 89,
     "metadata": {},
     "output_type": "execute_result"
    }
   ],
   "source": [
    "# サンプリング\n",
    "recommended_item_df"
   ]
  },
  {
   "cell_type": "code",
   "execution_count": 90,
   "id": "e43c8233-fce8-43c6-9feb-0f69cde71f1d",
   "metadata": {},
   "outputs": [
    {
     "data": {
      "text/html": [
       "<div>\n",
       "<style scoped>\n",
       "    .dataframe tbody tr th:only-of-type {\n",
       "        vertical-align: middle;\n",
       "    }\n",
       "\n",
       "    .dataframe tbody tr th {\n",
       "        vertical-align: top;\n",
       "    }\n",
       "\n",
       "    .dataframe thead th {\n",
       "        text-align: right;\n",
       "    }\n",
       "</style>\n",
       "<table border=\"1\" class=\"dataframe\">\n",
       "  <thead>\n",
       "    <tr style=\"text-align: right;\">\n",
       "      <th></th>\n",
       "      <th>ITEM_ID</th>\n",
       "      <th>BRAND</th>\n",
       "      <th>PRICE</th>\n",
       "      <th>DESCRIPTION</th>\n",
       "      <th>INTERACTIONS_COUNT</th>\n",
       "    </tr>\n",
       "  </thead>\n",
       "  <tbody>\n",
       "    <tr>\n",
       "      <th>0</th>\n",
       "      <td>B00XA9DADC</td>\n",
       "      <td>Twinings</td>\n",
       "      <td>8.00</td>\n",
       "      <td>Made with 100% pure peppermint leaves. An upli...</td>\n",
       "      <td>5288</td>\n",
       "    </tr>\n",
       "    <tr>\n",
       "      <th>1</th>\n",
       "      <td>B00I3MVY9I</td>\n",
       "      <td>Crest</td>\n",
       "      <td>NaN</td>\n",
       "      <td>Unleash A Brilliantly Dimensional Smile A 3D W...</td>\n",
       "      <td>5086</td>\n",
       "    </tr>\n",
       "    <tr>\n",
       "      <th>2</th>\n",
       "      <td>B00W6T13OU</td>\n",
       "      <td>Brooklyn Beans</td>\n",
       "      <td>NaN</td>\n",
       "      <td>In Brooklyn, we know a thing or two about bein...</td>\n",
       "      <td>4023</td>\n",
       "    </tr>\n",
       "    <tr>\n",
       "      <th>3</th>\n",
       "      <td>B00HZ6X8QU</td>\n",
       "      <td>Tide</td>\n",
       "      <td>11.99</td>\n",
       "      <td>Tide Original liquid laundry detergent provide...</td>\n",
       "      <td>1791</td>\n",
       "    </tr>\n",
       "    <tr>\n",
       "      <th>4</th>\n",
       "      <td>B0014CZUZ8</td>\n",
       "      <td>Planters</td>\n",
       "      <td>5.98</td>\n",
       "      <td>Nuts are the heroes of wholesome snacking. And...</td>\n",
       "      <td>3225</td>\n",
       "    </tr>\n",
       "    <tr>\n",
       "      <th>5</th>\n",
       "      <td>B00I9KR31C</td>\n",
       "      <td>Viva</td>\n",
       "      <td>NaN</td>\n",
       "      <td>View larger Product Description Dinner is over...</td>\n",
       "      <td>1467</td>\n",
       "    </tr>\n",
       "    <tr>\n",
       "      <th>6</th>\n",
       "      <td>B00W6T208I</td>\n",
       "      <td>Celestial Seasonings</td>\n",
       "      <td>NaN</td>\n",
       "      <td>A full-bodied black tea made from ingredients ...</td>\n",
       "      <td>1415</td>\n",
       "    </tr>\n",
       "    <tr>\n",
       "      <th>7</th>\n",
       "      <td>B00I8YJZ4M</td>\n",
       "      <td>Tom's of Maine</td>\n",
       "      <td>3.79</td>\n",
       "      <td>Toms of Maine Goodness Day Mt. Agamenticus loc...</td>\n",
       "      <td>1403</td>\n",
       "    </tr>\n",
       "    <tr>\n",
       "      <th>8</th>\n",
       "      <td>B00ICZZCEE</td>\n",
       "      <td>Pure Protein</td>\n",
       "      <td>7.09</td>\n",
       "      <td>Pure Protein 23 Grams, Vanilla Creme(4 Count, ...</td>\n",
       "      <td>1429</td>\n",
       "    </tr>\n",
       "    <tr>\n",
       "      <th>9</th>\n",
       "      <td>B0014CSIG6</td>\n",
       "      <td>Mauna Loa</td>\n",
       "      <td>NaN</td>\n",
       "      <td>2g Net carbs. Taste of the tropics. Share this...</td>\n",
       "      <td>2600</td>\n",
       "    </tr>\n",
       "  </tbody>\n",
       "</table>\n",
       "</div>"
      ],
      "text/plain": [
       "      ITEM_ID                 BRAND  PRICE  \\\n",
       "0  B00XA9DADC              Twinings   8.00   \n",
       "1  B00I3MVY9I                 Crest    NaN   \n",
       "2  B00W6T13OU        Brooklyn Beans    NaN   \n",
       "3  B00HZ6X8QU                  Tide  11.99   \n",
       "4  B0014CZUZ8              Planters   5.98   \n",
       "5  B00I9KR31C                  Viva    NaN   \n",
       "6  B00W6T208I  Celestial Seasonings    NaN   \n",
       "7  B00I8YJZ4M        Tom's of Maine   3.79   \n",
       "8  B00ICZZCEE          Pure Protein   7.09   \n",
       "9  B0014CSIG6             Mauna Loa    NaN   \n",
       "\n",
       "                                         DESCRIPTION  INTERACTIONS_COUNT  \n",
       "0  Made with 100% pure peppermint leaves. An upli...                5288  \n",
       "1  Unleash A Brilliantly Dimensional Smile A 3D W...                5086  \n",
       "2  In Brooklyn, we know a thing or two about bein...                4023  \n",
       "3  Tide Original liquid laundry detergent provide...                1791  \n",
       "4  Nuts are the heroes of wholesome snacking. And...                3225  \n",
       "5  View larger Product Description Dinner is over...                1467  \n",
       "6  A full-bodied black tea made from ingredients ...                1415  \n",
       "7  Toms of Maine Goodness Day Mt. Agamenticus loc...                1403  \n",
       "8  Pure Protein 23 Grams, Vanilla Creme(4 Count, ...                1429  \n",
       "9  2g Net carbs. Taste of the tropics. Share this...                2600  "
      ]
     },
     "execution_count": 90,
     "metadata": {},
     "output_type": "execute_result"
    }
   ],
   "source": [
    "# 推薦\n",
    "recommendations_sims_df"
   ]
  },
  {
   "cell_type": "markdown",
   "id": "bd3ed7b4-591e-4f5c-a473-baab14f97bc9",
   "metadata": {},
   "source": [
    "### コスト・カテゴリーと製品グループ"
   ]
  },
  {
   "cell_type": "code",
   "execution_count": 91,
   "id": "e91826ac-edf1-4915-a1b3-e2b4e8e9cab4",
   "metadata": {},
   "outputs": [
    {
     "data": {
      "text/html": [
       "<div>\n",
       "<style scoped>\n",
       "    .dataframe tbody tr th:only-of-type {\n",
       "        vertical-align: middle;\n",
       "    }\n",
       "\n",
       "    .dataframe tbody tr th {\n",
       "        vertical-align: top;\n",
       "    }\n",
       "\n",
       "    .dataframe thead th {\n",
       "        text-align: right;\n",
       "    }\n",
       "</style>\n",
       "<table border=\"1\" class=\"dataframe\">\n",
       "  <thead>\n",
       "    <tr style=\"text-align: right;\">\n",
       "      <th></th>\n",
       "      <th>ITEM_ID</th>\n",
       "      <th>BRAND</th>\n",
       "      <th>PRICE</th>\n",
       "      <th>DESCRIPTION</th>\n",
       "      <th>INTERACTIONS_COUNT</th>\n",
       "    </tr>\n",
       "  </thead>\n",
       "  <tbody>\n",
       "    <tr>\n",
       "      <th>0</th>\n",
       "      <td>B00MTSGYG0</td>\n",
       "      <td>Bounce</td>\n",
       "      <td>8.24</td>\n",
       "      <td>We admit, the outdoors smell great. But with o...</td>\n",
       "      <td>394</td>\n",
       "    </tr>\n",
       "    <tr>\n",
       "      <th>1</th>\n",
       "      <td>B00O28Y4FI</td>\n",
       "      <td>Maxell</td>\n",
       "      <td>1.95</td>\n",
       "      <td>Manufactured to the highest standards in the i...</td>\n",
       "      <td>32</td>\n",
       "    </tr>\n",
       "    <tr>\n",
       "      <th>2</th>\n",
       "      <td>B00PTX8N52</td>\n",
       "      <td>Dawn</td>\n",
       "      <td>NaN</td>\n",
       "      <td>Think all dish soaps are the same? Think again...</td>\n",
       "      <td>621</td>\n",
       "    </tr>\n",
       "    <tr>\n",
       "      <th>3</th>\n",
       "      <td>B01B4N9Y6C</td>\n",
       "      <td>Cottonelle</td>\n",
       "      <td>6.99</td>\n",
       "      <td>Cottonelle Clean Care toilet paper with Clean ...</td>\n",
       "      <td>570</td>\n",
       "    </tr>\n",
       "    <tr>\n",
       "      <th>4</th>\n",
       "      <td>B019XEY5GS</td>\n",
       "      <td>Bounty</td>\n",
       "      <td>14.99</td>\n",
       "      <td>Ever try one of those bargain' paper towels an...</td>\n",
       "      <td>483</td>\n",
       "    </tr>\n",
       "    <tr>\n",
       "      <th>5</th>\n",
       "      <td>B00HZ6X8QU</td>\n",
       "      <td>Tide</td>\n",
       "      <td>11.99</td>\n",
       "      <td>Tide Original liquid laundry detergent provide...</td>\n",
       "      <td>1791</td>\n",
       "    </tr>\n",
       "    <tr>\n",
       "      <th>6</th>\n",
       "      <td>B00IB0CO1O</td>\n",
       "      <td>Seventh Generation</td>\n",
       "      <td>5.49</td>\n",
       "      <td>Clean doesnt have to be complicated. Seventh G...</td>\n",
       "      <td>710</td>\n",
       "    </tr>\n",
       "    <tr>\n",
       "      <th>7</th>\n",
       "      <td>B011DX5G92</td>\n",
       "      <td>Charmin</td>\n",
       "      <td>6.99</td>\n",
       "      <td>Charmin Ultra Strong toilet paper cleans bette...</td>\n",
       "      <td>536</td>\n",
       "    </tr>\n",
       "    <tr>\n",
       "      <th>8</th>\n",
       "      <td>B00NAZ532W</td>\n",
       "      <td>Viva</td>\n",
       "      <td>NaN</td>\n",
       "      <td>Unleash the paper towel that cleans like cloth...</td>\n",
       "      <td>798</td>\n",
       "    </tr>\n",
       "    <tr>\n",
       "      <th>9</th>\n",
       "      <td>B011KW1HXK</td>\n",
       "      <td>Clorox</td>\n",
       "      <td>3.97</td>\n",
       "      <td>Clorox Zero Splash Bleach Crystals let you cle...</td>\n",
       "      <td>251</td>\n",
       "    </tr>\n",
       "  </tbody>\n",
       "</table>\n",
       "</div>"
      ],
      "text/plain": [
       "      ITEM_ID               BRAND  PRICE  \\\n",
       "0  B00MTSGYG0              Bounce   8.24   \n",
       "1  B00O28Y4FI              Maxell   1.95   \n",
       "2  B00PTX8N52                Dawn    NaN   \n",
       "3  B01B4N9Y6C          Cottonelle   6.99   \n",
       "4  B019XEY5GS              Bounty  14.99   \n",
       "5  B00HZ6X8QU                Tide  11.99   \n",
       "6  B00IB0CO1O  Seventh Generation   5.49   \n",
       "7  B011DX5G92             Charmin   6.99   \n",
       "8  B00NAZ532W                Viva    NaN   \n",
       "9  B011KW1HXK              Clorox   3.97   \n",
       "\n",
       "                                         DESCRIPTION  INTERACTIONS_COUNT  \n",
       "0  We admit, the outdoors smell great. But with o...                 394  \n",
       "1  Manufactured to the highest standards in the i...                  32  \n",
       "2  Think all dish soaps are the same? Think again...                 621  \n",
       "3  Cottonelle Clean Care toilet paper with Clean ...                 570  \n",
       "4  Ever try one of those bargain' paper towels an...                 483  \n",
       "5  Tide Original liquid laundry detergent provide...                1791  \n",
       "6  Clean doesnt have to be complicated. Seventh G...                 710  \n",
       "7  Charmin Ultra Strong toilet paper cleans bette...                 536  \n",
       "8  Unleash the paper towel that cleans like cloth...                 798  \n",
       "9  Clorox Zero Splash Bleach Crystals let you cle...                 251  "
      ]
     },
     "execution_count": 91,
     "metadata": {},
     "output_type": "execute_result"
    }
   ],
   "source": [
    "# 推薦\n",
    "recommendations_similar_items_df"
   ]
  },
  {
   "cell_type": "markdown",
   "id": "fe63d8f8-e358-4710-ad61-36bfd311c58c",
   "metadata": {},
   "source": [
    "### 説明文を印刷し、アイテムのテーマに合っているかどうか確認してみましょう。"
   ]
  },
  {
   "cell_type": "code",
   "execution_count": 92,
   "id": "ce162f3d-a280-402f-b3de-7bb4aaaefe70",
   "metadata": {},
   "outputs": [
    {
     "name": "stdout",
     "output_type": "stream",
     "text": [
      "----ITEM----\n",
      "Recommendation number 1, BRAND: Bounce, PRICE: 8.24\n",
      "----DESCRIPTION----\n",
      "We admit, the outdoors smell great. But with our Bounce Outdoor Fresh fabric softener dryer sheets you also get fewer wrinkles, way less static cling, repel lint and hair while keeping your fabrics soft - all on top of an outdoor fresh scent. Ahhhhh, now thats a breath of fresh air. View larger View larger View larger View larger\n",
      "----ITEM----\n",
      "Recommendation number 2, BRAND: Maxell, PRICE: 1.95\n",
      "----DESCRIPTION----\n",
      "Manufactured to the highest standards in the industry, Maxell's alkaline batteries provide unrivaled value. You can depend on these batteries to power your emergency flashlight, your children's toys, or even your smoke alarm. Maxell batteries provide long-lasting, reliable power. You can depend on these batteries to power your emergency flashlight, your children's toys, or even your smoke alarm. Ready-to-go power source that delivers long-lasting and reliable energy. Established in the United States in 1969, Maxell Corporation of America, a technology and marketing leader, is a full line supplier of OEM and consumer batteries, lenses, and digital media products for the consumer, professional and data storage markets. The company also offers a full line of electronics care and maintenance products, along with storage products and a well-known brand of headphones, iPOD/MP3 peripherals and speakers. In addition, Maxell supplies industrial batteries for Advanced Meter Infrastructure and Tire Pressure Monitoring Systems, as well as cellular phones and power tools.\n",
      "----ITEM----\n",
      "Recommendation number 3, BRAND: Dawn, PRICE: nan\n",
      "----DESCRIPTION----\n",
      "Think all dish soaps are the same? Think again. Dawn Ultra has 3X more grease-cleaning power per drop,* so you can get through more dishes with less. No matter what you've got cooking in the kitchen, Dawn dishwasing liquid will leave your dishes squeaky clean every time. *Cleaning ingredients per drop vs. the leading competitior's non-concentrated brand. Independent studies have proven Dawn dish soap to be the most effective dishwashing detergent for cleaning oiled animals, heralded because it removes tough grease while being gentle on animals delicate skin and feathers. As such, Dawn is the only dishwashing brand trusted by wildlife rescue experts for decades. Since 2006, Dawn has donated more than 100,000 bottles of dishwashing liquid and financial support to its wildlife partners, International Bird Rescue and The Marine Mammal Center. These donations have helped these organizations clean more than 75,000 marine animals in the United States.\n",
      "----ITEM----\n",
      "Recommendation number 4, BRAND: Cottonelle, PRICE: 6.99\n",
      "----DESCRIPTION----\n",
      "Cottonelle Clean Care toilet paper with Clean Ripple Texture is designed to Clean Better and give you the Confidence you need to take on the day. By featuring the Clean Ripple Texture on every sheet, the soft and strong Cottonelle Clean Care bath tissue never compromises its strength & effectiveness to get you cleaner. Cottonelle Clean Care toilet tissue is not only safe for your behind, it's safe for sewers and septic systems. Choose Cottonelle Clean Care toilet paper and experience the Clean Ripple Texture Difference for yourself. For the ultimate clean and fresh feeling, add Cottonelle Flushable Wipes to your bathroom routine. Cottonelle toilet papers are 3X Thicker and 3X Stronger versus the leading national value toilet papers brand Cottonelle toilet papers are great for getting your toilet paper in bulk, subscribe and save, prime pantry, or as an essential Holiday gift idea. Featuring raised, extra-absorbent ripples, Cottonelle CleanRipple Texture is the benefit you can see and feel. With 20% more sheets than Cottonelle Double Roll, Cottonelle CleanCare Family Roll allows you to change the roll less often. Best of all, it fits standard toilet paper holders without the need for any attachments. Feel a clean so fresh that it can only be the combination of Cottonelle CleanCare bathroom tissue and Cottonelle FreshCare Flushable Moist Wipes. View larger View larger View larger\n",
      "----ITEM----\n",
      "Recommendation number 5, BRAND: Bounty, PRICE: 14.99\n",
      "----DESCRIPTION----\n",
      "Ever try one of those bargain' paper towels and go through so many sheets that the roll just disappears? With Bounty, the roll doesnt disappear. Bounty Select-A-Size paper towels are 2X more absorbent,* so you can use less. Bounty quickly absorbs messes, so you can clean up and move on without wasting time or towels. Plus, it comes in a variety of sizes and prints, so you can choose the Bounty paper towel that's just right for you and your family. Choose the paper towel you can count on: Bounty, the longer-lasting Quicker Picker Upper.** *Vs. the Custom-Size-It brand in the U.S. and the Premium Green Leaf Towel in Canada. **Vs. leading ordinary brand. Dont be let down by bargain brand paper towels that tear and disappear in days. Try Bounty instead. Bounty is 2x more absorbent,* so you can pick up messes with as little as one sheet. And that means you dont have to keep pulling on a roll of Bounty, because it can last 50% longer. You'll spend more time doing the things you want and less time worrying about running out. *Vs. the leading ordinary brand. View larger View larger View larger Bounty paper towels are so absorbent you can use them for a range of unexpected tasks, such as cleaning makeup brushes and jewelry. Bounty paper towels are so durable you can use them in place of dish rags or sponges. Dish sponges and rags leave a germy residue everywhere they touch. With Bounty, your durable paper towel goes right in the trash when youre done. And it's 3x cleaner!* *Than a germy dishcloth.\n",
      "----ITEM----\n",
      "Recommendation number 6, BRAND: Tide, PRICE: 11.99\n",
      "----DESCRIPTION----\n",
      "Tide Original liquid laundry detergent provides the Tide clean you love, now more concentrated for more stain removal and freshness and less water*. Americas #1 detergent** is specifically designed to cover your many laundry needs. Also try our small but powerful Tide PODS laundry pacs. Measure your loads with cap. For medium loads, fill to bar 1. For large loads, fill to bar 3. For HE full loads, fill to bar 5. Add clothes, pour into dispenser, start washer. * vs. previous formula ** based on sales For an amazing clean you know and love, theres only one original: Tide Original Scent High Efficiency Laundry Detergent which removes over 100 stains in one wash. Its revitalizing scent is infused with aloe and floral notes to help keep your familys clothes smelling as great as they look. The formula also allows you to enjoy Tide even more as it lasts up to 2x longer compared to leading baking soda detergent based on large loads use instructions (175 oz and smaller bottles). View larger View larger View larger View larger\n",
      "----ITEM----\n",
      "Recommendation number 7, BRAND: Seventh Generation, PRICE: 5.49\n",
      "----DESCRIPTION----\n",
      "Clean doesnt have to be complicated. Seventh Generation Disinfecting Wipes clean and disinfect in one easy step, killing 99.99% of household germs including cold and flu viruses* Our one-step disinfecting formula is designed for the hard, non-porous surfaces in every room in the house and does not require a rinse, even on food contact surfaces. The convenient wipes can be used for daily touch-ups or tough cleaning jobs. Our Lemongrass Citrus Scent Disinfecting Wipes are scented with essential oils and botanical ingredients and leave your home smelling fresh and clean. This EPA registered disinfectant can be used around kids and pets and is suitable for use on all hard non-porous surfaces including childrens toys, pacifiers, gym equipment, food contact surfaces, doorknobs, bathroom surfaces, and more. Seventh Generation is committed to being a brand of environmentally conscious and effective household and personal-care products. Our disinfectant wipes, sprays, and cleaners are solutions for the hard non-porous surfaces within your home. A partnership with the CleanWell Company, makers of the disinfectant formula based on an essential oil, brings you a line of Seventh Generation Disinfecting wipes with CleanWell Inside. * Kills over 99.99% of household germs, specifically: Influenza A virus, H1N1, Rhinovirus type 37, Methicilin-resistant S. aureus (MRSA), Staphylococcus aureus, Salmonella enterica, and Pseudomonas aeruginosa on hard, non-porous surfaces.\n",
      "----ITEM----\n",
      "Recommendation number 8, BRAND: Charmin, PRICE: 6.99\n",
      "----DESCRIPTION----\n",
      "Charmin Ultra Strong toilet paper cleans better versus the leading bargain brand with fewer sheets. Its washcloth-like texture is stronger* and you can use less versus the leading bargain brand. When you buy Charmin Ultra Strong Mega Roll toilet paper you get a big, long-lasting roll because one Charmin Mega Roll equals 4 Regular Rolls**. We all go to the bathroom, those who go with Charmin Ultra Strong toilet paper really Enjoy the Go! (*when wet vs. the leading bargain brand; **Based on number of sheets in Charmin Regular Roll bath tissue)\n",
      "----ITEM----\n",
      "Recommendation number 9, BRAND: Viva, PRICE: nan\n",
      "----DESCRIPTION----\n",
      "Unleash the paper towel that cleans like cloth. With a soft, smooth texture and cloth-like durability, VIVA Paper Towels help you tackle any job, wet or dry. Polish china, clean dirt off patio dcor or wipe away splatters in the microwave. VIVA Paper Towels are tough on messes, but soft on skin and delicate surfaces. The absorbent paper towel sheets are perfect for kitchen and bathroom cleanups, and this pack of paper towels lets you select a size for any mess. Includes a single pack of six Choose-A-Sheet Big Rolls. With more sheets vs. the leading national brand, each paper towel roll has 66 individually perforated sheets. Plus, with Amazon Subscribe & Save, you can save up to 15% and conveniently keep VIVA Choose-A-Sheet* Paper Towels on hand. Schedule routine delivery with free shipping, and you can change or cancel a delivery at any time. Strong and soft VIVA is ready to tackle any size job in your home. Rely on our paper towels to clean like cloth, no matter what life smudges, spills or throws your way. Viva paper towels offer tough cleaning power indoors and out while still remaining gentle on skin and delicate surfaces. Take on any cleaning task with absorbent Viva Towels. They stay tough when wet to help resist ripping or tearing.\n",
      "----ITEM----\n",
      "Recommendation number 10, BRAND: Clorox, PRICE: 3.97\n",
      "----DESCRIPTION----\n",
      "Clorox Zero Splash Bleach Crystals let you clean with control without the splash and spills. The bleach crystals are specially formulated to be water activated, so it starts working when you mix them with water. Clorox Zero Splash Bleach Crystals are a convenient solution for cleaning fabrics, toilets, sinks and hard, nonporous surfaces. The solid form has the same Clorox trusted clean, so you can wash and clean with confidence and eliminate the worry of liquid spills. Simply fill the dosing cap with the bleach crystals and add directly to the washer drum or pour into a bucket, sink or toilet and stir to dissolve. The crystals dissolve fully in the washing machine during the wash. No mess, just fresh clean clothes. Clorox Zero Splash Bleach Crystals make cleaning easy without worrying about spills and splashes and has the same great bleaching action as Clorox Liquid Bleach. The solid form means no spilling or splashing. Clorox Control Bleach Crystals are specially formulated to be water-activated for added control. When the Crystals are dry they are essentially un-reactive. When mixed with water the solid dissolves and activates to make a bleach solution. Simply drop the Crystals into a bucket, sink or toilet and stir to dissolve. Crystals dissolve fully in the washing machine during the wash. Plus, Clorox Control Bleach Crystals feature compact packaging, so theyre easy to carry and store. They take up less room in laundry rooms and closets, and eliminate the problem of liquid spills. View larger View larger View larger View larger\n"
     ]
    }
   ],
   "source": [
    "for index, row in recommendations_similar_items_df.iterrows():\n",
    "    print('----ITEM----')\n",
    "    print('Recommendation number {index}, BRAND: {brand}, PRICE: {price}'.format(index=index+1, brand=row['BRAND'], price=row['PRICE']))\n",
    "    print('----DESCRIPTION----')\n",
    "    print(row['DESCRIPTION'])"
   ]
  },
  {
   "cell_type": "markdown",
   "id": "bbc1476a-de18-4d80-821e-846e28112478",
   "metadata": {},
   "source": [
    "### リソースのシャットダウン\n",
    "### このノートブックで作成したキャンペーンは継続的な変更を生成するため、以下のロジックで削除プロセスを開始します。"
   ]
  },
  {
   "cell_type": "code",
   "execution_count": 94,
   "id": "5e848d49-9ff5-4151-be1a-f4c3a6e2e50b",
   "metadata": {},
   "outputs": [
    {
     "data": {
      "text/plain": [
       "{'ResponseMetadata': {'RequestId': '0f52e8c5-bb5f-4b67-9e57-3dd26c0f3b1e',\n",
       "  'HTTPStatusCode': 200,\n",
       "  'HTTPHeaders': {'date': 'Sat, 24 May 2025 11:56:37 GMT',\n",
       "   'content-type': 'application/x-amz-json-1.1',\n",
       "   'content-length': '0',\n",
       "   'connection': 'keep-alive',\n",
       "   'x-amzn-requestid': '0f52e8c5-bb5f-4b67-9e57-3dd26c0f3b1e',\n",
       "   'strict-transport-security': 'max-age=47304000; includeSubDomains',\n",
       "   'x-frame-options': 'DENY',\n",
       "   'cache-control': 'no-cache',\n",
       "   'x-content-type-options': 'nosniff'},\n",
       "  'RetryAttempts': 0}}"
      ]
     },
     "execution_count": 94,
     "metadata": {},
     "output_type": "execute_result"
    }
   ],
   "source": [
    "personalize.delete_campaign(campaignArn = sims_solution['campaign_arn'])\n",
    "personalize.delete_campaign(campaignArn = similar_items_solution['campaign_arn'])"
   ]
  },
  {
   "cell_type": "code",
   "execution_count": null,
   "id": "13cd46f4-a0bf-4cab-8d3f-7aba0cf6c851",
   "metadata": {},
   "outputs": [],
   "source": []
  }
 ],
 "metadata": {
  "kernelspec": {
   "display_name": "Python 3 (ipykernel)",
   "language": "python",
   "name": "python3"
  },
  "language_info": {
   "codemirror_mode": {
    "name": "ipython",
    "version": 3
   },
   "file_extension": ".py",
   "mimetype": "text/x-python",
   "name": "python",
   "nbconvert_exporter": "python",
   "pygments_lexer": "ipython3",
   "version": "3.11.6"
  }
 },
 "nbformat": 4,
 "nbformat_minor": 5
}
