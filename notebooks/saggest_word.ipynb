{
 "cells": [
  {
   "cell_type": "code",
   "execution_count": 1,
   "id": "f38cd2d5-1fbc-4a18-8537-8363e518ba75",
   "metadata": {},
   "outputs": [],
   "source": [
    "import pandas as pd\n",
    "import json\n",
    "import numpy as np\n",
    "from datetime import datetime\n",
    "import boto3\n",
    "import time\n",
    "from time import sleep\n",
    "from lxml import html\n",
    "import os"
   ]
  },
  {
   "cell_type": "markdown",
   "id": "735c92ca-33e5-4120-b6d3-799787293a56",
   "metadata": {},
   "source": [
    "### 定数"
   ]
  },
  {
   "cell_type": "code",
   "execution_count": 2,
   "id": "a6850d4f-6960-49eb-acd8-26d4d0b21dd0",
   "metadata": {},
   "outputs": [],
   "source": [
    "REGION_NAME = 'ap-northeast-1'\n",
    "\n",
    "AWS_ACCESS_KEY_ID = os.environ.get(\"AWS_ACCESS_KEY_ID\")\n",
    "AWS_SECRET_ACCESS_KEY = os.environ.get(\"AWS_SECRET_ACCESS_KEY\")\n",
    "\n",
    "DATASET_GROUP_NAME = \"word_suggest_recommendation\"\n",
    "INTERACTIONS_FILENAME = \"interactions.csv\" # 要修正\n",
    "ROLE_NAME = \"PersonalizeRoleAmazonPantryAwsSimilarItems\"\n",
    "\n",
    "BOUGHT_TOGETHER_RECIPE_ARN = \"arn:aws:personalize:::recipe/aws-ecomm-frequently-bought-together\"\n",
    "VIEWED_ALSO_RECIPE_ARN = \"arn:aws:personalize:::recipe/aws-ecomm-customers-who-viewed-x-also-viewed\"\n",
    "SIMS_RECIPE_ARN = \"arn:aws:personalize:::recipe/aws-sims\""
   ]
  },
  {
   "cell_type": "markdown",
   "id": "a780f990-56ee-4cf2-8520-29c86d229d93",
   "metadata": {},
   "source": [
    "### データ読み込み"
   ]
  },
  {
   "cell_type": "code",
   "execution_count": 3,
   "id": "1144f6c2-8a18-4928-bfb7-0a29fbdc9b29",
   "metadata": {},
   "outputs": [
    {
     "data": {
      "text/html": [
       "<div>\n",
       "<style scoped>\n",
       "    .dataframe tbody tr th:only-of-type {\n",
       "        vertical-align: middle;\n",
       "    }\n",
       "\n",
       "    .dataframe tbody tr th {\n",
       "        vertical-align: top;\n",
       "    }\n",
       "\n",
       "    .dataframe thead th {\n",
       "        text-align: right;\n",
       "    }\n",
       "</style>\n",
       "<table border=\"1\" class=\"dataframe\">\n",
       "  <thead>\n",
       "    <tr style=\"text-align: right;\">\n",
       "      <th></th>\n",
       "      <th>USER_ID</th>\n",
       "      <th>ITEM_ID</th>\n",
       "      <th>TIMESTAMP</th>\n",
       "      <th>EVENT_VALUE</th>\n",
       "      <th>EVENT_TYPE</th>\n",
       "    </tr>\n",
       "  </thead>\n",
       "  <tbody>\n",
       "    <tr>\n",
       "      <th>0</th>\n",
       "      <td>A1NKJW0TNRVS7O</td>\n",
       "      <td>B0000DIWNZ</td>\n",
       "      <td>1418515200</td>\n",
       "      <td>5</td>\n",
       "      <td>reviewed</td>\n",
       "    </tr>\n",
       "    <tr>\n",
       "      <th>1</th>\n",
       "      <td>A2L6X37E8TFTCC</td>\n",
       "      <td>B0000DIWNZ</td>\n",
       "      <td>1416441600</td>\n",
       "      <td>4</td>\n",
       "      <td>reviewed</td>\n",
       "    </tr>\n",
       "    <tr>\n",
       "      <th>2</th>\n",
       "      <td>A2WPR4W6V48121</td>\n",
       "      <td>B0000DIWNZ</td>\n",
       "      <td>1412985600</td>\n",
       "      <td>4</td>\n",
       "      <td>reviewed</td>\n",
       "    </tr>\n",
       "    <tr>\n",
       "      <th>3</th>\n",
       "      <td>A1OWT4YZGB5GV9</td>\n",
       "      <td>B0000DIWNZ</td>\n",
       "      <td>1407628800</td>\n",
       "      <td>4</td>\n",
       "      <td>reviewed</td>\n",
       "    </tr>\n",
       "    <tr>\n",
       "      <th>4</th>\n",
       "      <td>A1GN2ADKF1IE7K</td>\n",
       "      <td>B0000DIWNZ</td>\n",
       "      <td>1405296000</td>\n",
       "      <td>5</td>\n",
       "      <td>reviewed</td>\n",
       "    </tr>\n",
       "  </tbody>\n",
       "</table>\n",
       "</div>"
      ],
      "text/plain": [
       "          USER_ID     ITEM_ID   TIMESTAMP  EVENT_VALUE EVENT_TYPE\n",
       "0  A1NKJW0TNRVS7O  B0000DIWNZ  1418515200            5   reviewed\n",
       "1  A2L6X37E8TFTCC  B0000DIWNZ  1416441600            4   reviewed\n",
       "2  A2WPR4W6V48121  B0000DIWNZ  1412985600            4   reviewed\n",
       "3  A1OWT4YZGB5GV9  B0000DIWNZ  1407628800            4   reviewed\n",
       "4  A1GN2ADKF1IE7K  B0000DIWNZ  1405296000            5   reviewed"
      ]
     },
     "execution_count": 3,
     "metadata": {},
     "output_type": "execute_result"
    }
   ],
   "source": [
    "search_log_df = pd.read_csv(INTERACTIONS_FILENAME)\n",
    "\n",
    "search_log_df.head()"
   ]
  },
  {
   "cell_type": "code",
   "execution_count": 4,
   "id": "6d06042c-763c-4fba-a91e-67e56f77661f",
   "metadata": {},
   "outputs": [
    {
     "data": {
      "text/html": [
       "<div>\n",
       "<style scoped>\n",
       "    .dataframe tbody tr th:only-of-type {\n",
       "        vertical-align: middle;\n",
       "    }\n",
       "\n",
       "    .dataframe tbody tr th {\n",
       "        vertical-align: top;\n",
       "    }\n",
       "\n",
       "    .dataframe thead th {\n",
       "        text-align: right;\n",
       "    }\n",
       "</style>\n",
       "<table border=\"1\" class=\"dataframe\">\n",
       "  <thead>\n",
       "    <tr style=\"text-align: right;\">\n",
       "      <th></th>\n",
       "      <th>USER_ID</th>\n",
       "      <th>ITEM_ID</th>\n",
       "      <th>TIMESTAMP</th>\n",
       "      <th>EVENT_VALUE</th>\n",
       "      <th>EVENT_TYPE</th>\n",
       "    </tr>\n",
       "  </thead>\n",
       "  <tbody>\n",
       "    <tr>\n",
       "      <th>count</th>\n",
       "      <td>387692</td>\n",
       "      <td>387692</td>\n",
       "      <td>3.876920e+05</td>\n",
       "      <td>387692.000000</td>\n",
       "      <td>387692</td>\n",
       "    </tr>\n",
       "    <tr>\n",
       "      <th>unique</th>\n",
       "      <td>202254</td>\n",
       "      <td>10584</td>\n",
       "      <td>NaN</td>\n",
       "      <td>NaN</td>\n",
       "      <td>1</td>\n",
       "    </tr>\n",
       "    <tr>\n",
       "      <th>top</th>\n",
       "      <td>A35Q0RBM3YNQNF</td>\n",
       "      <td>B00XA9DADC</td>\n",
       "      <td>NaN</td>\n",
       "      <td>NaN</td>\n",
       "      <td>reviewed</td>\n",
       "    </tr>\n",
       "    <tr>\n",
       "      <th>freq</th>\n",
       "      <td>176</td>\n",
       "      <td>5288</td>\n",
       "      <td>NaN</td>\n",
       "      <td>NaN</td>\n",
       "      <td>387692</td>\n",
       "    </tr>\n",
       "    <tr>\n",
       "      <th>mean</th>\n",
       "      <td>NaN</td>\n",
       "      <td>NaN</td>\n",
       "      <td>1.468847e+09</td>\n",
       "      <td>4.847227</td>\n",
       "      <td>NaN</td>\n",
       "    </tr>\n",
       "    <tr>\n",
       "      <th>std</th>\n",
       "      <td>NaN</td>\n",
       "      <td>NaN</td>\n",
       "      <td>4.314975e+07</td>\n",
       "      <td>0.359769</td>\n",
       "      <td>NaN</td>\n",
       "    </tr>\n",
       "    <tr>\n",
       "      <th>min</th>\n",
       "      <td>NaN</td>\n",
       "      <td>NaN</td>\n",
       "      <td>1.073693e+09</td>\n",
       "      <td>4.000000</td>\n",
       "      <td>NaN</td>\n",
       "    </tr>\n",
       "    <tr>\n",
       "      <th>25%</th>\n",
       "      <td>NaN</td>\n",
       "      <td>NaN</td>\n",
       "      <td>1.447200e+09</td>\n",
       "      <td>5.000000</td>\n",
       "      <td>NaN</td>\n",
       "    </tr>\n",
       "    <tr>\n",
       "      <th>50%</th>\n",
       "      <td>NaN</td>\n",
       "      <td>NaN</td>\n",
       "      <td>1.474718e+09</td>\n",
       "      <td>5.000000</td>\n",
       "      <td>NaN</td>\n",
       "    </tr>\n",
       "    <tr>\n",
       "      <th>75%</th>\n",
       "      <td>NaN</td>\n",
       "      <td>NaN</td>\n",
       "      <td>1.498435e+09</td>\n",
       "      <td>5.000000</td>\n",
       "      <td>NaN</td>\n",
       "    </tr>\n",
       "    <tr>\n",
       "      <th>max</th>\n",
       "      <td>NaN</td>\n",
       "      <td>NaN</td>\n",
       "      <td>1.538611e+09</td>\n",
       "      <td>5.000000</td>\n",
       "      <td>NaN</td>\n",
       "    </tr>\n",
       "  </tbody>\n",
       "</table>\n",
       "</div>"
      ],
      "text/plain": [
       "               USER_ID     ITEM_ID     TIMESTAMP    EVENT_VALUE EVENT_TYPE\n",
       "count           387692      387692  3.876920e+05  387692.000000     387692\n",
       "unique          202254       10584           NaN            NaN          1\n",
       "top     A35Q0RBM3YNQNF  B00XA9DADC           NaN            NaN   reviewed\n",
       "freq               176        5288           NaN            NaN     387692\n",
       "mean               NaN         NaN  1.468847e+09       4.847227        NaN\n",
       "std                NaN         NaN  4.314975e+07       0.359769        NaN\n",
       "min                NaN         NaN  1.073693e+09       4.000000        NaN\n",
       "25%                NaN         NaN  1.447200e+09       5.000000        NaN\n",
       "50%                NaN         NaN  1.474718e+09       5.000000        NaN\n",
       "75%                NaN         NaN  1.498435e+09       5.000000        NaN\n",
       "max                NaN         NaN  1.538611e+09       5.000000        NaN"
      ]
     },
     "execution_count": 4,
     "metadata": {},
     "output_type": "execute_result"
    }
   ],
   "source": [
    "search_log_df.describe(include='all')"
   ]
  },
  {
   "cell_type": "markdown",
   "id": "bd76c369-b9cb-403f-bcb4-fae00902b943",
   "metadata": {},
   "source": [
    "### データセットグループの作成"
   ]
  },
  {
   "cell_type": "code",
   "execution_count": 5,
   "id": "287760ad-c275-4880-ada8-69724310731a",
   "metadata": {},
   "outputs": [
    {
     "name": "stdout",
     "output_type": "stream",
     "text": [
      "{\n",
      "  \"datasetGroupArn\": \"arn:aws:personalize:ap-northeast-1:627614495110:dataset-group/word_suggest_recommendation\",\n",
      "  \"ResponseMetadata\": {\n",
      "    \"RequestId\": \"173d9e47-5f93-4c50-b3f2-fdb720023f45\",\n",
      "    \"HTTPStatusCode\": 200,\n",
      "    \"HTTPHeaders\": {\n",
      "      \"date\": \"Sat, 31 May 2025 14:37:56 GMT\",\n",
      "      \"content-type\": \"application/x-amz-json-1.1\",\n",
      "      \"content-length\": \"111\",\n",
      "      \"connection\": \"keep-alive\",\n",
      "      \"x-amzn-requestid\": \"173d9e47-5f93-4c50-b3f2-fdb720023f45\",\n",
      "      \"strict-transport-security\": \"max-age=47304000; includeSubDomains\",\n",
      "      \"x-frame-options\": \"DENY\",\n",
      "      \"cache-control\": \"no-cache\",\n",
      "      \"x-content-type-options\": \"nosniff\"\n",
      "    },\n",
      "    \"RetryAttempts\": 0\n",
      "  }\n",
      "}\n"
     ]
    }
   ],
   "source": [
    "personalize = boto3.client(\n",
    "    'personalize',\n",
    "    aws_access_key_id=AWS_ACCESS_KEY_ID,\n",
    "    aws_secret_access_key=AWS_SECRET_ACCESS_KEY,\n",
    "    region_name=REGION_NAME,\n",
    ")\n",
    "\n",
    "personalize_runtime = boto3.client(\n",
    "    'personalize-runtime', \n",
    "    aws_access_key_id=AWS_ACCESS_KEY_ID,\n",
    "    aws_secret_access_key=AWS_SECRET_ACCESS_KEY,\n",
    "    region_name=REGION_NAME,\n",
    ")\n",
    "\n",
    "create_dataset_group_response = personalize.create_dataset_group(\n",
    "    name = DATASET_GROUP_NAME,\n",
    ")\n",
    "\n",
    "dataset_group = create_dataset_group_response['datasetGroupArn']\n",
    "print(json.dumps(create_dataset_group_response, indent=2))"
   ]
  },
  {
   "cell_type": "markdown",
   "id": "20c2c279-885c-4e72-a9f1-1b390d942cc1",
   "metadata": {},
   "source": [
    "### max_time を上限として、データセットグループの作成が完了したことを確認し続ける"
   ]
  },
  {
   "cell_type": "code",
   "execution_count": 6,
   "id": "683c2376-6daa-4132-a1df-7de87b7723f1",
   "metadata": {},
   "outputs": [
    {
     "name": "stdout",
     "output_type": "stream",
     "text": [
      "Dataset group create succeeded for arn:aws:personalize:ap-northeast-1:627614495110:dataset-group/word_suggest_recommendation\n"
     ]
    }
   ],
   "source": [
    "max_time = time.time() + 3*60*60 # 3 hours\n",
    "\n",
    "while time.time() < max_time:\n",
    "    describe_dataset_group_response = personalize.describe_dataset_group(\n",
    "        datasetGroupArn = dataset_group\n",
    "    )\n",
    "    status = describe_dataset_group_response[\"datasetGroup\"][\"status\"]\n",
    "    if status == \"ACTIVE\":\n",
    "        print(f\"Dataset group create succeeded for {dataset_group}\")\n",
    "        break\n",
    "    elif status == \"CREATE FAILED\":\n",
    "        print(f\"Create failed for {dataset_group}\")\n",
    "        break\n",
    "                \n",
    "    time.sleep(10)"
   ]
  },
  {
   "cell_type": "markdown",
   "id": "8f3abfde-af5a-4243-a0cf-c0da65037a80",
   "metadata": {},
   "source": [
    "### インタラクションデータセットのスキーマとデータセットを作成する"
   ]
  },
  {
   "cell_type": "code",
   "execution_count": 7,
   "id": "affb63ce-ec90-4682-8dcc-6ba732bbce15",
   "metadata": {},
   "outputs": [],
   "source": [
    "interactions_schema = schema = {\n",
    "    \"type\": \"record\",\n",
    "    \"name\": \"Interactions\",\n",
    "    \"namespace\": \"com.amazonaws.personalize.schema\",\n",
    "    \"fields\": [\n",
    "        {\n",
    "            \"name\": \"USER_ID\",\n",
    "            \"type\": \"string\"\n",
    "        },\n",
    "        {\n",
    "            \"name\": \"ITEM_ID\",\n",
    "            \"type\": \"string\"\n",
    "        },\n",
    "        {\n",
    "            \"name\": \"TIMESTAMP\",\n",
    "            \"type\": \"long\"\n",
    "        },\n",
    "        {\n",
    "            \"name\": \"EVENT_TYPE\",\n",
    "            \"type\": \"string\"\n",
    "        }\n",
    "    ],\n",
    "    \"version\": \"1.0\"\n",
    "}"
   ]
  },
  {
   "cell_type": "markdown",
   "id": "bfb29391-775d-4702-b377-95cd47a2160e",
   "metadata": {},
   "source": [
    "### すでに Schema を作っていたら下記を実行して削除する"
   ]
  },
  {
   "cell_type": "code",
   "execution_count": 10,
   "id": "de940beb-76ac-423c-a650-d1c597d0e37f",
   "metadata": {},
   "outputs": [
    {
     "data": {
      "text/plain": [
       "{'ResponseMetadata': {'RequestId': 'cf1560ca-033b-42c9-98ac-3b42d4ed7da6',\n",
       "  'HTTPStatusCode': 200,\n",
       "  'HTTPHeaders': {'date': 'Sat, 31 May 2025 14:38:25 GMT',\n",
       "   'content-type': 'application/x-amz-json-1.1',\n",
       "   'content-length': '0',\n",
       "   'connection': 'keep-alive',\n",
       "   'x-amzn-requestid': 'cf1560ca-033b-42c9-98ac-3b42d4ed7da6',\n",
       "   'strict-transport-security': 'max-age=47304000; includeSubDomains',\n",
       "   'x-frame-options': 'DENY',\n",
       "   'cache-control': 'no-cache',\n",
       "   'x-content-type-options': 'nosniff'},\n",
       "  'RetryAttempts': 0}}"
      ]
     },
     "execution_count": 10,
     "metadata": {},
     "output_type": "execute_result"
    }
   ],
   "source": [
    "### schemaArn の名称は、エラーメッセージからわかる\n",
    "# personalize.delete_schema(\n",
    "#     schemaArn=\"arn:aws:personalize:ap-northeast-1:627614495110:schema/suggest-word-1\"\n",
    "# )"
   ]
  },
  {
   "cell_type": "code",
   "execution_count": 11,
   "id": "5956bdca-5f46-43f3-92d8-5ac4d131f7c0",
   "metadata": {},
   "outputs": [],
   "source": [
    "create_schema_response = personalize.create_schema(\n",
    "    name = \"suggest-word-1\",\n",
    "    schema = json.dumps(interactions_schema)\n",
    ")"
   ]
  },
  {
   "cell_type": "code",
   "execution_count": 12,
   "id": "6e228713-6101-4270-886d-3f9d3b4d3bc5",
   "metadata": {},
   "outputs": [
    {
     "name": "stdout",
     "output_type": "stream",
     "text": [
      "{\n",
      "  \"schemaArn\": \"arn:aws:personalize:ap-northeast-1:627614495110:schema/suggest-word-1\",\n",
      "  \"ResponseMetadata\": {\n",
      "    \"RequestId\": \"fae11a24-49b7-4991-8792-34def3d7ef0d\",\n",
      "    \"HTTPStatusCode\": 200,\n",
      "    \"HTTPHeaders\": {\n",
      "      \"date\": \"Sat, 31 May 2025 14:38:35 GMT\",\n",
      "      \"content-type\": \"application/x-amz-json-1.1\",\n",
      "      \"content-length\": \"85\",\n",
      "      \"connection\": \"keep-alive\",\n",
      "      \"x-amzn-requestid\": \"fae11a24-49b7-4991-8792-34def3d7ef0d\",\n",
      "      \"strict-transport-security\": \"max-age=47304000; includeSubDomains\",\n",
      "      \"x-frame-options\": \"DENY\",\n",
      "      \"cache-control\": \"no-cache\",\n",
      "      \"x-content-type-options\": \"nosniff\"\n",
      "    },\n",
      "    \"RetryAttempts\": 0\n",
      "  }\n",
      "}\n"
     ]
    }
   ],
   "source": [
    "# スキーマの中身を確認\n",
    "interaction_schema_arn = create_schema_response['schemaArn']\n",
    "print(json.dumps(create_schema_response, indent=2))"
   ]
  },
  {
   "cell_type": "markdown",
   "id": "081cd5d6-0d67-4a8b-9b44-13546397a49e",
   "metadata": {},
   "source": [
    "### 先ほど作成したスキーマを指定して、データセットグループにInteractionsデータセットを作成する"
   ]
  },
  {
   "cell_type": "code",
   "execution_count": 13,
   "id": "7cb1b7ae-1e51-45f6-b307-74ccee952f8e",
   "metadata": {},
   "outputs": [
    {
     "name": "stdout",
     "output_type": "stream",
     "text": [
      "{\n",
      "  \"datasetArn\": \"arn:aws:personalize:ap-northeast-1:627614495110:dataset/word_suggest_recommendation/INTERACTIONS\",\n",
      "  \"ResponseMetadata\": {\n",
      "    \"RequestId\": \"0a2679e1-835b-499c-b918-574098d2847a\",\n",
      "    \"HTTPStatusCode\": 200,\n",
      "    \"HTTPHeaders\": {\n",
      "      \"date\": \"Sat, 31 May 2025 14:38:35 GMT\",\n",
      "      \"content-type\": \"application/x-amz-json-1.1\",\n",
      "      \"content-length\": \"113\",\n",
      "      \"connection\": \"keep-alive\",\n",
      "      \"x-amzn-requestid\": \"0a2679e1-835b-499c-b918-574098d2847a\",\n",
      "      \"strict-transport-security\": \"max-age=47304000; includeSubDomains\",\n",
      "      \"x-frame-options\": \"DENY\",\n",
      "      \"cache-control\": \"no-cache\",\n",
      "      \"x-content-type-options\": \"nosniff\"\n",
      "    },\n",
      "    \"RetryAttempts\": 0\n",
      "  }\n",
      "}\n"
     ]
    }
   ],
   "source": [
    "dataset_type = \"INTERACTIONS\"\n",
    "create_dataset_response = personalize.create_dataset(\n",
    "    name = \"amazon-pantry-ints\",\n",
    "    datasetType = dataset_type,\n",
    "    datasetGroupArn = dataset_group,\n",
    "    schemaArn = interaction_schema_arn\n",
    ")\n",
    "\n",
    "interactions_dataset = create_dataset_response['datasetArn']\n",
    "print(json.dumps(create_dataset_response, indent=2))"
   ]
  },
  {
   "cell_type": "markdown",
   "id": "5d861fc0-4a7c-4a95-bec9-869b5e9c11d1",
   "metadata": {},
   "source": [
    "### S3でインタラクションCSVをステージングする\n",
    "### 先ほど作成したInteractions CSVを先ほど作成したPersonalizeデータセットにアップロードする前に、S3バケットにCSVをステージングする必要がある\n",
    "### S3バケットを作成し、Interactions CSVファイルをバケットにコピーしよう。"
   ]
  },
  {
   "cell_type": "code",
   "execution_count": 14,
   "id": "274673f9-c8c4-47e0-8083-2dba4359cbde",
   "metadata": {},
   "outputs": [
    {
     "name": "stdout",
     "output_type": "stream",
     "text": [
      "amazon-pantry-personalize-example-627614495110\n"
     ]
    }
   ],
   "source": [
    "s3 = boto3.client(\n",
    "    's3',\n",
    "    aws_access_key_id=AWS_ACCESS_KEY_ID,\n",
    "    aws_secret_access_key=AWS_SECRET_ACCESS_KEY,\n",
    "    region_name=REGION_NAME,    \n",
    ")\n",
    "\n",
    "ACCOUNT_ID = boto3.client(\n",
    "    'sts',\n",
    "    aws_access_key_id=AWS_ACCESS_KEY_ID,\n",
    "    aws_secret_access_key=AWS_SECRET_ACCESS_KEY,\n",
    "    region_name=REGION_NAME,\n",
    ").get_caller_identity().get('Account')\n",
    "\n",
    "BUCKET_NAME = f\"amazon-pantry-personalize-example-{ACCOUNT_ID}\"\n",
    "\n",
    "print(BUCKET_NAME)\n",
    "\n",
    "if REGION_NAME == \"us-east-1\":\n",
    "    s3.create_bucket(Bucket=BUCKET_NAME)\n",
    "else:\n",
    "    s3.create_bucket(\n",
    "        Bucket=BUCKET_NAME,\n",
    "        CreateBucketConfiguration={'LocationConstraint': REGION_NAME}\n",
    "    )"
   ]
  },
  {
   "cell_type": "markdown",
   "id": "c96b5e33-f762-478a-b1cb-dcb791b47ff7",
   "metadata": {},
   "source": [
    "### S3 へのアップロード"
   ]
  },
  {
   "cell_type": "code",
   "execution_count": 15,
   "id": "4b8b1354-8094-4cdb-a572-c5249dd48a0b",
   "metadata": {},
   "outputs": [],
   "source": [
    "boto3.Session().resource(\n",
    "    's3',\n",
    "    aws_access_key_id=AWS_ACCESS_KEY_ID,\n",
    "    aws_secret_access_key=AWS_SECRET_ACCESS_KEY,\n",
    "    region_name=REGION_NAME,\n",
    ").Bucket(BUCKET_NAME).Object(\n",
    "    INTERACTIONS_FILENAME).upload_file(\n",
    "    INTERACTIONS_FILENAME)"
   ]
  },
  {
   "cell_type": "markdown",
   "id": "82a7d21c-185e-44e5-9cd6-517e1827c69e",
   "metadata": {},
   "source": [
    "### S3バケットポリシーとIAMロールの作成\n",
    "### データセットのインポートジョブをPersonalizeに送信する前に、Personalizeにバケットへのアクセス権を与えるバケットポリシーとIAMロールを作成する必要があります。"
   ]
  },
  {
   "cell_type": "code",
   "execution_count": 16,
   "id": "778d17a5-4ec0-4313-a1fc-ba734c16e29c",
   "metadata": {},
   "outputs": [
    {
     "data": {
      "text/plain": [
       "{'ResponseMetadata': {'RequestId': 'VAJH113FJ5TCRGSX',\n",
       "  'HostId': 'dPM6zBhC6KN5tsR0o6n2jKz19b7Q4o8UoWpg5KmGCz6CdIMKbOW3D9TYf3U+lIZNzRNDVZQ19DPn8tu7OWhXs05isw8tY8AGtlL3ElyzpNE=',\n",
       "  'HTTPStatusCode': 204,\n",
       "  'HTTPHeaders': {'x-amz-id-2': 'dPM6zBhC6KN5tsR0o6n2jKz19b7Q4o8UoWpg5KmGCz6CdIMKbOW3D9TYf3U+lIZNzRNDVZQ19DPn8tu7OWhXs05isw8tY8AGtlL3ElyzpNE=',\n",
       "   'x-amz-request-id': 'VAJH113FJ5TCRGSX',\n",
       "   'date': 'Sat, 31 May 2025 14:39:01 GMT',\n",
       "   'server': 'AmazonS3'},\n",
       "  'RetryAttempts': 0}}"
      ]
     },
     "execution_count": 16,
     "metadata": {},
     "output_type": "execute_result"
    }
   ],
   "source": [
    "policy = {\n",
    "    \"Version\": \"2012-10-17\",\n",
    "    \"Id\": \"PersonalizeS3BucketAccessPolicy\",\n",
    "    \"Statement\": [\n",
    "        {\n",
    "            \"Sid\": \"PersonalizeS3BucketAccessPolicy\",\n",
    "            \"Effect\": \"Allow\",\n",
    "            \"Principal\": {\n",
    "                \"Service\": \"personalize.amazonaws.com\"\n",
    "            },\n",
    "            \"Action\": [\n",
    "                \"s3:*Object\",\n",
    "                \"s3:ListBucket\"\n",
    "            ],\n",
    "            \"Resource\": [\n",
    "                f\"arn:aws:s3:::{BUCKET_NAME}\",\n",
    "                f\"arn:aws:s3:::{BUCKET_NAME}/*\",\n",
    "            ]\n",
    "        }\n",
    "    ]\n",
    "}\n",
    "\n",
    "s3.put_bucket_policy(Bucket=BUCKET_NAME, Policy=json.dumps(policy))"
   ]
  },
  {
   "cell_type": "code",
   "execution_count": 17,
   "id": "3361c9ee-af79-4c9a-81fc-c615d6a9670b",
   "metadata": {},
   "outputs": [],
   "source": [
    "iam = boto3.client(\n",
    "    \"iam\",\n",
    "    aws_access_key_id=AWS_ACCESS_KEY_ID,\n",
    "    aws_secret_access_key=AWS_SECRET_ACCESS_KEY,\n",
    "    region_name=REGION_NAME,\n",
    ")\n",
    "\n",
    "assume_role_policy_document = {\n",
    "    \"Version\": \"2012-10-17\",\n",
    "    \"Statement\": [\n",
    "        {\n",
    "          \"Effect\": \"Allow\",\n",
    "          \"Principal\": {\n",
    "            \"Service\": \"personalize.amazonaws.com\"\n",
    "          },\n",
    "          \"Action\": \"sts:AssumeRole\"\n",
    "        }\n",
    "    ]\n",
    "}\n",
    "\n",
    "try:\n",
    "    create_role_response = iam.create_role(\n",
    "        RoleName = ROLE_NAME,\n",
    "        AssumeRolePolicyDocument = json.dumps(assume_role_policy_document)\n",
    "    )\n",
    "except:\n",
    "    create_role_response = iam.get_role(RoleName=ROLE_NAME)"
   ]
  },
  {
   "cell_type": "code",
   "execution_count": 18,
   "id": "69e2bf6b-8830-436c-ba20-c154580022ce",
   "metadata": {},
   "outputs": [
    {
     "name": "stdout",
     "output_type": "stream",
     "text": [
      "arn:aws:iam::627614495110:role/PersonalizeRoleAmazonPantryAwsSimilarItems\n"
     ]
    }
   ],
   "source": [
    "role_arn = create_role_response[\"Role\"][\"Arn\"]\n",
    "print(role_arn)"
   ]
  },
  {
   "cell_type": "markdown",
   "id": "39344ad6-5074-4d41-9e9d-b491b5018e82",
   "metadata": {},
   "source": [
    "### インタラクションデータセットのインポート\n",
    "### S3バケットにあるステージングされたInteractions CSVを、作成したPersonalizeデータセットにインポートする準備を行う"
   ]
  },
  {
   "cell_type": "code",
   "execution_count": 19,
   "id": "1aebddbb-5c07-49a5-b22d-9b6884d6f240",
   "metadata": {},
   "outputs": [
    {
     "name": "stdout",
     "output_type": "stream",
     "text": [
      "{\n",
      "  \"datasetImportJobArn\": \"arn:aws:personalize:ap-northeast-1:627614495110:dataset-import-job/amazon-pantry-interactions-import\",\n",
      "  \"ResponseMetadata\": {\n",
      "    \"RequestId\": \"95b70067-2bb2-4d34-b4d7-2cad6f73c21b\",\n",
      "    \"HTTPStatusCode\": 200,\n",
      "    \"HTTPHeaders\": {\n",
      "      \"date\": \"Sat, 31 May 2025 14:39:02 GMT\",\n",
      "      \"content-type\": \"application/x-amz-json-1.1\",\n",
      "      \"content-length\": \"126\",\n",
      "      \"connection\": \"keep-alive\",\n",
      "      \"x-amzn-requestid\": \"95b70067-2bb2-4d34-b4d7-2cad6f73c21b\",\n",
      "      \"strict-transport-security\": \"max-age=47304000; includeSubDomains\",\n",
      "      \"x-frame-options\": \"DENY\",\n",
      "      \"cache-control\": \"no-cache\",\n",
      "      \"x-content-type-options\": \"nosniff\"\n",
      "    },\n",
      "    \"RetryAttempts\": 0\n",
      "  }\n",
      "}\n"
     ]
    }
   ],
   "source": [
    "create_dataset_import_job_response = personalize.create_dataset_import_job(\n",
    "    jobName = \"amazon-pantry-interactions-import\",\n",
    "    datasetArn = interactions_dataset,\n",
    "    dataSource = {\n",
    "        \"dataLocation\": f\"s3://{BUCKET_NAME}/{INTERACTIONS_FILENAME}\"\n",
    "    },\n",
    "    roleArn = role_arn\n",
    ")\n",
    "\n",
    "dataset_import_job = create_dataset_import_job_response['datasetImportJobArn']\n",
    "print(json.dumps(create_dataset_import_job_response, indent=2))"
   ]
  },
  {
   "cell_type": "markdown",
   "id": "5c95bd8c-17cc-46c6-bf63-762147ae356e",
   "metadata": {},
   "source": [
    "### 相互作用データセットのインポートジョブの完了を待つ\n",
    "### 次のセルは、両方のインポート・ジョブが完了するまで待機します。"
   ]
  },
  {
   "cell_type": "code",
   "execution_count": 20,
   "id": "b65e4caf-6d61-48e9-81b4-a00e9a5be462",
   "metadata": {},
   "outputs": [
    {
     "name": "stdout",
     "output_type": "stream",
     "text": [
      "Dataset import succeeded for arn:aws:personalize:ap-northeast-1:627614495110:dataset-import-job/amazon-pantry-interactions-import\n",
      "CPU times: user 171 ms, sys: 17.5 ms, total: 188 ms\n",
      "Wall time: 4min\n"
     ]
    }
   ],
   "source": [
    "%%time\n",
    "\n",
    "in_progress_import_arns = [ dataset_import_job ]\n",
    "\n",
    "max_time = time.time() + 3*60*60 # 3 hours\n",
    "while time.time() < max_time:\n",
    "    describe_dataset_import_job_response = personalize.describe_dataset_import_job(\n",
    "        datasetImportJobArn = dataset_import_job\n",
    "    )\n",
    "    status = describe_dataset_import_job_response[\"datasetImportJob\"]['status']\n",
    "    if status == \"ACTIVE\":\n",
    "        print(f\"Dataset import succeeded for {dataset_import_job}\")\n",
    "        break\n",
    "    elif status == \"CREATE FAILED\":\n",
    "        print(f\"Create failed for {dataset_import_job}\")\n",
    "        break\n",
    "                \n",
    "    time.sleep(60)"
   ]
  },
  {
   "cell_type": "markdown",
   "id": "4420a3e1-04dc-48df-8956-2d44e98c3ff9",
   "metadata": {},
   "source": [
    "### ソリューションとソリューションバージョンの作成\n",
    "### 各データセットグループのデータのユーザパーソナライズのレシピを使って、ソリューションとソリューションのバージョンを作成します。\n",
    "### まず、利用可能なパーソナライズレシピを列挙します。"
   ]
  },
  {
   "cell_type": "code",
   "execution_count": 21,
   "id": "1e35b307-04bf-460e-9aa4-358335684ab2",
   "metadata": {},
   "outputs": [
    {
     "data": {
      "text/plain": [
       "{'recipes': [{'name': 'aws-ecomm-customers-who-viewed-x-also-viewed',\n",
       "   'recipeArn': 'arn:aws:personalize:::recipe/aws-ecomm-customers-who-viewed-x-also-viewed',\n",
       "   'status': 'ACTIVE',\n",
       "   'creationDateTime': datetime.datetime(2019, 6, 10, 0, 0, tzinfo=tzlocal()),\n",
       "   'lastUpdatedDateTime': datetime.datetime(2024, 6, 21, 21, 49, 44, 731000, tzinfo=tzlocal()),\n",
       "   'domain': 'ECOMMERCE'},\n",
       "  {'name': 'aws-ecomm-frequently-bought-together',\n",
       "   'recipeArn': 'arn:aws:personalize:::recipe/aws-ecomm-frequently-bought-together',\n",
       "   'status': 'ACTIVE',\n",
       "   'creationDateTime': datetime.datetime(2019, 6, 10, 0, 0, tzinfo=tzlocal()),\n",
       "   'lastUpdatedDateTime': datetime.datetime(2024, 6, 21, 21, 49, 44, 731000, tzinfo=tzlocal()),\n",
       "   'domain': 'ECOMMERCE'},\n",
       "  {'name': 'aws-ecomm-popular-items-by-purchases',\n",
       "   'recipeArn': 'arn:aws:personalize:::recipe/aws-ecomm-popular-items-by-purchases',\n",
       "   'status': 'ACTIVE',\n",
       "   'creationDateTime': datetime.datetime(2019, 6, 10, 0, 0, tzinfo=tzlocal()),\n",
       "   'lastUpdatedDateTime': datetime.datetime(2024, 6, 21, 21, 49, 44, 731000, tzinfo=tzlocal()),\n",
       "   'domain': 'ECOMMERCE'},\n",
       "  {'name': 'aws-ecomm-popular-items-by-views',\n",
       "   'recipeArn': 'arn:aws:personalize:::recipe/aws-ecomm-popular-items-by-views',\n",
       "   'status': 'ACTIVE',\n",
       "   'creationDateTime': datetime.datetime(2019, 6, 10, 0, 0, tzinfo=tzlocal()),\n",
       "   'lastUpdatedDateTime': datetime.datetime(2024, 6, 21, 21, 49, 44, 731000, tzinfo=tzlocal()),\n",
       "   'domain': 'ECOMMERCE'},\n",
       "  {'name': 'aws-ecomm-recommended-for-you',\n",
       "   'recipeArn': 'arn:aws:personalize:::recipe/aws-ecomm-recommended-for-you',\n",
       "   'status': 'ACTIVE',\n",
       "   'creationDateTime': datetime.datetime(2019, 6, 10, 0, 0, tzinfo=tzlocal()),\n",
       "   'lastUpdatedDateTime': datetime.datetime(2024, 6, 21, 21, 49, 44, 731000, tzinfo=tzlocal()),\n",
       "   'domain': 'ECOMMERCE'},\n",
       "  {'name': 'aws-item-affinity',\n",
       "   'recipeArn': 'arn:aws:personalize:::recipe/aws-item-affinity',\n",
       "   'status': 'ACTIVE',\n",
       "   'creationDateTime': datetime.datetime(2021, 7, 15, 0, 0, tzinfo=tzlocal()),\n",
       "   'lastUpdatedDateTime': datetime.datetime(2024, 6, 21, 21, 49, 44, 731000, tzinfo=tzlocal())},\n",
       "  {'name': 'aws-item-attribute-affinity',\n",
       "   'recipeArn': 'arn:aws:personalize:::recipe/aws-item-attribute-affinity',\n",
       "   'status': 'ACTIVE',\n",
       "   'creationDateTime': datetime.datetime(2021, 8, 25, 0, 0, tzinfo=tzlocal()),\n",
       "   'lastUpdatedDateTime': datetime.datetime(2024, 6, 21, 21, 49, 44, 731000, tzinfo=tzlocal())},\n",
       "  {'name': 'aws-next-best-action',\n",
       "   'recipeArn': 'arn:aws:personalize:::recipe/aws-next-best-action',\n",
       "   'status': 'ACTIVE',\n",
       "   'creationDateTime': datetime.datetime(2023, 8, 11, 0, 0, tzinfo=tzlocal()),\n",
       "   'lastUpdatedDateTime': datetime.datetime(2024, 6, 21, 21, 49, 44, 731000, tzinfo=tzlocal())},\n",
       "  {'name': 'aws-personalized-ranking',\n",
       "   'recipeArn': 'arn:aws:personalize:::recipe/aws-personalized-ranking',\n",
       "   'status': 'ACTIVE',\n",
       "   'creationDateTime': datetime.datetime(2019, 6, 10, 0, 0, tzinfo=tzlocal()),\n",
       "   'lastUpdatedDateTime': datetime.datetime(2024, 6, 21, 21, 49, 44, 731000, tzinfo=tzlocal())},\n",
       "  {'name': 'aws-personalized-ranking-v2',\n",
       "   'recipeArn': 'arn:aws:personalize:::recipe/aws-personalized-ranking-v2',\n",
       "   'status': 'ACTIVE',\n",
       "   'creationDateTime': datetime.datetime(2024, 1, 1, 0, 0, tzinfo=tzlocal()),\n",
       "   'lastUpdatedDateTime': datetime.datetime(2024, 6, 21, 21, 49, 44, 731000, tzinfo=tzlocal())},\n",
       "  {'name': 'aws-popularity-count',\n",
       "   'recipeArn': 'arn:aws:personalize:::recipe/aws-popularity-count',\n",
       "   'status': 'ACTIVE',\n",
       "   'creationDateTime': datetime.datetime(2019, 6, 10, 0, 0, tzinfo=tzlocal()),\n",
       "   'lastUpdatedDateTime': datetime.datetime(2024, 6, 21, 21, 49, 44, 731000, tzinfo=tzlocal())},\n",
       "  {'name': 'aws-similar-items',\n",
       "   'recipeArn': 'arn:aws:personalize:::recipe/aws-similar-items',\n",
       "   'status': 'ACTIVE',\n",
       "   'creationDateTime': datetime.datetime(2019, 6, 10, 0, 0, tzinfo=tzlocal()),\n",
       "   'lastUpdatedDateTime': datetime.datetime(2024, 6, 21, 21, 49, 44, 731000, tzinfo=tzlocal())}],\n",
       " 'nextToken': 'AYADeJBnwONZWoyMjKwxHnNZGUUAXwABABVhd3MtY3J5cHRvLXB1YmxpYy1rZXkAREEwMTNUUGxpS1BIcWZ0cUVwbzQ5ZmQ2VjVpcFF1VVZtc1ZuUDFtRVFoVXVoSFk0aDArUmxZMmh3UXdYN0ZNZ3VjUT09AAEAB2F3cy1rbXMAUGFybjphd3M6a21zOmFwLW5vcnRoZWFzdC0xOjUwODA2Mjk0MzkyOTprZXkvYzAwN2RiMjktZDljOC00OWNmLWJlOWEtZTA5YWZhY2JhZTE4ALgBAgEAeN3SjjeyQQpVULXtIcrjqy2DnZ/zcF+aACEoJHtuI4NkARmmXaMl0AZ65d+WQk3A9IcAAAB+MHwGCSqGSIb3DQEHBqBvMG0CAQAwaAYJKoZIhvcNAQcBMB4GCWCGSAFlAwQBLjARBAxp+aQxki5rarfuJ3ICARCAO/tefnvv0pGBkpUHwA9sQBv0D4A0vhpnLa7lbaZp8kF0yf+mzKR+/rb/8dw6hjAqu7aBnlCES7gGX9w+AgAAAAAMAAAQAAAAAAAAAAAAAAAAABNQgjDK9oktH573pR3cOCH/////AAAAAQAAAAAAAAAAAAAAAQAAAHdU72zGt4y4g9QOKOa85UMlDSDPsXSLfPvfeVz1UZIh4kKTDxG8TUzolZtBhF/2x//tt9TugzV6z9L1rv6+kCq1cJhixR40X/SNNzXS8p1neqH6bNohY4UD7L50gnNc+3d75Kwx+7yKkJX99jPSqluBglnG86nvzMlifNxHVXswJBszxTsGJw4AZzBlAjEA9KR6kop3iLHYoNspnKJn52o6gF6iYIh+yWxzM5UjSQbD6iZRMZ4zadbE6QrrybzwAjBwO9ntxRdzsGfdis0WBAZUZrVIBuXvajau4G5GLWu1vumjNH6B6n/cPVdLGHksa+E=',\n",
       " 'ResponseMetadata': {'RequestId': 'f16bc361-3263-4cae-b960-aec9aa72ae3d',\n",
       "  'HTTPStatusCode': 200,\n",
       "  'HTTPHeaders': {'date': 'Sat, 31 May 2025 14:43:03 GMT',\n",
       "   'content-type': 'application/x-amz-json-1.1',\n",
       "   'content-length': '3450',\n",
       "   'connection': 'keep-alive',\n",
       "   'x-amzn-requestid': 'f16bc361-3263-4cae-b960-aec9aa72ae3d',\n",
       "   'strict-transport-security': 'max-age=47304000; includeSubDomains',\n",
       "   'x-frame-options': 'DENY',\n",
       "   'cache-control': 'no-cache',\n",
       "   'x-content-type-options': 'nosniff'},\n",
       "  'RetryAttempts': 0}}"
      ]
     },
     "execution_count": 21,
     "metadata": {},
     "output_type": "execute_result"
    }
   ],
   "source": [
    "personalize.list_recipes()"
   ]
  },
  {
   "cell_type": "markdown",
   "id": "e3d59b78-15a9-41d7-bc45-264afaa89aa4",
   "metadata": {},
   "source": [
    "### レシピの選択"
   ]
  },
  {
   "cell_type": "markdown",
   "id": "553d7151-fa86-4ee4-9fe3-0317c6e507db",
   "metadata": {},
   "source": [
    "### まず、各レシピのソリューションとソリューション・バージョンを作成する。"
   ]
  },
  {
   "cell_type": "code",
   "execution_count": 22,
   "id": "ce4b3fd6-5e73-4e68-bfb7-fc9c7cabdf89",
   "metadata": {},
   "outputs": [],
   "source": [
    "sims_create_solution_response = personalize.create_solution(\n",
    "    name = \"amazon-pantry-sims-solution-example\",\n",
    "    datasetGroupArn = dataset_group,\n",
    "    recipeArn = SIMS_RECIPE_ARN\n",
    ")\n",
    "\n",
    "sims_solution_arn = sims_create_solution_response['solutionArn']"
   ]
  },
  {
   "cell_type": "code",
   "execution_count": 23,
   "id": "141ac2e3-72cd-4ad9-9d68-f70996e3d465",
   "metadata": {},
   "outputs": [],
   "source": [
    "sims_solution_version_response = personalize.create_solution_version(\n",
    "    solutionArn = sims_solution_arn\n",
    ")"
   ]
  },
  {
   "cell_type": "code",
   "execution_count": 24,
   "id": "4be3a575-a688-4490-8232-50225c760d11",
   "metadata": {},
   "outputs": [
    {
     "name": "stdout",
     "output_type": "stream",
     "text": [
      "{\n",
      "  \"solutionVersionArn\": \"arn:aws:personalize:ap-northeast-1:627614495110:solution/amazon-pantry-sims-solution-example/c78a5d38\",\n",
      "  \"ResponseMetadata\": {\n",
      "    \"RequestId\": \"e0f6b7a2-b28f-4c73-a21d-22e3502fbda1\",\n",
      "    \"HTTPStatusCode\": 200,\n",
      "    \"HTTPHeaders\": {\n",
      "      \"date\": \"Sat, 31 May 2025 14:43:03 GMT\",\n",
      "      \"content-type\": \"application/x-amz-json-1.1\",\n",
      "      \"content-length\": \"126\",\n",
      "      \"connection\": \"keep-alive\",\n",
      "      \"x-amzn-requestid\": \"e0f6b7a2-b28f-4c73-a21d-22e3502fbda1\",\n",
      "      \"strict-transport-security\": \"max-age=47304000; includeSubDomains\",\n",
      "      \"x-frame-options\": \"DENY\",\n",
      "      \"cache-control\": \"no-cache\",\n",
      "      \"x-content-type-options\": \"nosniff\"\n",
      "    },\n",
      "    \"RetryAttempts\": 0\n",
      "  }\n",
      "}\n"
     ]
    }
   ],
   "source": [
    "sims_solution_version_arn = sims_solution_version_response['solutionVersionArn']\n",
    "print(json.dumps(sims_solution_version_response, indent=2))"
   ]
  },
  {
   "cell_type": "markdown",
   "id": "ed28c8fd-7490-4765-bc4e-867b11a7d710",
   "metadata": {},
   "source": [
    "### ソリューション・バージョンがアクティブになるのを待つ\n",
    "### 最後に、ソリューションバージョンが作成され終わるのを待ちます。このステップでPersonalizeはデータセットと選択されたレシピに基づいて機械学習モデルをトレーニングします。\n",
    "### また、Personalizeはインタラクションのデータセットをトレーニング部分と評価部分に分割し、トレーニング済みのモデルに対するレコメンデーションの品質を評価できるようにします。\n",
    "### 説明データを含むデータセットグループのソリューションバージョンは、説明データを含まないものよりもトレーニングに時間がかかることがわかります"
   ]
  },
  {
   "cell_type": "code",
   "execution_count": 25,
   "id": "7a0c4bae-7c6c-41e7-90ed-34ccaf6ffc04",
   "metadata": {},
   "outputs": [
    {
     "name": "stdout",
     "output_type": "stream",
     "text": [
      "Build succeeded for arn:aws:personalize:ap-northeast-1:627614495110:solution/amazon-pantry-sims-solution-example/c78a5d38\n",
      "CPU times: user 574 ms, sys: 56.7 ms, total: 631 ms\n",
      "Wall time: 14min 6s\n"
     ]
    }
   ],
   "source": [
    "%%time\n",
    "\n",
    "max_time = time.time() + 10*60*60 # 10 hours\n",
    "while time.time() < max_time:\n",
    "    version_response = personalize.describe_solution_version(\n",
    "        solutionVersionArn = sims_solution_version_arn\n",
    "    )\n",
    "    status = version_response[\"solutionVersion\"][\"status\"]\n",
    "    \n",
    "    if status == \"ACTIVE\":\n",
    "        print(f\"Build succeeded for {sims_solution_version_arn}\")\n",
    "        break\n",
    "    elif status == \"CREATE FAILED\":\n",
    "        print(f\"Build failed for {sims_solution_version_arn}\")\n",
    "        break\n",
    "        \n",
    "    time.sleep(60)"
   ]
  },
  {
   "cell_type": "markdown",
   "id": "044f22fd-f597-4def-a075-c292675d3ca8",
   "metadata": {},
   "source": [
    "### 処理時間"
   ]
  },
  {
   "cell_type": "code",
   "execution_count": 27,
   "id": "6b4bccbe-be0e-427a-9293-fe3efd054ed3",
   "metadata": {},
   "outputs": [
    {
     "name": "stdout",
     "output_type": "stream",
     "text": [
      "0.935\n"
     ]
    }
   ],
   "source": [
    "response = personalize.describe_solution_version(solutionVersionArn = sims_solution_version_arn)\n",
    "training_hours_sims = response['solutionVersion']['trainingHours']\n",
    "print(training_hours_sims)"
   ]
  },
  {
   "cell_type": "markdown",
   "id": "1639932d-e4a8-40d1-b355-56f1dfb9d005",
   "metadata": {},
   "source": [
    "### キャンペーンの作成"
   ]
  },
  {
   "cell_type": "code",
   "execution_count": 28,
   "id": "032e6e8c-227b-4ddc-9c38-855988385c64",
   "metadata": {},
   "outputs": [],
   "source": [
    "sims_solution = {\n",
    "        \"solution_arn\": sims_solution_arn,\n",
    "        \"solution_version_arn\": sims_solution_version_arn\n",
    "}"
   ]
  },
  {
   "cell_type": "code",
   "execution_count": 29,
   "id": "5f54b959-1339-475e-9bff-08dc28e0aba6",
   "metadata": {},
   "outputs": [
    {
     "name": "stdout",
     "output_type": "stream",
     "text": [
      "campaign_arn:arn:aws:personalize:ap-northeast-1:627614495110:campaign/personalize-demo-sims-example\n"
     ]
    }
   ],
   "source": [
    "create_campaign_response = personalize.create_campaign(\n",
    "    name = f\"personalize-demo-sims-example\",\n",
    "    solutionVersionArn = sims_solution['solution_version_arn'],\n",
    "    minProvisionedTPS = 1\n",
    ")\n",
    "\n",
    "campaign_arn = create_campaign_response['campaignArn']\n",
    "print('campaign_arn:' + campaign_arn)"
   ]
  },
  {
   "cell_type": "code",
   "execution_count": 33,
   "id": "20d299c6-250d-4d1f-852a-7febb015cd22",
   "metadata": {},
   "outputs": [
    {
     "name": "stdout",
     "output_type": "stream",
     "text": [
      "Campaign: arn:aws:personalize:ap-northeast-1:627614495110:solution/amazon-pantry-sims-solution-example CREATE IN_PROGRESS\n",
      "Campaign: arn:aws:personalize:ap-northeast-1:627614495110:solution/amazon-pantry-sims-solution-example CREATE IN_PROGRESS\n",
      "Campaign: arn:aws:personalize:ap-northeast-1:627614495110:solution/amazon-pantry-sims-solution-example CREATE IN_PROGRESS\n",
      "Campaign: arn:aws:personalize:ap-northeast-1:627614495110:solution/amazon-pantry-sims-solution-example CREATE IN_PROGRESS\n",
      "Campaign: arn:aws:personalize:ap-northeast-1:627614495110:solution/amazon-pantry-sims-solution-example CREATE IN_PROGRESS\n",
      "Campaign: arn:aws:personalize:ap-northeast-1:627614495110:solution/amazon-pantry-sims-solution-example CREATE IN_PROGRESS\n",
      "Campaign: arn:aws:personalize:ap-northeast-1:627614495110:solution/amazon-pantry-sims-solution-example CREATE IN_PROGRESS\n",
      "Campaign: arn:aws:personalize:ap-northeast-1:627614495110:solution/amazon-pantry-sims-solution-example CREATE IN_PROGRESS\n",
      "Campaign: arn:aws:personalize:ap-northeast-1:627614495110:solution/amazon-pantry-sims-solution-example CREATE IN_PROGRESS\n",
      "Campaign: arn:aws:personalize:ap-northeast-1:627614495110:solution/amazon-pantry-sims-solution-example CREATE IN_PROGRESS\n",
      "Campaign: arn:aws:personalize:ap-northeast-1:627614495110:solution/amazon-pantry-sims-solution-example CREATE IN_PROGRESS\n",
      "Campaign: arn:aws:personalize:ap-northeast-1:627614495110:solution/amazon-pantry-sims-solution-example CREATE IN_PROGRESS\n",
      "Campaign: arn:aws:personalize:ap-northeast-1:627614495110:solution/amazon-pantry-sims-solution-example CREATE IN_PROGRESS\n",
      "Campaign: arn:aws:personalize:ap-northeast-1:627614495110:solution/amazon-pantry-sims-solution-example ACTIVE\n"
     ]
    }
   ],
   "source": [
    "max_time = time.time() + 3*60*60 # 3 hours\n",
    "while time.time() < max_time:\n",
    "    describe_campaign_response = personalize.describe_campaign(\n",
    "        campaignArn = campaign_arn\n",
    "    )\n",
    "    status = describe_campaign_response[\"campaign\"][\"status\"]\n",
    "    print(f\"Campaign: {campaign_arn} {status}\")\n",
    "\n",
    "    if status == \"ACTIVE\" or status == \"CREATE FAILED\":\n",
    "        break\n",
    "\n",
    "    time.sleep(60)"
   ]
  },
  {
   "cell_type": "markdown",
   "id": "dcd5eb9a-8ebf-4569-bce2-8f3c069313d5",
   "metadata": {},
   "source": [
    "### 推薦実行"
   ]
  },
  {
   "cell_type": "code",
   "execution_count": 63,
   "id": "21472a1f-acf8-4bb0-8778-1f5caad71277",
   "metadata": {},
   "outputs": [],
   "source": [
    "def get_item_brand(item_id):\n",
    "    \"\"\"\n",
    "    Takes in an ID, returns its brand\n",
    "    \"\"\"\n",
    "\n",
    "    return search_log_df.query('ITEM_ID==\"{}\"'.format(item_id))['BRAND'].item()\n",
    "\n",
    "def get_item_price(item_id):\n",
    "    \"\"\"\n",
    "    Takes in an ID, returns its brand\n",
    "    \"\"\"\n",
    "\n",
    "    return search_log_df.query('ITEM_ID==\"{}\"'.format(item_id))['PRICE'].item()\n",
    "\n",
    "def get_item_description(item_id):\n",
    "    \"\"\"\n",
    "    Takes in an ID, returns its brand\n",
    "    \"\"\"\n",
    "\n",
    "    return search_log_df.query('ITEM_ID==\"{}\"'.format(item_id))['DESCRIPTION'].item()\n",
    "def get_item_df(item_id):\n",
    "    \"\"\"\n",
    "    Takes in an ID, returns a title\n",
    "    \"\"\"\n",
    "    temp_df = search_log_df.query('ITEM_ID==\"{}\"'.format(item_id))\n",
    "  \n",
    "    temp_df['INTERACTIONS_COUNT'] = get_item_count(item_id)\n",
    "    return temp_df\n",
    "\n",
    "def get_item_count(item_id):\n",
    "    return search_log_count_df.query('asin==\"{}\"'.format(item_id))['count'].item()\n",
    "\n",
    "def clean_recs_list(rec_list):\n",
    "    \"\"\"推薦結果をDataFrame化する\"\"\"\n",
    "    items = []\n",
    "    for each in rec_list:\n",
    "        items.append([each['itemId'], get_item_brand(each['itemId']), get_item_price(each['itemId']), get_item_description(each['itemId']), get_item_count(each['itemId'])])\n",
    "    return pd.DataFrame (items, columns = ['ITEM_ID', 'BRAND', 'PRICE','DESCRIPTION', 'INTERACTIONS_COUNT'])\n",
    "\n",
    "def get_recs_df(item_id, campaign):\n",
    "    \"\"\"レコメンドの実行\"\"\"\n",
    "    response = personalize_runtime.get_recommendations(\n",
    "        campaignArn=campaign,\n",
    "        itemId=item_id,\n",
    "        numResults=10\n",
    "    )\n",
    "    return clean_recs_list(response['itemList'])"
   ]
  },
  {
   "cell_type": "code",
   "execution_count": 34,
   "id": "07a220f0-cada-4f23-bdc3-8c112f83e2b8",
   "metadata": {},
   "outputs": [
    {
     "data": {
      "text/html": [
       "<div>\n",
       "<style scoped>\n",
       "    .dataframe tbody tr th:only-of-type {\n",
       "        vertical-align: middle;\n",
       "    }\n",
       "\n",
       "    .dataframe tbody tr th {\n",
       "        vertical-align: top;\n",
       "    }\n",
       "\n",
       "    .dataframe thead th {\n",
       "        text-align: right;\n",
       "    }\n",
       "</style>\n",
       "<table border=\"1\" class=\"dataframe\">\n",
       "  <thead>\n",
       "    <tr style=\"text-align: right;\">\n",
       "      <th></th>\n",
       "      <th>USER_ID</th>\n",
       "      <th>ITEM_ID</th>\n",
       "      <th>TIMESTAMP</th>\n",
       "      <th>EVENT_VALUE</th>\n",
       "      <th>EVENT_TYPE</th>\n",
       "    </tr>\n",
       "  </thead>\n",
       "  <tbody>\n",
       "    <tr>\n",
       "      <th>0</th>\n",
       "      <td>A1NKJW0TNRVS7O</td>\n",
       "      <td>B0000DIWNZ</td>\n",
       "      <td>1418515200</td>\n",
       "      <td>5</td>\n",
       "      <td>reviewed</td>\n",
       "    </tr>\n",
       "    <tr>\n",
       "      <th>1</th>\n",
       "      <td>A2L6X37E8TFTCC</td>\n",
       "      <td>B0000DIWNZ</td>\n",
       "      <td>1416441600</td>\n",
       "      <td>4</td>\n",
       "      <td>reviewed</td>\n",
       "    </tr>\n",
       "    <tr>\n",
       "      <th>2</th>\n",
       "      <td>A2WPR4W6V48121</td>\n",
       "      <td>B0000DIWNZ</td>\n",
       "      <td>1412985600</td>\n",
       "      <td>4</td>\n",
       "      <td>reviewed</td>\n",
       "    </tr>\n",
       "    <tr>\n",
       "      <th>3</th>\n",
       "      <td>A1OWT4YZGB5GV9</td>\n",
       "      <td>B0000DIWNZ</td>\n",
       "      <td>1407628800</td>\n",
       "      <td>4</td>\n",
       "      <td>reviewed</td>\n",
       "    </tr>\n",
       "    <tr>\n",
       "      <th>4</th>\n",
       "      <td>A1GN2ADKF1IE7K</td>\n",
       "      <td>B0000DIWNZ</td>\n",
       "      <td>1405296000</td>\n",
       "      <td>5</td>\n",
       "      <td>reviewed</td>\n",
       "    </tr>\n",
       "  </tbody>\n",
       "</table>\n",
       "</div>"
      ],
      "text/plain": [
       "          USER_ID     ITEM_ID   TIMESTAMP  EVENT_VALUE EVENT_TYPE\n",
       "0  A1NKJW0TNRVS7O  B0000DIWNZ  1418515200            5   reviewed\n",
       "1  A2L6X37E8TFTCC  B0000DIWNZ  1416441600            4   reviewed\n",
       "2  A2WPR4W6V48121  B0000DIWNZ  1412985600            4   reviewed\n",
       "3  A1OWT4YZGB5GV9  B0000DIWNZ  1407628800            4   reviewed\n",
       "4  A1GN2ADKF1IE7K  B0000DIWNZ  1405296000            5   reviewed"
      ]
     },
     "execution_count": 34,
     "metadata": {},
     "output_type": "execute_result"
    }
   ],
   "source": [
    "search_log_df.head()"
   ]
  },
  {
   "cell_type": "code",
   "execution_count": 35,
   "id": "42f7c257-d799-4f1c-9c5e-3e14c1114297",
   "metadata": {},
   "outputs": [
    {
     "data": {
      "text/html": [
       "<div>\n",
       "<style scoped>\n",
       "    .dataframe tbody tr th:only-of-type {\n",
       "        vertical-align: middle;\n",
       "    }\n",
       "\n",
       "    .dataframe tbody tr th {\n",
       "        vertical-align: top;\n",
       "    }\n",
       "\n",
       "    .dataframe thead th {\n",
       "        text-align: right;\n",
       "    }\n",
       "</style>\n",
       "<table border=\"1\" class=\"dataframe\">\n",
       "  <thead>\n",
       "    <tr style=\"text-align: right;\">\n",
       "      <th></th>\n",
       "      <th>ITEM_ID</th>\n",
       "      <th>COUNT</th>\n",
       "    </tr>\n",
       "  </thead>\n",
       "  <tbody>\n",
       "    <tr>\n",
       "      <th>0</th>\n",
       "      <td>B00XA9DADC</td>\n",
       "      <td>5288</td>\n",
       "    </tr>\n",
       "    <tr>\n",
       "      <th>1</th>\n",
       "      <td>B00I3MVY9I</td>\n",
       "      <td>5086</td>\n",
       "    </tr>\n",
       "    <tr>\n",
       "      <th>2</th>\n",
       "      <td>B00W6T13OU</td>\n",
       "      <td>4023</td>\n",
       "    </tr>\n",
       "    <tr>\n",
       "      <th>3</th>\n",
       "      <td>B0014CZUZ8</td>\n",
       "      <td>3225</td>\n",
       "    </tr>\n",
       "    <tr>\n",
       "      <th>4</th>\n",
       "      <td>B0014CSIG6</td>\n",
       "      <td>2600</td>\n",
       "    </tr>\n",
       "  </tbody>\n",
       "</table>\n",
       "</div>"
      ],
      "text/plain": [
       "      ITEM_ID  COUNT\n",
       "0  B00XA9DADC   5288\n",
       "1  B00I3MVY9I   5086\n",
       "2  B00W6T13OU   4023\n",
       "3  B0014CZUZ8   3225\n",
       "4  B0014CSIG6   2600"
      ]
     },
     "execution_count": 35,
     "metadata": {},
     "output_type": "execute_result"
    }
   ],
   "source": [
    "search_log_count_df = pd.DataFrame(\n",
    "    {\n",
    "        \"ITEM_ID\": search_log_df['ITEM_ID'].value_counts().index,\n",
    "        \"COUNT\": search_log_df['ITEM_ID'].value_counts().values,\n",
    "    }\n",
    ")\n",
    "\n",
    "search_log_count_df.head()"
   ]
  },
  {
   "cell_type": "code",
   "execution_count": 36,
   "id": "f02e3911-b577-4534-9c43-99eadcaa51d6",
   "metadata": {},
   "outputs": [
    {
     "name": "stdout",
     "output_type": "stream",
     "text": [
      "B012DEA36Q\n"
     ]
    }
   ],
   "source": [
    "search_query = search_log_count_df.sample()[\"ITEM_ID\"].item()\n",
    "print(search_query)"
   ]
  },
  {
   "cell_type": "code",
   "execution_count": 37,
   "id": "509537dc-aa29-46ff-b45f-c31056fcd854",
   "metadata": {},
   "outputs": [
    {
     "data": {
      "text/html": [
       "<div>\n",
       "<style scoped>\n",
       "    .dataframe tbody tr th:only-of-type {\n",
       "        vertical-align: middle;\n",
       "    }\n",
       "\n",
       "    .dataframe tbody tr th {\n",
       "        vertical-align: top;\n",
       "    }\n",
       "\n",
       "    .dataframe thead th {\n",
       "        text-align: right;\n",
       "    }\n",
       "</style>\n",
       "<table border=\"1\" class=\"dataframe\">\n",
       "  <thead>\n",
       "    <tr style=\"text-align: right;\">\n",
       "      <th></th>\n",
       "      <th>ITEM_ID</th>\n",
       "      <th>COUNT</th>\n",
       "    </tr>\n",
       "  </thead>\n",
       "  <tbody>\n",
       "    <tr>\n",
       "      <th>8022</th>\n",
       "      <td>B012DEA36Q</td>\n",
       "      <td>4</td>\n",
       "    </tr>\n",
       "  </tbody>\n",
       "</table>\n",
       "</div>"
      ],
      "text/plain": [
       "         ITEM_ID  COUNT\n",
       "8022  B012DEA36Q      4"
      ]
     },
     "execution_count": 37,
     "metadata": {},
     "output_type": "execute_result"
    }
   ],
   "source": [
    "search_log_count_df.query(f'ITEM_ID==\"{search_query}\"')"
   ]
  },
  {
   "cell_type": "code",
   "execution_count": 38,
   "id": "a14c943f-cb03-4438-bd02-ba077531c631",
   "metadata": {},
   "outputs": [
    {
     "data": {
      "text/html": [
       "<div>\n",
       "<style scoped>\n",
       "    .dataframe tbody tr th:only-of-type {\n",
       "        vertical-align: middle;\n",
       "    }\n",
       "\n",
       "    .dataframe tbody tr th {\n",
       "        vertical-align: top;\n",
       "    }\n",
       "\n",
       "    .dataframe thead th {\n",
       "        text-align: right;\n",
       "    }\n",
       "</style>\n",
       "<table border=\"1\" class=\"dataframe\">\n",
       "  <thead>\n",
       "    <tr style=\"text-align: right;\">\n",
       "      <th></th>\n",
       "      <th>ITEM_ID</th>\n",
       "      <th>COUNT</th>\n",
       "    </tr>\n",
       "  </thead>\n",
       "  <tbody>\n",
       "    <tr>\n",
       "      <th>8022</th>\n",
       "      <td>B012DEA36Q</td>\n",
       "      <td>4</td>\n",
       "    </tr>\n",
       "  </tbody>\n",
       "</table>\n",
       "</div>"
      ],
      "text/plain": [
       "         ITEM_ID  COUNT\n",
       "8022  B012DEA36Q      4"
      ]
     },
     "execution_count": 38,
     "metadata": {},
     "output_type": "execute_result"
    }
   ],
   "source": [
    "# 与えるデータ\n",
    "recommended_item_df = search_log_count_df.query(f'ITEM_ID==\"{search_query}\"')\n",
    "recommended_item_df"
   ]
  },
  {
   "cell_type": "code",
   "execution_count": 79,
   "id": "40d1a5bc-e2d3-41d6-918f-2719c38e83a6",
   "metadata": {},
   "outputs": [
    {
     "name": "stdout",
     "output_type": "stream",
     "text": [
      "[{'itemId': 'B00XA9DADC'}, {'itemId': 'B00I3MVY9I'}, {'itemId': 'B00W6T13OU'}, {'itemId': 'B00HZ6X8QU'}, {'itemId': 'B0014CZUZ8'}, {'itemId': 'B00I9KR31C'}, {'itemId': 'B00W6T208I'}, {'itemId': 'B00I8YJZ4M'}, {'itemId': 'B00ICZZCEE'}, {'itemId': 'B0014CSIG6'}]\n"
     ]
    }
   ],
   "source": [
    "response = personalize_runtime.get_recommendations(\n",
    "    campaignArn=campaign_arn,\n",
    "    itemId=search_query,\n",
    "    numResults=10\n",
    ")\n",
    "print(response['itemList'])"
   ]
  },
  {
   "cell_type": "code",
   "execution_count": 80,
   "id": "d14577ca-dbd4-4361-a182-535ac7bb4818",
   "metadata": {},
   "outputs": [
    {
     "data": {
      "text/html": [
       "<div>\n",
       "<style scoped>\n",
       "    .dataframe tbody tr th:only-of-type {\n",
       "        vertical-align: middle;\n",
       "    }\n",
       "\n",
       "    .dataframe tbody tr th {\n",
       "        vertical-align: top;\n",
       "    }\n",
       "\n",
       "    .dataframe thead th {\n",
       "        text-align: right;\n",
       "    }\n",
       "</style>\n",
       "<table border=\"1\" class=\"dataframe\">\n",
       "  <thead>\n",
       "    <tr style=\"text-align: right;\">\n",
       "      <th></th>\n",
       "      <th>ITEM_ID</th>\n",
       "    </tr>\n",
       "  </thead>\n",
       "  <tbody>\n",
       "    <tr>\n",
       "      <th>0</th>\n",
       "      <td>B00XA9DADC</td>\n",
       "    </tr>\n",
       "    <tr>\n",
       "      <th>1</th>\n",
       "      <td>B00I3MVY9I</td>\n",
       "    </tr>\n",
       "    <tr>\n",
       "      <th>2</th>\n",
       "      <td>B00W6T13OU</td>\n",
       "    </tr>\n",
       "    <tr>\n",
       "      <th>3</th>\n",
       "      <td>B00HZ6X8QU</td>\n",
       "    </tr>\n",
       "    <tr>\n",
       "      <th>4</th>\n",
       "      <td>B0014CZUZ8</td>\n",
       "    </tr>\n",
       "    <tr>\n",
       "      <th>5</th>\n",
       "      <td>B00I9KR31C</td>\n",
       "    </tr>\n",
       "    <tr>\n",
       "      <th>6</th>\n",
       "      <td>B00W6T208I</td>\n",
       "    </tr>\n",
       "    <tr>\n",
       "      <th>7</th>\n",
       "      <td>B00I8YJZ4M</td>\n",
       "    </tr>\n",
       "    <tr>\n",
       "      <th>8</th>\n",
       "      <td>B00ICZZCEE</td>\n",
       "    </tr>\n",
       "    <tr>\n",
       "      <th>9</th>\n",
       "      <td>B0014CSIG6</td>\n",
       "    </tr>\n",
       "  </tbody>\n",
       "</table>\n",
       "</div>"
      ],
      "text/plain": [
       "      ITEM_ID\n",
       "0  B00XA9DADC\n",
       "1  B00I3MVY9I\n",
       "2  B00W6T13OU\n",
       "3  B00HZ6X8QU\n",
       "4  B0014CZUZ8\n",
       "5  B00I9KR31C\n",
       "6  B00W6T208I\n",
       "7  B00I8YJZ4M\n",
       "8  B00ICZZCEE\n",
       "9  B0014CSIG6"
      ]
     },
     "execution_count": 80,
     "metadata": {},
     "output_type": "execute_result"
    }
   ],
   "source": [
    "# 与えたデータを元に推薦実行\n",
    "recommendation_df = pd.DataFrame(\n",
    "    [dic['itemId'] for dic in response['itemList']],\n",
    "    columns=[\"ITEM_ID\"]\n",
    ")\n",
    "\n",
    "recommendation_df"
   ]
  },
  {
   "cell_type": "markdown",
   "id": "e296f0d9-4d01-4187-923d-63ee6d3b2849",
   "metadata": {},
   "source": [
    "### リソースの削除"
   ]
  },
  {
   "cell_type": "code",
   "execution_count": 81,
   "id": "a31efcd4-9639-44fa-9187-5aa3d9747fec",
   "metadata": {},
   "outputs": [
    {
     "data": {
      "text/plain": [
       "{'ResponseMetadata': {'RequestId': '45f6c0ad-92c1-486e-bf06-0a2bb4721e9e',\n",
       "  'HTTPStatusCode': 200,\n",
       "  'HTTPHeaders': {'date': 'Sat, 31 May 2025 16:25:18 GMT',\n",
       "   'content-type': 'application/x-amz-json-1.1',\n",
       "   'content-length': '0',\n",
       "   'connection': 'keep-alive',\n",
       "   'x-amzn-requestid': '45f6c0ad-92c1-486e-bf06-0a2bb4721e9e',\n",
       "   'strict-transport-security': 'max-age=47304000; includeSubDomains',\n",
       "   'x-frame-options': 'DENY',\n",
       "   'cache-control': 'no-cache',\n",
       "   'x-content-type-options': 'nosniff'},\n",
       "  'RetryAttempts': 0}}"
      ]
     },
     "execution_count": 81,
     "metadata": {},
     "output_type": "execute_result"
    }
   ],
   "source": [
    "# personalize.delete_campaign(campaignArn = campaign_arn)"
   ]
  }
 ],
 "metadata": {
  "kernelspec": {
   "display_name": "Python 3 (ipykernel)",
   "language": "python",
   "name": "python3"
  },
  "language_info": {
   "codemirror_mode": {
    "name": "ipython",
    "version": 3
   },
   "file_extension": ".py",
   "mimetype": "text/x-python",
   "name": "python",
   "nbconvert_exporter": "python",
   "pygments_lexer": "ipython3",
   "version": "3.11.6"
  }
 },
 "nbformat": 4,
 "nbformat_minor": 5
}
