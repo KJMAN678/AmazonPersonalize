{
 "cells": [
  {
   "cell_type": "code",
   "execution_count": 1,
   "id": "f38cd2d5-1fbc-4a18-8537-8363e518ba75",
   "metadata": {},
   "outputs": [],
   "source": [
    "import pandas as pd\n",
    "import json\n",
    "import numpy as np\n",
    "from datetime import datetime\n",
    "import boto3\n",
    "import time\n",
    "from time import sleep\n",
    "from lxml import html\n",
    "import os"
   ]
  },
  {
   "cell_type": "markdown",
   "id": "735c92ca-33e5-4120-b6d3-799787293a56",
   "metadata": {},
   "source": [
    "### 定数"
   ]
  },
  {
   "cell_type": "code",
   "execution_count": 2,
   "id": "a6850d4f-6960-49eb-acd8-26d4d0b21dd0",
   "metadata": {},
   "outputs": [],
   "source": [
    "REGION_NAME = 'ap-northeast-1'\n",
    "\n",
    "AWS_ACCESS_KEY_ID = os.environ.get(\"AWS_ACCESS_KEY_ID\")\n",
    "AWS_SECRET_ACCESS_KEY = os.environ.get(\"AWS_SECRET_ACCESS_KEY\")\n",
    "\n",
    "DATASET_GROUP_NAME = \"word_suggest_recommendation\"\n",
    "INTERACTIONS_FILENAME = \"search_log.csv\" # 要修正\n",
    "ROLE_NAME = \"PersonalizeRoleAmazonPantryAwsSimilarItems\"\n",
    "\n",
    "# レシピ名\n",
    "# SIMS_RECIPE_ARN = \"arn:aws:personalize:::recipe/aws-sims\"\n",
    "# SIMS_RECIPE_ARN = \"arn:aws:personalize:::recipe/aws-ecomm-frequently-bought-together\"\n",
    "SIMS_RECIPE_ARN = \"arn:aws:personalize:::recipe/aws-ecomm-customers-who-viewed-x-also-viewed\"\n",
    "# SIMS_RECIPE_ARN = \"arn:aws:personalize:::recipe/aws-similar-items\"\n",
    "\n",
    "SCHEMA_NAME = \"suggest-word-1\""
   ]
  },
  {
   "cell_type": "markdown",
   "id": "a780f990-56ee-4cf2-8520-29c86d229d93",
   "metadata": {},
   "source": [
    "### データ読み込み"
   ]
  },
  {
   "cell_type": "code",
   "execution_count": 3,
   "id": "1144f6c2-8a18-4928-bfb7-0a29fbdc9b29",
   "metadata": {},
   "outputs": [
    {
     "data": {
      "text/html": [
       "<div>\n",
       "<style scoped>\n",
       "    .dataframe tbody tr th:only-of-type {\n",
       "        vertical-align: middle;\n",
       "    }\n",
       "\n",
       "    .dataframe tbody tr th {\n",
       "        vertical-align: top;\n",
       "    }\n",
       "\n",
       "    .dataframe thead th {\n",
       "        text-align: right;\n",
       "    }\n",
       "</style>\n",
       "<table border=\"1\" class=\"dataframe\">\n",
       "  <thead>\n",
       "    <tr style=\"text-align: right;\">\n",
       "      <th></th>\n",
       "      <th>USER_ID</th>\n",
       "      <th>ITEM_ID</th>\n",
       "      <th>TIMESTAMP</th>\n",
       "      <th>EVENT_TYPE</th>\n",
       "    </tr>\n",
       "  </thead>\n",
       "  <tbody>\n",
       "    <tr>\n",
       "      <th>0</th>\n",
       "      <td>user_001</td>\n",
       "      <td>coffee</td>\n",
       "      <td>1704067200</td>\n",
       "      <td>view</td>\n",
       "    </tr>\n",
       "    <tr>\n",
       "      <th>1</th>\n",
       "      <td>user_001</td>\n",
       "      <td>tea</td>\n",
       "      <td>1704067200</td>\n",
       "      <td>view</td>\n",
       "    </tr>\n",
       "    <tr>\n",
       "      <th>2</th>\n",
       "      <td>user_001</td>\n",
       "      <td>milk</td>\n",
       "      <td>1704067200</td>\n",
       "      <td>view</td>\n",
       "    </tr>\n",
       "    <tr>\n",
       "      <th>3</th>\n",
       "      <td>user_002</td>\n",
       "      <td>bread</td>\n",
       "      <td>1704153600</td>\n",
       "      <td>view</td>\n",
       "    </tr>\n",
       "    <tr>\n",
       "      <th>4</th>\n",
       "      <td>user_002</td>\n",
       "      <td>cheese</td>\n",
       "      <td>1704153600</td>\n",
       "      <td>view</td>\n",
       "    </tr>\n",
       "  </tbody>\n",
       "</table>\n",
       "</div>"
      ],
      "text/plain": [
       "    USER_ID ITEM_ID   TIMESTAMP EVENT_TYPE\n",
       "0  user_001  coffee  1704067200       view\n",
       "1  user_001     tea  1704067200       view\n",
       "2  user_001    milk  1704067200       view\n",
       "3  user_002   bread  1704153600       view\n",
       "4  user_002  cheese  1704153600       view"
      ]
     },
     "execution_count": 3,
     "metadata": {},
     "output_type": "execute_result"
    }
   ],
   "source": [
    "search_log_df = pd.read_csv(INTERACTIONS_FILENAME)\n",
    "\n",
    "search_log_df.head()"
   ]
  },
  {
   "cell_type": "code",
   "execution_count": 4,
   "id": "6d06042c-763c-4fba-a91e-67e56f77661f",
   "metadata": {},
   "outputs": [
    {
     "data": {
      "text/html": [
       "<div>\n",
       "<style scoped>\n",
       "    .dataframe tbody tr th:only-of-type {\n",
       "        vertical-align: middle;\n",
       "    }\n",
       "\n",
       "    .dataframe tbody tr th {\n",
       "        vertical-align: top;\n",
       "    }\n",
       "\n",
       "    .dataframe thead th {\n",
       "        text-align: right;\n",
       "    }\n",
       "</style>\n",
       "<table border=\"1\" class=\"dataframe\">\n",
       "  <thead>\n",
       "    <tr style=\"text-align: right;\">\n",
       "      <th></th>\n",
       "      <th>USER_ID</th>\n",
       "      <th>ITEM_ID</th>\n",
       "      <th>TIMESTAMP</th>\n",
       "      <th>EVENT_TYPE</th>\n",
       "    </tr>\n",
       "  </thead>\n",
       "  <tbody>\n",
       "    <tr>\n",
       "      <th>count</th>\n",
       "      <td>4913</td>\n",
       "      <td>4913</td>\n",
       "      <td>4.913000e+03</td>\n",
       "      <td>4913</td>\n",
       "    </tr>\n",
       "    <tr>\n",
       "      <th>unique</th>\n",
       "      <td>30</td>\n",
       "      <td>85</td>\n",
       "      <td>NaN</td>\n",
       "      <td>1</td>\n",
       "    </tr>\n",
       "    <tr>\n",
       "      <th>top</th>\n",
       "      <td>user_013</td>\n",
       "      <td>cereal</td>\n",
       "      <td>NaN</td>\n",
       "      <td>view</td>\n",
       "    </tr>\n",
       "    <tr>\n",
       "      <th>freq</th>\n",
       "      <td>213</td>\n",
       "      <td>80</td>\n",
       "      <td>NaN</td>\n",
       "      <td>4913</td>\n",
       "    </tr>\n",
       "    <tr>\n",
       "      <th>mean</th>\n",
       "      <td>NaN</td>\n",
       "      <td>NaN</td>\n",
       "      <td>1.719666e+09</td>\n",
       "      <td>NaN</td>\n",
       "    </tr>\n",
       "    <tr>\n",
       "      <th>std</th>\n",
       "      <td>NaN</td>\n",
       "      <td>NaN</td>\n",
       "      <td>9.062495e+06</td>\n",
       "      <td>NaN</td>\n",
       "    </tr>\n",
       "    <tr>\n",
       "      <th>min</th>\n",
       "      <td>NaN</td>\n",
       "      <td>NaN</td>\n",
       "      <td>1.704046e+09</td>\n",
       "      <td>NaN</td>\n",
       "    </tr>\n",
       "    <tr>\n",
       "      <th>25%</th>\n",
       "      <td>NaN</td>\n",
       "      <td>NaN</td>\n",
       "      <td>1.711964e+09</td>\n",
       "      <td>NaN</td>\n",
       "    </tr>\n",
       "    <tr>\n",
       "      <th>50%</th>\n",
       "      <td>NaN</td>\n",
       "      <td>NaN</td>\n",
       "      <td>1.719433e+09</td>\n",
       "      <td>NaN</td>\n",
       "    </tr>\n",
       "    <tr>\n",
       "      <th>75%</th>\n",
       "      <td>NaN</td>\n",
       "      <td>NaN</td>\n",
       "      <td>1.727557e+09</td>\n",
       "      <td>NaN</td>\n",
       "    </tr>\n",
       "    <tr>\n",
       "      <th>max</th>\n",
       "      <td>NaN</td>\n",
       "      <td>NaN</td>\n",
       "      <td>1.735560e+09</td>\n",
       "      <td>NaN</td>\n",
       "    </tr>\n",
       "  </tbody>\n",
       "</table>\n",
       "</div>"
      ],
      "text/plain": [
       "         USER_ID ITEM_ID     TIMESTAMP EVENT_TYPE\n",
       "count       4913    4913  4.913000e+03       4913\n",
       "unique        30      85           NaN          1\n",
       "top     user_013  cereal           NaN       view\n",
       "freq         213      80           NaN       4913\n",
       "mean         NaN     NaN  1.719666e+09        NaN\n",
       "std          NaN     NaN  9.062495e+06        NaN\n",
       "min          NaN     NaN  1.704046e+09        NaN\n",
       "25%          NaN     NaN  1.711964e+09        NaN\n",
       "50%          NaN     NaN  1.719433e+09        NaN\n",
       "75%          NaN     NaN  1.727557e+09        NaN\n",
       "max          NaN     NaN  1.735560e+09        NaN"
      ]
     },
     "execution_count": 4,
     "metadata": {},
     "output_type": "execute_result"
    }
   ],
   "source": [
    "search_log_df.describe(include='all')"
   ]
  },
  {
   "cell_type": "markdown",
   "id": "bd76c369-b9cb-403f-bcb4-fae00902b943",
   "metadata": {},
   "source": [
    "### データセットグループの作成"
   ]
  },
  {
   "cell_type": "code",
   "execution_count": 5,
   "id": "287760ad-c275-4880-ada8-69724310731a",
   "metadata": {},
   "outputs": [
    {
     "name": "stdout",
     "output_type": "stream",
     "text": [
      "{\n",
      "  \"datasetGroupArn\": \"arn:aws:personalize:ap-northeast-1:627614495110:dataset-group/word_suggest_recommendation\",\n",
      "  \"domain\": \"ECOMMERCE\",\n",
      "  \"ResponseMetadata\": {\n",
      "    \"RequestId\": \"a31bf796-63cc-49e9-bb43-b5aa451c42b6\",\n",
      "    \"HTTPStatusCode\": 200,\n",
      "    \"HTTPHeaders\": {\n",
      "      \"date\": \"Mon, 02 Jun 2025 11:57:01 GMT\",\n",
      "      \"content-type\": \"application/x-amz-json-1.1\",\n",
      "      \"content-length\": \"132\",\n",
      "      \"connection\": \"keep-alive\",\n",
      "      \"x-amzn-requestid\": \"a31bf796-63cc-49e9-bb43-b5aa451c42b6\",\n",
      "      \"strict-transport-security\": \"max-age=47304000; includeSubDomains\",\n",
      "      \"x-frame-options\": \"DENY\",\n",
      "      \"cache-control\": \"no-cache\",\n",
      "      \"x-content-type-options\": \"nosniff\"\n",
      "    },\n",
      "    \"RetryAttempts\": 0\n",
      "  }\n",
      "}\n"
     ]
    }
   ],
   "source": [
    "personalize = boto3.client(\n",
    "    'personalize',\n",
    "    aws_access_key_id=AWS_ACCESS_KEY_ID,\n",
    "    aws_secret_access_key=AWS_SECRET_ACCESS_KEY,\n",
    "    region_name=REGION_NAME,\n",
    ")\n",
    "\n",
    "personalize_runtime = boto3.client(\n",
    "    'personalize-runtime', \n",
    "    aws_access_key_id=AWS_ACCESS_KEY_ID,\n",
    "    aws_secret_access_key=AWS_SECRET_ACCESS_KEY,\n",
    "    region_name=REGION_NAME,\n",
    ")\n",
    "\n",
    "create_dataset_group_response = personalize.create_dataset_group(\n",
    "    name = DATASET_GROUP_NAME,\n",
    "    domain='ECOMMERCE',\n",
    ")\n",
    "\n",
    "dataset_group = create_dataset_group_response['datasetGroupArn']\n",
    "print(json.dumps(create_dataset_group_response, indent=2))"
   ]
  },
  {
   "cell_type": "markdown",
   "id": "20c2c279-885c-4e72-a9f1-1b390d942cc1",
   "metadata": {},
   "source": [
    "### max_time を上限として、データセットグループの作成が完了したことを確認し続ける"
   ]
  },
  {
   "cell_type": "code",
   "execution_count": 6,
   "id": "683c2376-6daa-4132-a1df-7de87b7723f1",
   "metadata": {},
   "outputs": [
    {
     "name": "stdout",
     "output_type": "stream",
     "text": [
      "Dataset group create succeeded for arn:aws:personalize:ap-northeast-1:627614495110:dataset-group/word_suggest_recommendation\n"
     ]
    }
   ],
   "source": [
    "max_time = time.time() + 3*60*60 # 3 hours\n",
    "\n",
    "while time.time() < max_time:\n",
    "    describe_dataset_group_response = personalize.describe_dataset_group(\n",
    "        datasetGroupArn = dataset_group\n",
    "    )\n",
    "    status = describe_dataset_group_response[\"datasetGroup\"][\"status\"]\n",
    "    if status == \"ACTIVE\":\n",
    "        print(f\"Dataset group create succeeded for {dataset_group}\")\n",
    "        break\n",
    "    elif status == \"CREATE FAILED\":\n",
    "        print(f\"Create failed for {dataset_group}\")\n",
    "        break\n",
    "                \n",
    "    time.sleep(10)"
   ]
  },
  {
   "cell_type": "markdown",
   "id": "8f3abfde-af5a-4243-a0cf-c0da65037a80",
   "metadata": {},
   "source": [
    "### インタラクションデータセットのスキーマとデータセットを作成する"
   ]
  },
  {
   "cell_type": "code",
   "execution_count": 7,
   "id": "affb63ce-ec90-4682-8dcc-6ba732bbce15",
   "metadata": {},
   "outputs": [],
   "source": [
    "interactions_schema = schema = {\n",
    "    \"type\": \"record\",\n",
    "    \"name\": \"Interactions\",\n",
    "    \"namespace\": \"com.amazonaws.personalize.schema\",\n",
    "    \"fields\": [\n",
    "        {\n",
    "            \"name\": \"USER_ID\",\n",
    "            \"type\": \"string\"\n",
    "        },\n",
    "        {\n",
    "            \"name\": \"ITEM_ID\",\n",
    "            \"type\": \"string\"\n",
    "        },\n",
    "        {\n",
    "            \"name\": \"TIMESTAMP\",\n",
    "            \"type\": \"long\"\n",
    "        },\n",
    "        {\n",
    "            \"name\": \"EVENT_TYPE\",\n",
    "            \"type\": \"string\"\n",
    "        }\n",
    "    ],\n",
    "    \"version\": \"1.0\"\n",
    "}"
   ]
  },
  {
   "cell_type": "markdown",
   "id": "bfb29391-775d-4702-b377-95cd47a2160e",
   "metadata": {},
   "source": [
    "### すでに Schema を作っていたら削除、なければ作成"
   ]
  },
  {
   "cell_type": "code",
   "execution_count": 8,
   "id": "cd6a156e-db0c-4d0a-8b62-3881a50968c1",
   "metadata": {},
   "outputs": [],
   "source": [
    "# スキーマの一覧を取得\n",
    "response = personalize.list_schemas()\n",
    "schema_arn = None\n",
    "\n",
    "for schema in response['schemas']:\n",
    "    if schema['name'] == SCHEMA_NAME:\n",
    "        schema_arn = schema['schemaArn']\n",
    "        break\n",
    "\n",
    "if schema_arn:\n",
    "    personalize.delete_schema(\n",
    "        schemaArn=schema_arn\n",
    "    )\n",
    "    \n",
    "    sleep(5)\n",
    "        \n",
    "    create_schema_response = personalize.create_schema(\n",
    "        name = SCHEMA_NAME,\n",
    "        domain = \"ECOMMERCE\",\n",
    "        schema = json.dumps(interactions_schema),\n",
    "    )\n",
    "\n",
    "else:\n",
    "    create_schema_response = personalize.create_schema(\n",
    "        name = SCHEMA_NAME,\n",
    "        domain = \"ECOMMERCE\",\n",
    "        schema = json.dumps(interactions_schema),\n",
    "    )"
   ]
  },
  {
   "cell_type": "code",
   "execution_count": 9,
   "id": "6e228713-6101-4270-886d-3f9d3b4d3bc5",
   "metadata": {},
   "outputs": [
    {
     "name": "stdout",
     "output_type": "stream",
     "text": [
      "{\n",
      "  \"schemaArn\": \"arn:aws:personalize:ap-northeast-1:627614495110:schema/suggest-word-1\",\n",
      "  \"ResponseMetadata\": {\n",
      "    \"RequestId\": \"86ef8e9b-6aff-456b-ae36-16232e44b356\",\n",
      "    \"HTTPStatusCode\": 200,\n",
      "    \"HTTPHeaders\": {\n",
      "      \"date\": \"Mon, 02 Jun 2025 11:57:37 GMT\",\n",
      "      \"content-type\": \"application/x-amz-json-1.1\",\n",
      "      \"content-length\": \"85\",\n",
      "      \"connection\": \"keep-alive\",\n",
      "      \"x-amzn-requestid\": \"86ef8e9b-6aff-456b-ae36-16232e44b356\",\n",
      "      \"strict-transport-security\": \"max-age=47304000; includeSubDomains\",\n",
      "      \"x-frame-options\": \"DENY\",\n",
      "      \"cache-control\": \"no-cache\",\n",
      "      \"x-content-type-options\": \"nosniff\"\n",
      "    },\n",
      "    \"RetryAttempts\": 0\n",
      "  }\n",
      "}\n"
     ]
    }
   ],
   "source": [
    "# スキーマの中身を確認\n",
    "interaction_schema_arn = create_schema_response['schemaArn']\n",
    "print(json.dumps(create_schema_response, indent=2))"
   ]
  },
  {
   "cell_type": "markdown",
   "id": "081cd5d6-0d67-4a8b-9b44-13546397a49e",
   "metadata": {},
   "source": [
    "### 先ほど作成したスキーマを指定して、データセットグループにInteractionsデータセットを作成する"
   ]
  },
  {
   "cell_type": "code",
   "execution_count": 10,
   "id": "7cb1b7ae-1e51-45f6-b307-74ccee952f8e",
   "metadata": {},
   "outputs": [
    {
     "name": "stdout",
     "output_type": "stream",
     "text": [
      "{\n",
      "  \"datasetArn\": \"arn:aws:personalize:ap-northeast-1:627614495110:dataset/word_suggest_recommendation/INTERACTIONS\",\n",
      "  \"ResponseMetadata\": {\n",
      "    \"RequestId\": \"7525e92a-af30-4ce2-9244-eecb080f286d\",\n",
      "    \"HTTPStatusCode\": 200,\n",
      "    \"HTTPHeaders\": {\n",
      "      \"date\": \"Mon, 02 Jun 2025 11:57:37 GMT\",\n",
      "      \"content-type\": \"application/x-amz-json-1.1\",\n",
      "      \"content-length\": \"113\",\n",
      "      \"connection\": \"keep-alive\",\n",
      "      \"x-amzn-requestid\": \"7525e92a-af30-4ce2-9244-eecb080f286d\",\n",
      "      \"strict-transport-security\": \"max-age=47304000; includeSubDomains\",\n",
      "      \"x-frame-options\": \"DENY\",\n",
      "      \"cache-control\": \"no-cache\",\n",
      "      \"x-content-type-options\": \"nosniff\"\n",
      "    },\n",
      "    \"RetryAttempts\": 0\n",
      "  }\n",
      "}\n"
     ]
    }
   ],
   "source": [
    "dataset_type = \"INTERACTIONS\"\n",
    "create_dataset_response = personalize.create_dataset(\n",
    "    name = \"amazon-pantry-ints\",\n",
    "    datasetType = dataset_type,\n",
    "    datasetGroupArn = dataset_group,\n",
    "    schemaArn = interaction_schema_arn\n",
    ")\n",
    "\n",
    "interactions_dataset = create_dataset_response['datasetArn']\n",
    "print(json.dumps(create_dataset_response, indent=2))"
   ]
  },
  {
   "cell_type": "code",
   "execution_count": 11,
   "id": "f3638805-7eb4-4c96-9a75-b0ea3aa70fc6",
   "metadata": {},
   "outputs": [
    {
     "name": "stdout",
     "output_type": "stream",
     "text": [
      "Dataset import succeeded for arn:aws:personalize:ap-northeast-1:627614495110:dataset/word_suggest_recommendation/INTERACTIONS\n",
      "CPU times: user 38 ms, sys: 2.22 ms, total: 40.3 ms\n",
      "Wall time: 1min\n"
     ]
    }
   ],
   "source": [
    "%%time\n",
    "\n",
    "max_time = time.time() + 3*60*60 # 3 hours\n",
    "while time.time() < max_time:\n",
    "    describe_dataset_response = personalize.describe_dataset(\n",
    "        datasetArn = interactions_dataset\n",
    "    )\n",
    "    status = describe_dataset_response[\"dataset\"]['status']\n",
    "    if status == \"ACTIVE\":\n",
    "        print(f\"Dataset import succeeded for {interactions_dataset}\")\n",
    "        break\n",
    "    elif status == \"CREATE FAILED\":\n",
    "        print(f\"Create failed for {interactions_dataset}\")\n",
    "        break\n",
    "                \n",
    "    time.sleep(60)"
   ]
  },
  {
   "cell_type": "markdown",
   "id": "5d861fc0-4a7c-4a95-bec9-869b5e9c11d1",
   "metadata": {},
   "source": [
    "### S3でインタラクションCSVをステージングする\n",
    "### 先ほど作成したInteractions CSVを先ほど作成したPersonalizeデータセットにアップロードする前に、S3バケットにCSVをステージングする必要がある\n",
    "### S3バケットを作成し、Interactions CSVファイルをバケットにコピーしよう。"
   ]
  },
  {
   "cell_type": "code",
   "execution_count": 12,
   "id": "274673f9-c8c4-47e0-8083-2dba4359cbde",
   "metadata": {},
   "outputs": [
    {
     "name": "stdout",
     "output_type": "stream",
     "text": [
      "amazon-pantry-personalize-example-627614495110\n"
     ]
    }
   ],
   "source": [
    "s3 = boto3.client(\n",
    "    's3',\n",
    "    aws_access_key_id=AWS_ACCESS_KEY_ID,\n",
    "    aws_secret_access_key=AWS_SECRET_ACCESS_KEY,\n",
    "    region_name=REGION_NAME,    \n",
    ")\n",
    "\n",
    "ACCOUNT_ID = boto3.client(\n",
    "    'sts',\n",
    "    aws_access_key_id=AWS_ACCESS_KEY_ID,\n",
    "    aws_secret_access_key=AWS_SECRET_ACCESS_KEY,\n",
    "    region_name=REGION_NAME,\n",
    ").get_caller_identity().get('Account')\n",
    "\n",
    "BUCKET_NAME = f\"amazon-pantry-personalize-example-{ACCOUNT_ID}\"\n",
    "\n",
    "print(BUCKET_NAME)\n",
    "\n",
    "if REGION_NAME == \"us-east-1\":\n",
    "    s3.create_bucket(Bucket=BUCKET_NAME)\n",
    "else:\n",
    "    s3.create_bucket(\n",
    "        Bucket=BUCKET_NAME,\n",
    "        CreateBucketConfiguration={'LocationConstraint': REGION_NAME}\n",
    "    )"
   ]
  },
  {
   "cell_type": "markdown",
   "id": "c96b5e33-f762-478a-b1cb-dcb791b47ff7",
   "metadata": {},
   "source": [
    "### S3 へのアップロード"
   ]
  },
  {
   "cell_type": "code",
   "execution_count": 13,
   "id": "4b8b1354-8094-4cdb-a572-c5249dd48a0b",
   "metadata": {},
   "outputs": [],
   "source": [
    "boto3.Session().resource(\n",
    "    's3',\n",
    "    aws_access_key_id=AWS_ACCESS_KEY_ID,\n",
    "    aws_secret_access_key=AWS_SECRET_ACCESS_KEY,\n",
    "    region_name=REGION_NAME,\n",
    ").Bucket(BUCKET_NAME).Object(\n",
    "    INTERACTIONS_FILENAME).upload_file(\n",
    "    INTERACTIONS_FILENAME)"
   ]
  },
  {
   "cell_type": "markdown",
   "id": "82a7d21c-185e-44e5-9cd6-517e1827c69e",
   "metadata": {},
   "source": [
    "### S3バケットポリシーとIAMロールの作成\n",
    "### データセットのインポートジョブをPersonalizeに送信する前に、Personalizeにバケットへのアクセス権を与えるバケットポリシーとIAMロールを作成する必要があります。"
   ]
  },
  {
   "cell_type": "code",
   "execution_count": 14,
   "id": "778d17a5-4ec0-4313-a1fc-ba734c16e29c",
   "metadata": {},
   "outputs": [
    {
     "data": {
      "text/plain": [
       "{'ResponseMetadata': {'RequestId': 'NCTCC5KYPW7S9YX1',\n",
       "  'HostId': 'm7wCNIr3+YYKCgejVBVfqjITRhGvu4nGDtdeshXEg9+JtG+pzP4J5fEFK2X1ZAdSyqSu3fQdepc=',\n",
       "  'HTTPStatusCode': 204,\n",
       "  'HTTPHeaders': {'x-amz-id-2': 'm7wCNIr3+YYKCgejVBVfqjITRhGvu4nGDtdeshXEg9+JtG+pzP4J5fEFK2X1ZAdSyqSu3fQdepc=',\n",
       "   'x-amz-request-id': 'NCTCC5KYPW7S9YX1',\n",
       "   'date': 'Mon, 02 Jun 2025 11:58:42 GMT',\n",
       "   'server': 'AmazonS3'},\n",
       "  'RetryAttempts': 0}}"
      ]
     },
     "execution_count": 14,
     "metadata": {},
     "output_type": "execute_result"
    }
   ],
   "source": [
    "policy = {\n",
    "    \"Version\": \"2012-10-17\",\n",
    "    \"Id\": \"PersonalizeS3BucketAccessPolicy\",\n",
    "    \"Statement\": [\n",
    "        {\n",
    "            \"Sid\": \"PersonalizeS3BucketAccessPolicy\",\n",
    "            \"Effect\": \"Allow\",\n",
    "            \"Principal\": {\n",
    "                \"Service\": \"personalize.amazonaws.com\"\n",
    "            },\n",
    "            \"Action\": [\n",
    "                \"s3:*Object\",\n",
    "                \"s3:ListBucket\"\n",
    "            ],\n",
    "            \"Resource\": [\n",
    "                f\"arn:aws:s3:::{BUCKET_NAME}\",\n",
    "                f\"arn:aws:s3:::{BUCKET_NAME}/*\",\n",
    "            ]\n",
    "        }\n",
    "    ]\n",
    "}\n",
    "\n",
    "s3.put_bucket_policy(Bucket=BUCKET_NAME, Policy=json.dumps(policy))"
   ]
  },
  {
   "cell_type": "code",
   "execution_count": 15,
   "id": "3361c9ee-af79-4c9a-81fc-c615d6a9670b",
   "metadata": {},
   "outputs": [],
   "source": [
    "iam = boto3.client(\n",
    "    \"iam\",\n",
    "    aws_access_key_id=AWS_ACCESS_KEY_ID,\n",
    "    aws_secret_access_key=AWS_SECRET_ACCESS_KEY,\n",
    "    region_name=REGION_NAME,\n",
    ")\n",
    "\n",
    "assume_role_policy_document = {\n",
    "    \"Version\": \"2012-10-17\",\n",
    "    \"Statement\": [\n",
    "        {\n",
    "          \"Effect\": \"Allow\",\n",
    "          \"Principal\": {\n",
    "            \"Service\": \"personalize.amazonaws.com\"\n",
    "          },\n",
    "          \"Action\": \"sts:AssumeRole\"\n",
    "        }\n",
    "    ]\n",
    "}\n",
    "\n",
    "try:\n",
    "    create_role_response = iam.create_role(\n",
    "        RoleName = ROLE_NAME,\n",
    "        AssumeRolePolicyDocument = json.dumps(assume_role_policy_document)\n",
    "    )\n",
    "except:\n",
    "    create_role_response = iam.get_role(RoleName=ROLE_NAME)"
   ]
  },
  {
   "cell_type": "code",
   "execution_count": 16,
   "id": "69e2bf6b-8830-436c-ba20-c154580022ce",
   "metadata": {},
   "outputs": [
    {
     "name": "stdout",
     "output_type": "stream",
     "text": [
      "arn:aws:iam::627614495110:role/PersonalizeRoleAmazonPantryAwsSimilarItems\n"
     ]
    }
   ],
   "source": [
    "role_arn = create_role_response[\"Role\"][\"Arn\"]\n",
    "print(role_arn)"
   ]
  },
  {
   "cell_type": "markdown",
   "id": "39344ad6-5074-4d41-9e9d-b491b5018e82",
   "metadata": {},
   "source": [
    "### インタラクションデータセットのインポート\n",
    "### S3バケットにあるステージングされたInteractions CSVを、作成したPersonalizeデータセットにインポートする準備を行う"
   ]
  },
  {
   "cell_type": "code",
   "execution_count": 17,
   "id": "1aebddbb-5c07-49a5-b22d-9b6884d6f240",
   "metadata": {},
   "outputs": [
    {
     "name": "stdout",
     "output_type": "stream",
     "text": [
      "{\n",
      "  \"datasetImportJobArn\": \"arn:aws:personalize:ap-northeast-1:627614495110:dataset-import-job/amazon-pantry-interactions-import\",\n",
      "  \"ResponseMetadata\": {\n",
      "    \"RequestId\": \"381bc66d-1837-4845-afee-46d8acbdd34e\",\n",
      "    \"HTTPStatusCode\": 200,\n",
      "    \"HTTPHeaders\": {\n",
      "      \"date\": \"Mon, 02 Jun 2025 11:58:43 GMT\",\n",
      "      \"content-type\": \"application/x-amz-json-1.1\",\n",
      "      \"content-length\": \"126\",\n",
      "      \"connection\": \"keep-alive\",\n",
      "      \"x-amzn-requestid\": \"381bc66d-1837-4845-afee-46d8acbdd34e\",\n",
      "      \"strict-transport-security\": \"max-age=47304000; includeSubDomains\",\n",
      "      \"x-frame-options\": \"DENY\",\n",
      "      \"cache-control\": \"no-cache\",\n",
      "      \"x-content-type-options\": \"nosniff\"\n",
      "    },\n",
      "    \"RetryAttempts\": 0\n",
      "  }\n",
      "}\n"
     ]
    }
   ],
   "source": [
    "create_dataset_import_job_response = personalize.create_dataset_import_job(\n",
    "    jobName = \"amazon-pantry-interactions-import\",\n",
    "    datasetArn = interactions_dataset,\n",
    "    dataSource = {\n",
    "        \"dataLocation\": f\"s3://{BUCKET_NAME}/{INTERACTIONS_FILENAME}\"\n",
    "    },\n",
    "    roleArn = role_arn\n",
    ")\n",
    "\n",
    "dataset_import_job = create_dataset_import_job_response['datasetImportJobArn']\n",
    "print(json.dumps(create_dataset_import_job_response, indent=2))"
   ]
  },
  {
   "cell_type": "markdown",
   "id": "5c95bd8c-17cc-46c6-bf63-762147ae356e",
   "metadata": {},
   "source": [
    "### 相互作用データセットのインポートジョブの完了を待つ\n",
    "### 次のセルは、両方のインポート・ジョブが完了するまで待機します。"
   ]
  },
  {
   "cell_type": "code",
   "execution_count": 18,
   "id": "b65e4caf-6d61-48e9-81b4-a00e9a5be462",
   "metadata": {},
   "outputs": [
    {
     "name": "stdout",
     "output_type": "stream",
     "text": [
      "Dataset import succeeded for arn:aws:personalize:ap-northeast-1:627614495110:dataset-import-job/amazon-pantry-interactions-import\n",
      "CPU times: user 186 ms, sys: 29.9 ms, total: 216 ms\n",
      "Wall time: 4min 2s\n"
     ]
    }
   ],
   "source": [
    "%%time\n",
    "\n",
    "in_progress_import_arns = [ dataset_import_job ]\n",
    "\n",
    "max_time = time.time() + 3*60*60 # 3 hours\n",
    "while time.time() < max_time:\n",
    "    describe_dataset_import_job_response = personalize.describe_dataset_import_job(\n",
    "        datasetImportJobArn = dataset_import_job\n",
    "    )\n",
    "    status = describe_dataset_import_job_response[\"datasetImportJob\"]['status']\n",
    "    if status == \"ACTIVE\":\n",
    "        print(f\"Dataset import succeeded for {dataset_import_job}\")\n",
    "        break\n",
    "    elif status == \"CREATE FAILED\":\n",
    "        print(f\"Create failed for {dataset_import_job}\")\n",
    "        break\n",
    "                \n",
    "    time.sleep(60)"
   ]
  },
  {
   "cell_type": "markdown",
   "id": "4420a3e1-04dc-48df-8956-2d44e98c3ff9",
   "metadata": {},
   "source": [
    "### ソリューションとソリューションバージョンの作成\n",
    "### 各データセットグループのデータのユーザパーソナライズのレシピを使って、ソリューションとソリューションのバージョンを作成します。\n",
    "### まず、利用可能なパーソナライズレシピを列挙します。"
   ]
  },
  {
   "cell_type": "code",
   "execution_count": 19,
   "id": "1e35b307-04bf-460e-9aa4-358335684ab2",
   "metadata": {},
   "outputs": [
    {
     "name": "stdout",
     "output_type": "stream",
     "text": [
      "Name: aws-ecomm-customers-who-viewed-x-also-viewed, ARN: arn:aws:personalize:::recipe/aws-ecomm-customers-who-viewed-x-also-viewed\n",
      "Name: aws-ecomm-frequently-bought-together, ARN: arn:aws:personalize:::recipe/aws-ecomm-frequently-bought-together\n",
      "Name: aws-ecomm-popular-items-by-purchases, ARN: arn:aws:personalize:::recipe/aws-ecomm-popular-items-by-purchases\n",
      "Name: aws-ecomm-popular-items-by-views, ARN: arn:aws:personalize:::recipe/aws-ecomm-popular-items-by-views\n",
      "Name: aws-ecomm-recommended-for-you, ARN: arn:aws:personalize:::recipe/aws-ecomm-recommended-for-you\n"
     ]
    }
   ],
   "source": [
    "response = personalize.list_recipes(\n",
    "    domain='ECOMMERCE'\n",
    ")\n",
    "\n",
    "for recipe in response['recipes']:\n",
    "    print(f\"Name: {recipe['name']}, ARN: {recipe['recipeArn']}\")"
   ]
  },
  {
   "cell_type": "markdown",
   "id": "e3d59b78-15a9-41d7-bc45-264afaa89aa4",
   "metadata": {},
   "source": [
    "### レシピの選択"
   ]
  },
  {
   "cell_type": "markdown",
   "id": "553d7151-fa86-4ee4-9fe3-0317c6e507db",
   "metadata": {},
   "source": [
    "### まず、各レシピのソリューションとソリューション・バージョンを作成する。"
   ]
  },
  {
   "cell_type": "code",
   "execution_count": 20,
   "id": "ce4b3fd6-5e73-4e68-bfb7-fc9c7cabdf89",
   "metadata": {},
   "outputs": [],
   "source": [
    "# sims_create_solution_response = personalize.create_solution(\n",
    "#     name = \"amazon-pantry-sims-solution-example\",\n",
    "#     datasetGroupArn = dataset_group,\n",
    "#     recipeArn = SIMS_RECIPE_ARN\n",
    "# )\n",
    "\n",
    "# sims_solution_arn = sims_create_solution_response['solutionArn']"
   ]
  },
  {
   "cell_type": "code",
   "execution_count": 21,
   "id": "141ac2e3-72cd-4ad9-9d68-f70996e3d465",
   "metadata": {},
   "outputs": [],
   "source": [
    "# sims_solution_version_response = personalize.create_solution_version(\n",
    "#     solutionArn = sims_solution_arn\n",
    "# )"
   ]
  },
  {
   "cell_type": "code",
   "execution_count": 22,
   "id": "4be3a575-a688-4490-8232-50225c760d11",
   "metadata": {},
   "outputs": [],
   "source": [
    "# sims_solution_version_arn = sims_solution_version_response['solutionVersionArn']\n",
    "# print(json.dumps(sims_solution_version_response, indent=2))"
   ]
  },
  {
   "cell_type": "markdown",
   "id": "4524d486-9f12-40af-b66e-cbd45c58c912",
   "metadata": {},
   "source": [
    "### まず、各レシピのrecommenderを作成する。"
   ]
  },
  {
   "cell_type": "code",
   "execution_count": 23,
   "id": "cd93bb62-a509-465f-9acb-ecd9f92dfe46",
   "metadata": {},
   "outputs": [],
   "source": [
    "sims_create_recommender_response = personalize.create_recommender(\n",
    "    name = \"amazon-pantry-sims-solution-example\",\n",
    "    datasetGroupArn = dataset_group,\n",
    "    recipeArn = SIMS_RECIPE_ARN\n",
    ")\n",
    "\n",
    "sims_solution_arn = sims_create_recommender_response[\"recommenderArn\"]"
   ]
  },
  {
   "cell_type": "markdown",
   "id": "ed28c8fd-7490-4765-bc4e-867b11a7d710",
   "metadata": {},
   "source": [
    "### ソリューション・バージョンがアクティブになるのを待つ\n",
    "### 最後に、ソリューションバージョンが作成され終わるのを待ちます。このステップでPersonalizeはデータセットと選択されたレシピに基づいて機械学習モデルをトレーニングします。\n",
    "### また、Personalizeはインタラクションのデータセットをトレーニング部分と評価部分に分割し、トレーニング済みのモデルに対するレコメンデーションの品質を評価できるようにします。\n",
    "### 説明データを含むデータセットグループのソリューションバージョンは、説明データを含まないものよりもトレーニングに時間がかかることがわかります"
   ]
  },
  {
   "cell_type": "code",
   "execution_count": 26,
   "id": "7a0c4bae-7c6c-41e7-90ed-34ccaf6ffc04",
   "metadata": {},
   "outputs": [
    {
     "name": "stdout",
     "output_type": "stream",
     "text": [
      "Build succeeded for arn:aws:personalize:ap-northeast-1:627614495110:recommender/amazon-pantry-sims-solution-example\n",
      "CPU times: user 14.5 ms, sys: 4.2 ms, total: 18.7 ms\n",
      "Wall time: 190 ms\n"
     ]
    }
   ],
   "source": [
    "%%time\n",
    "\n",
    "max_time = time.time() + 10*60*60 # 10 hours\n",
    "while time.time() < max_time:\n",
    "    version_response = personalize.describe_recommender(\n",
    "        recommenderArn = sims_solution_arn\n",
    "    )\n",
    "    status = version_response[\"recommender\"][\"status\"]\n",
    "    \n",
    "    if status == \"ACTIVE\":\n",
    "        print(f\"Build succeeded for {sims_solution_arn}\")\n",
    "        break\n",
    "    elif status == \"CREATE FAILED\":\n",
    "        print(f\"Build failed for {sims_solution_arn}\")\n",
    "        break\n",
    "        \n",
    "    time.sleep(60)"
   ]
  },
  {
   "cell_type": "code",
   "execution_count": 31,
   "id": "d3c1bf7d-514b-4d75-b537-d80fdf728315",
   "metadata": {},
   "outputs": [
    {
     "data": {
      "text/html": [
       "<div>\n",
       "<style scoped>\n",
       "    .dataframe tbody tr th:only-of-type {\n",
       "        vertical-align: middle;\n",
       "    }\n",
       "\n",
       "    .dataframe tbody tr th {\n",
       "        vertical-align: top;\n",
       "    }\n",
       "\n",
       "    .dataframe thead th {\n",
       "        text-align: right;\n",
       "    }\n",
       "</style>\n",
       "<table border=\"1\" class=\"dataframe\">\n",
       "  <thead>\n",
       "    <tr style=\"text-align: right;\">\n",
       "      <th></th>\n",
       "      <th>USER_ID</th>\n",
       "      <th>ITEM_ID</th>\n",
       "      <th>TIMESTAMP</th>\n",
       "      <th>EVENT_TYPE</th>\n",
       "    </tr>\n",
       "  </thead>\n",
       "  <tbody>\n",
       "    <tr>\n",
       "      <th>2327</th>\n",
       "      <td>user_016</td>\n",
       "      <td>egg</td>\n",
       "      <td>1709410836</td>\n",
       "      <td>view</td>\n",
       "    </tr>\n",
       "  </tbody>\n",
       "</table>\n",
       "</div>"
      ],
      "text/plain": [
       "       USER_ID ITEM_ID   TIMESTAMP EVENT_TYPE\n",
       "2327  user_016     egg  1709410836       view"
      ]
     },
     "execution_count": 31,
     "metadata": {},
     "output_type": "execute_result"
    }
   ],
   "source": [
    "sample_df = search_log_df.sample()\n",
    "sample_df.head()"
   ]
  },
  {
   "cell_type": "code",
   "execution_count": 46,
   "id": "2c10a766-501b-4a15-a7da-3def34b60238",
   "metadata": {},
   "outputs": [],
   "source": [
    "get_recommendations_response = personalize_runtime.get_recommendations(\n",
    "    recommenderArn = sims_solution_arn,\n",
    "    itemId = sample_df[\"ITEM_ID\"].item(),\n",
    "    userId = sample_df[\"USER_ID\"].item(),\n",
    "    numResults = 3\n",
    ")"
   ]
  },
  {
   "cell_type": "code",
   "execution_count": 40,
   "id": "f02e3911-b577-4534-9c43-99eadcaa51d6",
   "metadata": {},
   "outputs": [
    {
     "name": "stdout",
     "output_type": "stream",
     "text": [
      "egg\n"
     ]
    }
   ],
   "source": [
    "search_query = sample_df[\"ITEM_ID\"].item()\n",
    "print(search_query)"
   ]
  },
  {
   "cell_type": "code",
   "execution_count": 41,
   "id": "509537dc-aa29-46ff-b45f-c31056fcd854",
   "metadata": {},
   "outputs": [
    {
     "data": {
      "text/html": [
       "<div>\n",
       "<style scoped>\n",
       "    .dataframe tbody tr th:only-of-type {\n",
       "        vertical-align: middle;\n",
       "    }\n",
       "\n",
       "    .dataframe tbody tr th {\n",
       "        vertical-align: top;\n",
       "    }\n",
       "\n",
       "    .dataframe thead th {\n",
       "        text-align: right;\n",
       "    }\n",
       "</style>\n",
       "<table border=\"1\" class=\"dataframe\">\n",
       "  <thead>\n",
       "    <tr style=\"text-align: right;\">\n",
       "      <th></th>\n",
       "      <th>ITEM_ID</th>\n",
       "      <th>COUNT</th>\n",
       "    </tr>\n",
       "  </thead>\n",
       "  <tbody>\n",
       "    <tr>\n",
       "      <th>11</th>\n",
       "      <td>egg</td>\n",
       "      <td>64</td>\n",
       "    </tr>\n",
       "  </tbody>\n",
       "</table>\n",
       "</div>"
      ],
      "text/plain": [
       "   ITEM_ID  COUNT\n",
       "11     egg     64"
      ]
     },
     "execution_count": 41,
     "metadata": {},
     "output_type": "execute_result"
    }
   ],
   "source": [
    "search_log_count_df.query(f'ITEM_ID==\"{search_query}\"')"
   ]
  },
  {
   "cell_type": "code",
   "execution_count": 57,
   "id": "fea591b1-9c80-4dfb-9f96-ae4b82b52694",
   "metadata": {},
   "outputs": [],
   "source": [
    "### search_query のワードが使われているTIMESTAMP\n",
    "cleaner_timestamps = search_log_df.loc[search_log_df['ITEM_ID'] == search_query, 'TIMESTAMP'].unique()"
   ]
  },
  {
   "cell_type": "code",
   "execution_count": 58,
   "id": "c3d0048c-f8f3-4069-8961-02ddcc79ddf0",
   "metadata": {},
   "outputs": [
    {
     "data": {
      "text/html": [
       "<div>\n",
       "<style scoped>\n",
       "    .dataframe tbody tr th:only-of-type {\n",
       "        vertical-align: middle;\n",
       "    }\n",
       "\n",
       "    .dataframe tbody tr th {\n",
       "        vertical-align: top;\n",
       "    }\n",
       "\n",
       "    .dataframe thead th {\n",
       "        text-align: right;\n",
       "    }\n",
       "</style>\n",
       "<table border=\"1\" class=\"dataframe\">\n",
       "  <thead>\n",
       "    <tr style=\"text-align: right;\">\n",
       "      <th></th>\n",
       "      <th>USER_ID</th>\n",
       "      <th>ITEM_ID</th>\n",
       "      <th>TIMESTAMP</th>\n",
       "      <th>EVENT_TYPE</th>\n",
       "    </tr>\n",
       "  </thead>\n",
       "  <tbody>\n",
       "    <tr>\n",
       "      <th>21</th>\n",
       "      <td>user_009</td>\n",
       "      <td>egg</td>\n",
       "      <td>1704758400</td>\n",
       "      <td>view</td>\n",
       "    </tr>\n",
       "    <tr>\n",
       "      <th>22</th>\n",
       "      <td>user_009</td>\n",
       "      <td>flour</td>\n",
       "      <td>1704758400</td>\n",
       "      <td>view</td>\n",
       "    </tr>\n",
       "    <tr>\n",
       "      <th>23</th>\n",
       "      <td>user_009</td>\n",
       "      <td>water</td>\n",
       "      <td>1704758400</td>\n",
       "      <td>view</td>\n",
       "    </tr>\n",
       "    <tr>\n",
       "      <th>105</th>\n",
       "      <td>user_012</td>\n",
       "      <td>butter</td>\n",
       "      <td>1707609600</td>\n",
       "      <td>view</td>\n",
       "    </tr>\n",
       "    <tr>\n",
       "      <th>106</th>\n",
       "      <td>user_012</td>\n",
       "      <td>egg</td>\n",
       "      <td>1707609600</td>\n",
       "      <td>view</td>\n",
       "    </tr>\n",
       "  </tbody>\n",
       "</table>\n",
       "</div>"
      ],
      "text/plain": [
       "      USER_ID ITEM_ID   TIMESTAMP EVENT_TYPE\n",
       "21   user_009     egg  1704758400       view\n",
       "22   user_009   flour  1704758400       view\n",
       "23   user_009   water  1704758400       view\n",
       "105  user_012  butter  1707609600       view\n",
       "106  user_012     egg  1707609600       view"
      ]
     },
     "execution_count": 58,
     "metadata": {},
     "output_type": "execute_result"
    }
   ],
   "source": [
    "co_searched_df = search_log_df[search_log_df['TIMESTAMP'].isin(cleaner_timestamps)]\n",
    "co_searched_df.head()"
   ]
  },
  {
   "cell_type": "code",
   "execution_count": 59,
   "id": "984b76a1-d96b-4805-9eee-4473687f3187",
   "metadata": {},
   "outputs": [
    {
     "name": "stdout",
     "output_type": "stream",
     "text": [
      "strawberry\n"
     ]
    },
    {
     "data": {
      "text/html": [
       "<div>\n",
       "<style scoped>\n",
       "    .dataframe tbody tr th:only-of-type {\n",
       "        vertical-align: middle;\n",
       "    }\n",
       "\n",
       "    .dataframe tbody tr th {\n",
       "        vertical-align: top;\n",
       "    }\n",
       "\n",
       "    .dataframe thead th {\n",
       "        text-align: right;\n",
       "    }\n",
       "</style>\n",
       "<table border=\"1\" class=\"dataframe\">\n",
       "  <thead>\n",
       "    <tr style=\"text-align: right;\">\n",
       "      <th></th>\n",
       "      <th>USER_ID</th>\n",
       "      <th>ITEM_ID</th>\n",
       "      <th>TIMESTAMP</th>\n",
       "      <th>EVENT_TYPE</th>\n",
       "    </tr>\n",
       "  </thead>\n",
       "  <tbody>\n",
       "    <tr>\n",
       "      <th>1774</th>\n",
       "      <td>user_013</td>\n",
       "      <td>strawberry</td>\n",
       "      <td>1725486631</td>\n",
       "      <td>view</td>\n",
       "    </tr>\n",
       "    <tr>\n",
       "      <th>4183</th>\n",
       "      <td>user_021</td>\n",
       "      <td>strawberry</td>\n",
       "      <td>1730511830</td>\n",
       "      <td>view</td>\n",
       "    </tr>\n",
       "    <tr>\n",
       "      <th>4806</th>\n",
       "      <td>user_028</td>\n",
       "      <td>strawberry</td>\n",
       "      <td>1721580554</td>\n",
       "      <td>view</td>\n",
       "    </tr>\n",
       "    <tr>\n",
       "      <th>1773</th>\n",
       "      <td>user_013</td>\n",
       "      <td>egg</td>\n",
       "      <td>1725486631</td>\n",
       "      <td>view</td>\n",
       "    </tr>\n",
       "    <tr>\n",
       "      <th>4182</th>\n",
       "      <td>user_021</td>\n",
       "      <td>egg</td>\n",
       "      <td>1730511830</td>\n",
       "      <td>view</td>\n",
       "    </tr>\n",
       "    <tr>\n",
       "      <th>4807</th>\n",
       "      <td>user_028</td>\n",
       "      <td>egg</td>\n",
       "      <td>1721580554</td>\n",
       "      <td>view</td>\n",
       "    </tr>\n",
       "  </tbody>\n",
       "</table>\n",
       "</div>"
      ],
      "text/plain": [
       "       USER_ID     ITEM_ID   TIMESTAMP EVENT_TYPE\n",
       "1774  user_013  strawberry  1725486631       view\n",
       "4183  user_021  strawberry  1730511830       view\n",
       "4806  user_028  strawberry  1721580554       view\n",
       "1773  user_013         egg  1725486631       view\n",
       "4182  user_021         egg  1730511830       view\n",
       "4807  user_028         egg  1721580554       view"
      ]
     },
     "metadata": {},
     "output_type": "display_data"
    },
    {
     "name": "stdout",
     "output_type": "stream",
     "text": [
      "bread\n"
     ]
    },
    {
     "data": {
      "text/html": [
       "<div>\n",
       "<style scoped>\n",
       "    .dataframe tbody tr th:only-of-type {\n",
       "        vertical-align: middle;\n",
       "    }\n",
       "\n",
       "    .dataframe tbody tr th {\n",
       "        vertical-align: top;\n",
       "    }\n",
       "\n",
       "    .dataframe thead th {\n",
       "        text-align: right;\n",
       "    }\n",
       "</style>\n",
       "<table border=\"1\" class=\"dataframe\">\n",
       "  <thead>\n",
       "    <tr style=\"text-align: right;\">\n",
       "      <th></th>\n",
       "      <th>USER_ID</th>\n",
       "      <th>ITEM_ID</th>\n",
       "      <th>TIMESTAMP</th>\n",
       "      <th>EVENT_TYPE</th>\n",
       "    </tr>\n",
       "  </thead>\n",
       "  <tbody>\n",
       "    <tr>\n",
       "      <th>1310</th>\n",
       "      <td>user_003</td>\n",
       "      <td>bread</td>\n",
       "      <td>1729694377</td>\n",
       "      <td>view</td>\n",
       "    </tr>\n",
       "    <tr>\n",
       "      <th>4053</th>\n",
       "      <td>user_015</td>\n",
       "      <td>bread</td>\n",
       "      <td>1735035886</td>\n",
       "      <td>view</td>\n",
       "    </tr>\n",
       "    <tr>\n",
       "      <th>1309</th>\n",
       "      <td>user_003</td>\n",
       "      <td>egg</td>\n",
       "      <td>1729694377</td>\n",
       "      <td>view</td>\n",
       "    </tr>\n",
       "    <tr>\n",
       "      <th>4054</th>\n",
       "      <td>user_015</td>\n",
       "      <td>egg</td>\n",
       "      <td>1735035886</td>\n",
       "      <td>view</td>\n",
       "    </tr>\n",
       "  </tbody>\n",
       "</table>\n",
       "</div>"
      ],
      "text/plain": [
       "       USER_ID ITEM_ID   TIMESTAMP EVENT_TYPE\n",
       "1310  user_003   bread  1729694377       view\n",
       "4053  user_015   bread  1735035886       view\n",
       "1309  user_003     egg  1729694377       view\n",
       "4054  user_015     egg  1735035886       view"
      ]
     },
     "metadata": {},
     "output_type": "display_data"
    },
    {
     "name": "stdout",
     "output_type": "stream",
     "text": [
      "bottle\n"
     ]
    },
    {
     "data": {
      "text/html": [
       "<div>\n",
       "<style scoped>\n",
       "    .dataframe tbody tr th:only-of-type {\n",
       "        vertical-align: middle;\n",
       "    }\n",
       "\n",
       "    .dataframe tbody tr th {\n",
       "        vertical-align: top;\n",
       "    }\n",
       "\n",
       "    .dataframe thead th {\n",
       "        text-align: right;\n",
       "    }\n",
       "</style>\n",
       "<table border=\"1\" class=\"dataframe\">\n",
       "  <thead>\n",
       "    <tr style=\"text-align: right;\">\n",
       "      <th></th>\n",
       "      <th>USER_ID</th>\n",
       "      <th>ITEM_ID</th>\n",
       "      <th>TIMESTAMP</th>\n",
       "      <th>EVENT_TYPE</th>\n",
       "    </tr>\n",
       "  </thead>\n",
       "  <tbody>\n",
       "    <tr>\n",
       "      <th>1645</th>\n",
       "      <td>user_016</td>\n",
       "      <td>bottle</td>\n",
       "      <td>1730379110</td>\n",
       "      <td>view</td>\n",
       "    </tr>\n",
       "    <tr>\n",
       "      <th>1646</th>\n",
       "      <td>user_016</td>\n",
       "      <td>egg</td>\n",
       "      <td>1730379110</td>\n",
       "      <td>view</td>\n",
       "    </tr>\n",
       "  </tbody>\n",
       "</table>\n",
       "</div>"
      ],
      "text/plain": [
       "       USER_ID ITEM_ID   TIMESTAMP EVENT_TYPE\n",
       "1645  user_016  bottle  1730379110       view\n",
       "1646  user_016     egg  1730379110       view"
      ]
     },
     "metadata": {},
     "output_type": "display_data"
    }
   ],
   "source": [
    "for dic in get_recommendations_response['itemList']:\n",
    "    print(dic[\"itemId\"])\n",
    "    target_df = co_searched_df.query(f'ITEM_ID == \"{dic[\"itemId\"]}\"')\n",
    "    \n",
    "    # 対象の TIMESTAMP をリストとして取得\n",
    "    timestamps = target_df[\"TIMESTAMP\"].tolist()\n",
    "    \n",
    "    # ITEM_ID が egg で、かつ TIMESTAMP が一致するデータを抽出\n",
    "    egg_df = co_searched_df.query('ITEM_ID == \"egg\" and TIMESTAMP in @timestamps')\n",
    "    \n",
    "    # 両方を結合して表示（必要なら順序やインデックス調整も）\n",
    "    display(pd.concat([target_df, egg_df]))"
   ]
  },
  {
   "cell_type": "markdown",
   "id": "e296f0d9-4d01-4187-923d-63ee6d3b2849",
   "metadata": {},
   "source": [
    "### リソースの削除"
   ]
  },
  {
   "cell_type": "code",
   "execution_count": null,
   "id": "a31efcd4-9639-44fa-9187-5aa3d9747fec",
   "metadata": {},
   "outputs": [],
   "source": [
    "# personalize.delete_campaign(campaignArn = campaign_arn)"
   ]
  },
  {
   "cell_type": "code",
   "execution_count": null,
   "id": "ea327542-528b-48d6-905d-07ddb3968e98",
   "metadata": {},
   "outputs": [],
   "source": []
  }
 ],
 "metadata": {
  "kernelspec": {
   "display_name": "Python 3 (ipykernel)",
   "language": "python",
   "name": "python3"
  },
  "language_info": {
   "codemirror_mode": {
    "name": "ipython",
    "version": 3
   },
   "file_extension": ".py",
   "mimetype": "text/x-python",
   "name": "python",
   "nbconvert_exporter": "python",
   "pygments_lexer": "ipython3",
   "version": "3.11.6"
  }
 },
 "nbformat": 4,
 "nbformat_minor": 5
}
